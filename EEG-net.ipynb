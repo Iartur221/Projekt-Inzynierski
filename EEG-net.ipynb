{
 "cells": [
  {
   "cell_type": "code",
   "execution_count": null,
   "metadata": {},
   "outputs": [],
   "source": [
    "import os\n",
    "import torch\n",
    "import torch.nn as nn\n",
    "import torch.optim as optim\n",
    "import torch.nn.functional as F\n",
    "from torch.utils.data import DataLoader, Dataset\n",
    "import numpy as np\n",
    "import pandas as pd\n",
    "from matplotlib import pyplot as plt\n",
    "from tqdm import tqdm\n",
    "from sklearn.metrics import accuracy_score, roc_auc_score, precision_recall_curve\n",
    "from scipy import stats"
   ]
  },
  {
   "cell_type": "markdown",
   "metadata": {},
   "source": [
    "Data prep"
   ]
  },
  {
   "cell_type": "code",
   "execution_count": 10,
   "metadata": {},
   "outputs": [
    {
     "data": {
      "text/html": [
       "<div>\n",
       "<style scoped>\n",
       "    .dataframe tbody tr th:only-of-type {\n",
       "        vertical-align: middle;\n",
       "    }\n",
       "\n",
       "    .dataframe tbody tr th {\n",
       "        vertical-align: top;\n",
       "    }\n",
       "\n",
       "    .dataframe thead th {\n",
       "        text-align: right;\n",
       "    }\n",
       "</style>\n",
       "<table border=\"1\" class=\"dataframe\">\n",
       "  <thead>\n",
       "    <tr style=\"text-align: right;\">\n",
       "      <th></th>\n",
       "      <th>Time:128Hz</th>\n",
       "      <th>Epoch</th>\n",
       "      <th>AF3</th>\n",
       "      <th>F7</th>\n",
       "      <th>F3</th>\n",
       "      <th>FC5</th>\n",
       "      <th>T7</th>\n",
       "      <th>P7</th>\n",
       "      <th>O1</th>\n",
       "      <th>O2</th>\n",
       "      <th>P8</th>\n",
       "      <th>T8</th>\n",
       "      <th>FC6</th>\n",
       "      <th>F4</th>\n",
       "      <th>F8</th>\n",
       "      <th>AF4</th>\n",
       "      <th>Event Id</th>\n",
       "      <th>Event Date</th>\n",
       "      <th>Event Duration</th>\n",
       "    </tr>\n",
       "  </thead>\n",
       "  <tbody>\n",
       "    <tr>\n",
       "      <th>0</th>\n",
       "      <td>0.000000</td>\n",
       "      <td>0</td>\n",
       "      <td>4168.974121</td>\n",
       "      <td>4152.436035</td>\n",
       "      <td>4161.025879</td>\n",
       "      <td>4124.358887</td>\n",
       "      <td>4158.205078</td>\n",
       "      <td>4162.948730</td>\n",
       "      <td>4162.436035</td>\n",
       "      <td>4163.205078</td>\n",
       "      <td>4168.589844</td>\n",
       "      <td>4166.666504</td>\n",
       "      <td>4225.897461</td>\n",
       "      <td>4172.051270</td>\n",
       "      <td>4192.948730</td>\n",
       "      <td>4170.897461</td>\n",
       "      <td>NaN</td>\n",
       "      <td>NaN</td>\n",
       "      <td>NaN</td>\n",
       "    </tr>\n",
       "    <tr>\n",
       "      <th>1</th>\n",
       "      <td>0.007812</td>\n",
       "      <td>0</td>\n",
       "      <td>4171.794922</td>\n",
       "      <td>4157.436035</td>\n",
       "      <td>4163.974121</td>\n",
       "      <td>4132.948730</td>\n",
       "      <td>4156.666504</td>\n",
       "      <td>4164.102539</td>\n",
       "      <td>4159.358887</td>\n",
       "      <td>4164.743652</td>\n",
       "      <td>4163.205078</td>\n",
       "      <td>4167.563965</td>\n",
       "      <td>4217.307617</td>\n",
       "      <td>4167.948730</td>\n",
       "      <td>4186.025879</td>\n",
       "      <td>4173.077148</td>\n",
       "      <td>NaN</td>\n",
       "      <td>NaN</td>\n",
       "      <td>NaN</td>\n",
       "    </tr>\n",
       "    <tr>\n",
       "      <th>2</th>\n",
       "      <td>0.015625</td>\n",
       "      <td>0</td>\n",
       "      <td>4174.487305</td>\n",
       "      <td>4159.743652</td>\n",
       "      <td>4168.589844</td>\n",
       "      <td>4139.615234</td>\n",
       "      <td>4159.615234</td>\n",
       "      <td>4161.666504</td>\n",
       "      <td>4161.794922</td>\n",
       "      <td>4166.794922</td>\n",
       "      <td>4160.128418</td>\n",
       "      <td>4167.051270</td>\n",
       "      <td>4220.000000</td>\n",
       "      <td>4166.794922</td>\n",
       "      <td>4184.743652</td>\n",
       "      <td>4170.769043</td>\n",
       "      <td>NaN</td>\n",
       "      <td>NaN</td>\n",
       "      <td>NaN</td>\n",
       "    </tr>\n",
       "    <tr>\n",
       "      <th>3</th>\n",
       "      <td>0.023438</td>\n",
       "      <td>0</td>\n",
       "      <td>4161.410156</td>\n",
       "      <td>4153.589844</td>\n",
       "      <td>4161.282227</td>\n",
       "      <td>4134.871582</td>\n",
       "      <td>4161.666504</td>\n",
       "      <td>4162.563965</td>\n",
       "      <td>4164.358887</td>\n",
       "      <td>4164.743652</td>\n",
       "      <td>4160.641113</td>\n",
       "      <td>4165.769043</td>\n",
       "      <td>4209.871582</td>\n",
       "      <td>4155.769043</td>\n",
       "      <td>4179.230957</td>\n",
       "      <td>4161.153809</td>\n",
       "      <td>NaN</td>\n",
       "      <td>NaN</td>\n",
       "      <td>NaN</td>\n",
       "    </tr>\n",
       "    <tr>\n",
       "      <th>4</th>\n",
       "      <td>0.031250</td>\n",
       "      <td>1</td>\n",
       "      <td>4147.563965</td>\n",
       "      <td>4148.333496</td>\n",
       "      <td>4156.282227</td>\n",
       "      <td>4136.794922</td>\n",
       "      <td>4161.794922</td>\n",
       "      <td>4163.333496</td>\n",
       "      <td>4162.436035</td>\n",
       "      <td>4162.307617</td>\n",
       "      <td>4166.538574</td>\n",
       "      <td>4165.128418</td>\n",
       "      <td>4197.948730</td>\n",
       "      <td>4147.179688</td>\n",
       "      <td>4173.589844</td>\n",
       "      <td>4151.153809</td>\n",
       "      <td>NaN</td>\n",
       "      <td>NaN</td>\n",
       "      <td>NaN</td>\n",
       "    </tr>\n",
       "  </tbody>\n",
       "</table>\n",
       "</div>"
      ],
      "text/plain": [
       "   Time:128Hz  Epoch          AF3           F7           F3          FC5  \\\n",
       "0    0.000000      0  4168.974121  4152.436035  4161.025879  4124.358887   \n",
       "1    0.007812      0  4171.794922  4157.436035  4163.974121  4132.948730   \n",
       "2    0.015625      0  4174.487305  4159.743652  4168.589844  4139.615234   \n",
       "3    0.023438      0  4161.410156  4153.589844  4161.282227  4134.871582   \n",
       "4    0.031250      1  4147.563965  4148.333496  4156.282227  4136.794922   \n",
       "\n",
       "            T7           P7           O1           O2           P8  \\\n",
       "0  4158.205078  4162.948730  4162.436035  4163.205078  4168.589844   \n",
       "1  4156.666504  4164.102539  4159.358887  4164.743652  4163.205078   \n",
       "2  4159.615234  4161.666504  4161.794922  4166.794922  4160.128418   \n",
       "3  4161.666504  4162.563965  4164.358887  4164.743652  4160.641113   \n",
       "4  4161.794922  4163.333496  4162.436035  4162.307617  4166.538574   \n",
       "\n",
       "            T8          FC6           F4           F8          AF4  Event Id  \\\n",
       "0  4166.666504  4225.897461  4172.051270  4192.948730  4170.897461       NaN   \n",
       "1  4167.563965  4217.307617  4167.948730  4186.025879  4173.077148       NaN   \n",
       "2  4167.051270  4220.000000  4166.794922  4184.743652  4170.769043       NaN   \n",
       "3  4165.769043  4209.871582  4155.769043  4179.230957  4161.153809       NaN   \n",
       "4  4165.128418  4197.948730  4147.179688  4173.589844  4151.153809       NaN   \n",
       "\n",
       "   Event Date  Event Duration  \n",
       "0         NaN             NaN  \n",
       "1         NaN             NaN  \n",
       "2         NaN             NaN  \n",
       "3         NaN             NaN  \n",
       "4         NaN             NaN  "
      ]
     },
     "execution_count": 10,
     "metadata": {},
     "output_type": "execute_result"
    }
   ],
   "source": [
    "df = pd.read_csv(\"our data/Art1.csv\")\n",
    "df.head()"
   ]
  },
  {
   "cell_type": "code",
   "execution_count": 14,
   "metadata": {},
   "outputs": [
    {
     "name": "stdout",
     "output_type": "stream",
     "text": [
      "Processed and saved: Art1.csv\n",
      "Processed and saved: Art10.csv\n",
      "Processed and saved: Art11.csv\n",
      "Processed and saved: Art12.csv\n",
      "Processed and saved: Art13.csv\n",
      "Processed and saved: Art14.csv\n",
      "Processed and saved: Art15.csv\n",
      "Processed and saved: Art16.csv\n",
      "Processed and saved: Art17.csv\n",
      "Processed and saved: Art18.csv\n",
      "Processed and saved: Art19.csv\n",
      "Processed and saved: Art2.csv\n",
      "Processed and saved: Art20.csv\n",
      "Processed and saved: Art21.csv\n",
      "Processed and saved: Art22.csv\n",
      "Processed and saved: Art23.csv\n",
      "Processed and saved: Art24.csv\n",
      "Processed and saved: Art25.csv\n",
      "Processed and saved: Art26.csv\n",
      "Processed and saved: Art27.csv\n",
      "Processed and saved: Art28.csv\n",
      "Processed and saved: Art29.csv\n",
      "Processed and saved: Art3.csv\n",
      "Processed and saved: Art30.csv\n",
      "Processed and saved: Art31.csv\n",
      "Processed and saved: Art32.csv\n",
      "Processed and saved: Art33.csv\n",
      "Processed and saved: Art34.csv\n",
      "Processed and saved: Art35.csv\n",
      "Processed and saved: Art36.csv\n",
      "Processed and saved: Art37.csv\n",
      "Processed and saved: Art38.csv\n",
      "Processed and saved: Art39.csv\n",
      "Processed and saved: Art4.csv\n",
      "Processed and saved: Art40.csv\n",
      "Processed and saved: Art41.csv\n",
      "Processed and saved: Art42.csv\n",
      "Processed and saved: Art43.csv\n",
      "Processed and saved: Art44.csv\n",
      "Processed and saved: Art45.csv\n",
      "Processed and saved: Art5.csv\n",
      "Processed and saved: Art6.csv\n",
      "Processed and saved: Art7.csv\n",
      "Processed and saved: Art8.csv\n",
      "Processed and saved: Art9.csv\n",
      "Processed and saved: Artlog-oli1.csv\n",
      "Processed and saved: Artlog-oli2.csv\n",
      "Processed and saved: Artlog-oli3.csv\n",
      "Processed and saved: Artlog-random1.csv\n",
      "Processed and saved: Artlog-random2.csv\n",
      "Processed and saved: Artlog-random3.csv\n",
      "Processed and saved: Artlog-tym1.csv\n",
      "Processed and saved: Artlog-tym2.csv\n",
      "Processed and saved: Artlog-tym3.csv\n",
      "Processed and saved: Artlog1.csv\n",
      "Processed and saved: Artlog2.csv\n",
      "Processed and saved: Artlog3.csv\n",
      "Processed and saved: Oli1.csv\n",
      "Processed and saved: Oli10.csv\n",
      "Processed and saved: Oli11.csv\n",
      "Processed and saved: Oli12.csv\n",
      "Processed and saved: Oli13.csv\n",
      "Processed and saved: Oli14.csv\n",
      "Processed and saved: Oli15.csv\n",
      "Processed and saved: Oli16.csv\n",
      "Processed and saved: Oli17.csv\n",
      "Processed and saved: Oli18.csv\n",
      "Processed and saved: Oli19.csv\n",
      "Processed and saved: Oli2.csv\n",
      "Processed and saved: Oli20.csv\n",
      "Processed and saved: Oli21.csv\n",
      "Processed and saved: Oli22.csv\n",
      "Processed and saved: Oli23.csv\n",
      "Processed and saved: Oli24.csv\n",
      "Processed and saved: Oli25.csv\n",
      "Processed and saved: Oli26.csv\n",
      "Processed and saved: Oli27.csv\n",
      "Processed and saved: Oli28.csv\n",
      "Processed and saved: Oli29.csv\n",
      "Processed and saved: Oli3.csv\n",
      "Processed and saved: Oli30.csv\n",
      "Processed and saved: Oli31.csv\n",
      "Processed and saved: Oli32.csv\n",
      "Processed and saved: Oli33.csv\n",
      "Processed and saved: Oli34.csv\n",
      "Processed and saved: Oli35.csv\n",
      "Processed and saved: Oli36.csv\n",
      "Processed and saved: Oli37.csv\n",
      "Processed and saved: Oli38.csv\n",
      "Processed and saved: Oli39.csv\n",
      "Processed and saved: Oli4.csv\n",
      "Processed and saved: Oli40.csv\n",
      "Processed and saved: Oli41.csv\n",
      "Processed and saved: Oli42.csv\n",
      "Processed and saved: Oli43.csv\n",
      "Processed and saved: Oli44.csv\n",
      "Processed and saved: Oli45.csv\n",
      "Processed and saved: Oli5.csv\n",
      "Processed and saved: Oli6.csv\n",
      "Processed and saved: Oli7.csv\n",
      "Processed and saved: Oli8.csv\n",
      "Processed and saved: Oli9.csv\n",
      "Processed and saved: Olilog-Ar1.csv\n",
      "Processed and saved: Olilog-Ar2.csv\n",
      "Processed and saved: Olilog-Ar3.csv\n",
      "Processed and saved: Olilog-random1.csv\n",
      "Processed and saved: Olilog-random2.csv\n",
      "Processed and saved: Olilog-random3.csv\n",
      "Processed and saved: Olilog-tym1.csv\n",
      "Processed and saved: Olilog-tym2.csv\n",
      "Processed and saved: Olilog-tym3.csv\n",
      "Processed and saved: Olilog1.csv\n",
      "Processed and saved: Olilog2.csv\n",
      "Processed and saved: Olilog3.csv\n",
      "Processed and saved: Tym1.csv\n",
      "Processed and saved: Tym10.csv\n",
      "Processed and saved: Tym11.csv\n",
      "Processed and saved: Tym12.csv\n",
      "Processed and saved: Tym13.csv\n",
      "Processed and saved: Tym14.csv\n",
      "Processed and saved: Tym15.csv\n",
      "Processed and saved: Tym16.csv\n",
      "Processed and saved: Tym17.csv\n",
      "Processed and saved: Tym18.csv\n",
      "Processed and saved: Tym19.csv\n",
      "Processed and saved: Tym2.csv\n",
      "Processed and saved: Tym20.csv\n",
      "Processed and saved: Tym21.csv\n",
      "Processed and saved: Tym22.csv\n",
      "Processed and saved: Tym23.csv\n",
      "Processed and saved: Tym24.csv\n",
      "Processed and saved: Tym25.csv\n",
      "Processed and saved: Tym26.csv\n",
      "Processed and saved: Tym27.csv\n",
      "Processed and saved: Tym28.csv\n",
      "Processed and saved: Tym29.csv\n",
      "Processed and saved: Tym3.csv\n",
      "Processed and saved: Tym30.csv\n",
      "Processed and saved: Tym31.csv\n",
      "Processed and saved: Tym32.csv\n",
      "Processed and saved: Tym33.csv\n",
      "Processed and saved: Tym34.csv\n",
      "Processed and saved: Tym35.csv\n",
      "Processed and saved: Tym36.csv\n",
      "Processed and saved: Tym37.csv\n",
      "Processed and saved: Tym38.csv\n",
      "Processed and saved: Tym39.csv\n",
      "Processed and saved: Tym4.csv\n",
      "Processed and saved: Tym40.csv\n",
      "Processed and saved: Tym41.csv\n",
      "Processed and saved: Tym42.csv\n",
      "Processed and saved: Tym43.csv\n",
      "Processed and saved: Tym44.csv\n",
      "Processed and saved: Tym45.csv\n",
      "Processed and saved: Tym5.csv\n",
      "Processed and saved: Tym6.csv\n",
      "Processed and saved: Tym7.csv\n",
      "Processed and saved: Tym8.csv\n",
      "Processed and saved: Tym9.csv\n",
      "Processed and saved: Tymlog-art1.csv\n",
      "Processed and saved: Tymlog-art2.csv\n",
      "Processed and saved: Tymlog-art3.csv\n",
      "Processed and saved: Tymlog-oli1.csv\n",
      "Processed and saved: Tymlog-oli2.csv\n",
      "Processed and saved: Tymlog-oli3.csv\n",
      "Processed and saved: Tymlog-random1.csv\n",
      "Processed and saved: Tymlog-random2.csv\n",
      "Processed and saved: Tymlog-random3.csv\n",
      "Processed and saved: Tymlog1.csv\n",
      "Processed and saved: Tymlog2.csv\n",
      "Processed and saved: Tymlog3.csv\n",
      "All files processed successfully!\n"
     ]
    }
   ],
   "source": [
    "# Define input and output directories\n",
    "input_folder = \"our data\"  # Replace with the path to your source folder\n",
    "output_folder = \"ourdata_prepared\"  # Replace with the path to your target folder\n",
    "\n",
    "# Ensure the output directory exists\n",
    "os.makedirs(output_folder, exist_ok=True)\n",
    "\n",
    "# Processing parameters\n",
    "sampling_rate = 128  # 128 Hz timescale\n",
    "cut_time_seconds = 4.5  # Time to cut in seconds\n",
    "rows_to_cut = int(sampling_rate * cut_time_seconds)  # Number of rows to cut\n",
    "\n",
    "# Loop through all CSV files in the input folder\n",
    "for filename in os.listdir(input_folder):\n",
    "    if filename.endswith(\".csv\"):  # Process only CSV files\n",
    "        input_path = os.path.join(input_folder, filename)\n",
    "        output_path = os.path.join(output_folder, filename)\n",
    "\n",
    "        # Read the CSV file\n",
    "        df = pd.read_csv(input_path)\n",
    "\n",
    "        # Cut the first 4.5 seconds (first `rows_to_cut` rows)\n",
    "        df = df.iloc[rows_to_cut:]\n",
    "        \n",
    "        # Drop the first 2 columns\n",
    "        df = df.iloc[:, 2:]\n",
    "\n",
    "        # Drop the last 3 columns\n",
    "        df = df.iloc[:, :-3]\n",
    "\n",
    "        # Save the processed file to the output folder\n",
    "        df.to_csv(output_path, index=False)\n",
    "\n",
    "        print(f\"Processed and saved: {filename}\")\n",
    "\n",
    "print(\"All files processed successfully!\")\n"
   ]
  },
  {
   "cell_type": "markdown",
   "metadata": {},
   "source": [
    "Testy Shapiro-Wilka dla sprawdzenia czy mamy do czynienia z rozkładem normalnym:"
   ]
  },
  {
   "cell_type": "code",
   "execution_count": 17,
   "metadata": {},
   "outputs": [
    {
     "name": "stdout",
     "output_type": "stream",
     "text": [
      "Art1.csv - 3/14 columns follow normal distribution\n",
      "Art10.csv - 3/14 columns follow normal distribution\n",
      "Art11.csv - 3/14 columns follow normal distribution\n",
      "Art12.csv - 0/14 columns follow normal distribution\n",
      "Art13.csv - 1/14 columns follow normal distribution\n",
      "Art14.csv - 2/14 columns follow normal distribution\n",
      "Art15.csv - 0/14 columns follow normal distribution\n",
      "Art16.csv - 2/14 columns follow normal distribution\n",
      "Art17.csv - 2/14 columns follow normal distribution\n",
      "Art18.csv - 3/14 columns follow normal distribution\n",
      "Art19.csv - 2/14 columns follow normal distribution\n",
      "Art2.csv - 3/14 columns follow normal distribution\n",
      "Art20.csv - 1/14 columns follow normal distribution\n",
      "Art21.csv - 3/14 columns follow normal distribution\n",
      "Art22.csv - 2/14 columns follow normal distribution\n",
      "Art23.csv - 2/14 columns follow normal distribution\n",
      "Art24.csv - 3/14 columns follow normal distribution\n",
      "Art25.csv - 1/14 columns follow normal distribution\n",
      "Art26.csv - 2/14 columns follow normal distribution\n",
      "Art27.csv - 3/14 columns follow normal distribution\n",
      "Art28.csv - 1/14 columns follow normal distribution\n",
      "Art29.csv - 2/14 columns follow normal distribution\n",
      "Art3.csv - 0/14 columns follow normal distribution\n",
      "Art30.csv - 1/14 columns follow normal distribution\n",
      "Art31.csv - 2/14 columns follow normal distribution\n",
      "Art32.csv - 3/14 columns follow normal distribution\n",
      "Art33.csv - 3/14 columns follow normal distribution\n",
      "Art34.csv - 3/14 columns follow normal distribution\n",
      "Art35.csv - 2/14 columns follow normal distribution\n",
      "Art36.csv - 1/14 columns follow normal distribution\n",
      "Art37.csv - 1/14 columns follow normal distribution\n",
      "Art38.csv - 1/14 columns follow normal distribution\n",
      "Art39.csv - 1/14 columns follow normal distribution\n",
      "Art4.csv - 1/14 columns follow normal distribution\n",
      "Art40.csv - 2/14 columns follow normal distribution\n",
      "Art41.csv - 2/14 columns follow normal distribution\n",
      "Art42.csv - 2/14 columns follow normal distribution\n",
      "Art43.csv - 3/14 columns follow normal distribution\n",
      "Art44.csv - 2/14 columns follow normal distribution\n",
      "Art45.csv - 1/14 columns follow normal distribution\n",
      "Art5.csv - 0/14 columns follow normal distribution\n",
      "Art6.csv - 1/14 columns follow normal distribution\n",
      "Art7.csv - 1/14 columns follow normal distribution\n",
      "Art8.csv - 1/14 columns follow normal distribution\n",
      "Art9.csv - 2/14 columns follow normal distribution\n",
      "Artlog-oli1.csv - 3/14 columns follow normal distribution\n",
      "Artlog-oli2.csv - 2/14 columns follow normal distribution\n",
      "Artlog-oli3.csv - 3/14 columns follow normal distribution\n",
      "Artlog-random1.csv - 3/14 columns follow normal distribution\n",
      "Artlog-random2.csv - 5/14 columns follow normal distribution\n",
      "Artlog-random3.csv - 1/14 columns follow normal distribution\n",
      "Artlog-tym1.csv - 4/14 columns follow normal distribution\n",
      "Artlog-tym2.csv - 5/14 columns follow normal distribution\n",
      "Artlog-tym3.csv - 3/14 columns follow normal distribution\n",
      "Artlog1.csv - 1/14 columns follow normal distribution\n",
      "Artlog2.csv - 2/14 columns follow normal distribution\n",
      "Artlog3.csv - 3/14 columns follow normal distribution\n",
      "Oli1.csv - 1/14 columns follow normal distribution\n",
      "Oli10.csv - 3/14 columns follow normal distribution\n",
      "Oli11.csv - 2/14 columns follow normal distribution\n",
      "Oli12.csv - 2/14 columns follow normal distribution\n",
      "Oli13.csv - 3/14 columns follow normal distribution\n",
      "Oli14.csv - 2/14 columns follow normal distribution\n",
      "Oli15.csv - 2/14 columns follow normal distribution\n",
      "Oli16.csv - 4/14 columns follow normal distribution\n",
      "Oli17.csv - 3/14 columns follow normal distribution\n",
      "Oli18.csv - 3/14 columns follow normal distribution\n",
      "Oli19.csv - 2/14 columns follow normal distribution\n",
      "Oli2.csv - 3/14 columns follow normal distribution\n",
      "Oli20.csv - 2/14 columns follow normal distribution\n",
      "Oli21.csv - 1/14 columns follow normal distribution\n",
      "Oli22.csv - 3/14 columns follow normal distribution\n",
      "Oli23.csv - 3/14 columns follow normal distribution\n",
      "Oli24.csv - 2/14 columns follow normal distribution\n",
      "Oli25.csv - 3/14 columns follow normal distribution\n",
      "Oli26.csv - 0/14 columns follow normal distribution\n",
      "Oli27.csv - 3/14 columns follow normal distribution\n",
      "Oli28.csv - 3/14 columns follow normal distribution\n",
      "Oli29.csv - 2/14 columns follow normal distribution\n",
      "Oli3.csv - 1/14 columns follow normal distribution\n",
      "Oli30.csv - 2/14 columns follow normal distribution\n",
      "Oli31.csv - 2/14 columns follow normal distribution\n",
      "Oli32.csv - 2/14 columns follow normal distribution\n",
      "Oli33.csv - 2/14 columns follow normal distribution\n",
      "Oli34.csv - 3/14 columns follow normal distribution\n",
      "Oli35.csv - 3/14 columns follow normal distribution\n",
      "Oli36.csv - 2/14 columns follow normal distribution\n",
      "Oli37.csv - 3/14 columns follow normal distribution\n",
      "Oli38.csv - 3/14 columns follow normal distribution\n",
      "Oli39.csv - 3/14 columns follow normal distribution\n",
      "Oli4.csv - 2/14 columns follow normal distribution\n",
      "Oli40.csv - 2/14 columns follow normal distribution\n",
      "Oli41.csv - 3/14 columns follow normal distribution\n",
      "Oli42.csv - 3/14 columns follow normal distribution\n",
      "Oli43.csv - 3/14 columns follow normal distribution\n",
      "Oli44.csv - 2/14 columns follow normal distribution\n",
      "Oli45.csv - 2/14 columns follow normal distribution\n",
      "Oli5.csv - 3/14 columns follow normal distribution\n",
      "Oli6.csv - 2/14 columns follow normal distribution\n",
      "Oli7.csv - 1/14 columns follow normal distribution\n",
      "Oli8.csv - 1/14 columns follow normal distribution\n",
      "Oli9.csv - 2/14 columns follow normal distribution\n",
      "Olilog-Ar1.csv - 2/14 columns follow normal distribution\n",
      "Olilog-Ar3.csv - 2/14 columns follow normal distribution\n",
      "Olilog-random1.csv - 3/14 columns follow normal distribution\n",
      "Olilog-random2.csv - 3/14 columns follow normal distribution\n",
      "Olilog-random3.csv - 2/14 columns follow normal distribution\n",
      "Olilog-tym1.csv - 3/14 columns follow normal distribution\n",
      "Olilog-tym2.csv - 3/14 columns follow normal distribution\n",
      "Olilog-tym3.csv - 2/14 columns follow normal distribution\n",
      "Olilog1.csv - 3/14 columns follow normal distribution\n",
      "Olilog2.csv - 3/14 columns follow normal distribution\n",
      "Olilog3.csv - 3/14 columns follow normal distribution\n",
      "Tym1.csv - 3/14 columns follow normal distribution\n",
      "Tym10.csv - 3/14 columns follow normal distribution\n",
      "Tym11.csv - 3/14 columns follow normal distribution\n",
      "Tym12.csv - 3/14 columns follow normal distribution\n",
      "Tym13.csv - 3/14 columns follow normal distribution\n",
      "Tym14.csv - 3/14 columns follow normal distribution\n",
      "Tym15.csv - 4/14 columns follow normal distribution\n",
      "Tym16.csv - 2/14 columns follow normal distribution\n",
      "Tym17.csv - 3/14 columns follow normal distribution\n",
      "Tym18.csv - 3/14 columns follow normal distribution\n",
      "Tym19.csv - 4/14 columns follow normal distribution\n",
      "Tym2.csv - 3/14 columns follow normal distribution\n",
      "Tym20.csv - 4/14 columns follow normal distribution\n",
      "Tym21.csv - 4/14 columns follow normal distribution\n",
      "Tym22.csv - 3/14 columns follow normal distribution\n",
      "Tym23.csv - 4/14 columns follow normal distribution\n",
      "Tym24.csv - 4/14 columns follow normal distribution\n",
      "Tym25.csv - 3/14 columns follow normal distribution\n",
      "Tym26.csv - 3/14 columns follow normal distribution\n",
      "Tym27.csv - 3/14 columns follow normal distribution\n",
      "Tym28.csv - 3/14 columns follow normal distribution\n",
      "Tym29.csv - 3/14 columns follow normal distribution\n",
      "Tym3.csv - 4/14 columns follow normal distribution\n",
      "Tym30.csv - 3/14 columns follow normal distribution\n",
      "Tym31.csv - 4/14 columns follow normal distribution\n",
      "Tym32.csv - 4/14 columns follow normal distribution\n",
      "Tym33.csv - 3/14 columns follow normal distribution\n",
      "Tym34.csv - 2/14 columns follow normal distribution\n",
      "Tym35.csv - 1/14 columns follow normal distribution\n",
      "Tym36.csv - 2/14 columns follow normal distribution\n",
      "Tym37.csv - 3/14 columns follow normal distribution\n",
      "Tym38.csv - 3/14 columns follow normal distribution\n",
      "Tym39.csv - 3/14 columns follow normal distribution\n",
      "Tym4.csv - 2/14 columns follow normal distribution\n",
      "Tym40.csv - 3/14 columns follow normal distribution\n",
      "Tym41.csv - 2/14 columns follow normal distribution\n",
      "Tym42.csv - 1/14 columns follow normal distribution\n",
      "Tym43.csv - 4/14 columns follow normal distribution\n",
      "Tym44.csv - 2/14 columns follow normal distribution\n",
      "Tym45.csv - 2/14 columns follow normal distribution\n",
      "Tym5.csv - 3/14 columns follow normal distribution\n",
      "Tym6.csv - 3/14 columns follow normal distribution\n",
      "Tym7.csv - 4/14 columns follow normal distribution\n",
      "Tym8.csv - 3/14 columns follow normal distribution\n",
      "Tym9.csv - 3/14 columns follow normal distribution\n",
      "Tymlog-art1.csv - 4/14 columns follow normal distribution\n",
      "Tymlog-art2.csv - 2/14 columns follow normal distribution\n",
      "Tymlog-art3.csv - 2/14 columns follow normal distribution\n",
      "Tymlog-oli1.csv - 2/14 columns follow normal distribution\n",
      "Tymlog-oli2.csv - 4/14 columns follow normal distribution\n",
      "Tymlog-oli3.csv - 4/14 columns follow normal distribution\n",
      "Tymlog-random1.csv - 3/14 columns follow normal distribution\n",
      "Tymlog-random2.csv - 2/14 columns follow normal distribution\n",
      "Tymlog-random3.csv - 3/14 columns follow normal distribution\n",
      "Tymlog1.csv - 4/14 columns follow normal distribution\n",
      "Tymlog2.csv - 2/14 columns follow normal distribution\n",
      "Tymlog3.csv - 3/14 columns follow normal distribution\n"
     ]
    }
   ],
   "source": [
    "input_folder = \"ourdata_prepared\"  # Replace with the folder path\n",
    "\n",
    "# Loop through all the EEG data files\n",
    "for filename in os.listdir(input_folder):\n",
    "    if filename.endswith(\".csv\"):  # Check only CSV files\n",
    "        filepath = os.path.join(input_folder, filename)\n",
    "        df = pd.read_csv(filepath)\n",
    "\n",
    "        # Initialize counter for columns passing Shapiro-Wilk test\n",
    "        normal_count = 0\n",
    "        total_columns = len(df.columns)\n",
    "\n",
    "        # Loop through each channel (column) in the dataframe\n",
    "        for col in df.columns:\n",
    "            # Perform Shapiro-Wilk test for normality\n",
    "            stat, p_value = stats.shapiro(df[col])\n",
    "\n",
    "            if p_value >= 0.05:\n",
    "                normal_count += 1  # Column follows normal distribution\n",
    "\n",
    "        # Print the result for the file\n",
    "        print(f\"{filename} - {normal_count}/{total_columns} columns follow normal distribution\")"
   ]
  },
  {
   "cell_type": "markdown",
   "metadata": {},
   "source": [
    "Niewielka ilość danych posiada rozkład normalny, tak więc zastosujemy inną metodę normalizacji niż standaryzacja Z. Zastosowaliśmy algorytm RobustScaler"
   ]
  },
  {
   "cell_type": "code",
   "execution_count": 9,
   "metadata": {},
   "outputs": [
    {
     "name": "stdout",
     "output_type": "stream",
     "text": [
      "Processed and saved: Art1.csv\n",
      "Processed and saved: Art10.csv\n",
      "Processed and saved: Art11.csv\n",
      "Processed and saved: Art12.csv\n",
      "Processed and saved: Art13.csv\n",
      "Processed and saved: Art14.csv\n",
      "Processed and saved: Art15.csv\n",
      "Processed and saved: Art16.csv\n",
      "Processed and saved: Art17.csv\n",
      "Processed and saved: Art18.csv\n",
      "Processed and saved: Art19.csv\n",
      "Processed and saved: Art2.csv\n",
      "Processed and saved: Art20.csv\n",
      "Processed and saved: Art21.csv\n",
      "Processed and saved: Art22.csv\n",
      "Processed and saved: Art23.csv\n",
      "Processed and saved: Art24.csv\n",
      "Processed and saved: Art25.csv\n",
      "Processed and saved: Art26.csv\n",
      "Processed and saved: Art27.csv\n",
      "Processed and saved: Art28.csv\n",
      "Processed and saved: Art29.csv\n",
      "Processed and saved: Art3.csv\n",
      "Processed and saved: Art30.csv\n",
      "Processed and saved: Art31.csv\n",
      "Processed and saved: Art32.csv\n",
      "Processed and saved: Art33.csv\n",
      "Processed and saved: Art34.csv\n",
      "Processed and saved: Art35.csv\n",
      "Processed and saved: Art36.csv\n",
      "Processed and saved: Art37.csv\n",
      "Processed and saved: Art38.csv\n",
      "Processed and saved: Art39.csv\n",
      "Processed and saved: Art4.csv\n",
      "Processed and saved: Art40.csv\n",
      "Processed and saved: Art41.csv\n",
      "Processed and saved: Art42.csv\n",
      "Processed and saved: Art43.csv\n",
      "Processed and saved: Art44.csv\n",
      "Processed and saved: Art45.csv\n",
      "Processed and saved: Art5.csv\n",
      "Processed and saved: Art6.csv\n",
      "Processed and saved: Art7.csv\n",
      "Processed and saved: Art8.csv\n",
      "Processed and saved: Art9.csv\n",
      "Processed and saved: Artlog-oli1.csv\n",
      "Processed and saved: Artlog-oli2.csv\n",
      "Processed and saved: Artlog-oli3.csv\n",
      "Processed and saved: Artlog-random1.csv\n",
      "Processed and saved: Artlog-random2.csv\n",
      "Processed and saved: Artlog-random3.csv\n",
      "Processed and saved: Artlog-tym1.csv\n",
      "Processed and saved: Artlog-tym2.csv\n",
      "Processed and saved: Artlog-tym3.csv\n",
      "Processed and saved: Artlog1.csv\n",
      "Processed and saved: Artlog2.csv\n",
      "Processed and saved: Artlog3.csv\n",
      "Processed and saved: Oli1.csv\n",
      "Processed and saved: Oli10.csv\n",
      "Processed and saved: Oli11.csv\n",
      "Processed and saved: Oli12.csv\n",
      "Processed and saved: Oli13.csv\n",
      "Processed and saved: Oli14.csv\n",
      "Processed and saved: Oli15.csv\n",
      "Processed and saved: Oli16.csv\n",
      "Processed and saved: Oli17.csv\n",
      "Processed and saved: Oli18.csv\n",
      "Processed and saved: Oli19.csv\n",
      "Processed and saved: Oli2.csv\n",
      "Processed and saved: Oli20.csv\n",
      "Processed and saved: Oli21.csv\n",
      "Processed and saved: Oli22.csv\n",
      "Processed and saved: Oli23.csv\n",
      "Processed and saved: Oli24.csv\n",
      "Processed and saved: Oli25.csv\n",
      "Processed and saved: Oli26.csv\n",
      "Processed and saved: Oli27.csv\n",
      "Processed and saved: Oli28.csv\n",
      "Processed and saved: Oli29.csv\n",
      "Processed and saved: Oli3.csv\n",
      "Processed and saved: Oli30.csv\n",
      "Processed and saved: Oli31.csv\n",
      "Processed and saved: Oli32.csv\n",
      "Processed and saved: Oli33.csv\n",
      "Processed and saved: Oli34.csv\n",
      "Processed and saved: Oli35.csv\n",
      "Processed and saved: Oli36.csv\n",
      "Processed and saved: Oli37.csv\n",
      "Processed and saved: Oli38.csv\n",
      "Processed and saved: Oli39.csv\n",
      "Processed and saved: Oli4.csv\n",
      "Processed and saved: Oli40.csv\n",
      "Processed and saved: Oli41.csv\n",
      "Processed and saved: Oli42.csv\n",
      "Processed and saved: Oli43.csv\n",
      "Processed and saved: Oli44.csv\n",
      "Processed and saved: Oli45.csv\n",
      "Processed and saved: Oli5.csv\n",
      "Processed and saved: Oli6.csv\n",
      "Processed and saved: Oli7.csv\n",
      "Processed and saved: Oli8.csv\n",
      "Processed and saved: Oli9.csv\n",
      "Processed and saved: Olilog-Ar1.csv\n",
      "Processed and saved: Olilog-Ar3.csv\n",
      "Processed and saved: Olilog-random1.csv\n",
      "Processed and saved: Olilog-random2.csv\n",
      "Processed and saved: Olilog-random3.csv\n",
      "Processed and saved: Olilog-tym1.csv\n",
      "Processed and saved: Olilog-tym2.csv\n",
      "Processed and saved: Olilog-tym3.csv\n",
      "Processed and saved: Olilog1.csv\n",
      "Processed and saved: Olilog2.csv\n",
      "Processed and saved: Olilog3.csv\n",
      "Processed and saved: Tym1.csv\n",
      "Processed and saved: Tym10.csv\n",
      "Processed and saved: Tym11.csv\n",
      "Processed and saved: Tym12.csv\n",
      "Processed and saved: Tym13.csv\n",
      "Processed and saved: Tym14.csv\n",
      "Processed and saved: Tym15.csv\n",
      "Processed and saved: Tym16.csv\n",
      "Processed and saved: Tym17.csv\n",
      "Processed and saved: Tym18.csv\n",
      "Processed and saved: Tym19.csv\n",
      "Processed and saved: Tym2.csv\n",
      "Processed and saved: Tym20.csv\n",
      "Processed and saved: Tym21.csv\n",
      "Processed and saved: Tym22.csv\n",
      "Processed and saved: Tym23.csv\n",
      "Processed and saved: Tym24.csv\n",
      "Processed and saved: Tym25.csv\n",
      "Processed and saved: Tym26.csv\n",
      "Processed and saved: Tym27.csv\n",
      "Processed and saved: Tym28.csv\n",
      "Processed and saved: Tym29.csv\n",
      "Processed and saved: Tym3.csv\n",
      "Processed and saved: Tym30.csv\n",
      "Processed and saved: Tym31.csv\n",
      "Processed and saved: Tym32.csv\n",
      "Processed and saved: Tym33.csv\n",
      "Processed and saved: Tym34.csv\n",
      "Processed and saved: Tym35.csv\n",
      "Processed and saved: Tym36.csv\n",
      "Processed and saved: Tym37.csv\n",
      "Processed and saved: Tym38.csv\n",
      "Processed and saved: Tym39.csv\n",
      "Processed and saved: Tym4.csv\n",
      "Processed and saved: Tym40.csv\n",
      "Processed and saved: Tym41.csv\n",
      "Processed and saved: Tym42.csv\n",
      "Processed and saved: Tym43.csv\n",
      "Processed and saved: Tym44.csv\n",
      "Processed and saved: Tym45.csv\n",
      "Processed and saved: Tym5.csv\n",
      "Processed and saved: Tym6.csv\n",
      "Processed and saved: Tym7.csv\n",
      "Processed and saved: Tym8.csv\n",
      "Processed and saved: Tym9.csv\n",
      "Processed and saved: Tymlog-art1.csv\n",
      "Processed and saved: Tymlog-art2.csv\n",
      "Processed and saved: Tymlog-art3.csv\n",
      "Processed and saved: Tymlog-oli1.csv\n",
      "Processed and saved: Tymlog-oli2.csv\n",
      "Processed and saved: Tymlog-oli3.csv\n",
      "Processed and saved: Tymlog-random1.csv\n",
      "Processed and saved: Tymlog-random2.csv\n",
      "Processed and saved: Tymlog-random3.csv\n",
      "Processed and saved: Tymlog1.csv\n",
      "Processed and saved: Tymlog2.csv\n",
      "Processed and saved: Tymlog3.csv\n"
     ]
    }
   ],
   "source": [
    "from sklearn.preprocessing import RobustScaler\n",
    "input_folder = \"ourdata_prepared\"\n",
    "output_folder = \"ourdata_scaled\"\n",
    "# Ensure the output directory exists\n",
    "os.makedirs(output_folder, exist_ok=True)\n",
    "for filename in os.listdir(input_folder):\n",
    "    if filename.endswith(\".csv\"):  # Check only CSV files\n",
    "        filepath = os.path.join(input_folder, filename)\n",
    "        df = pd.read_csv(filepath)\n",
    "\n",
    "        # Apply Robust Scaling\n",
    "        scaler = RobustScaler()\n",
    "        df_scaled = scaler.fit_transform(df)\n",
    "        df_scaled = pd.DataFrame(df_scaled, columns=df.columns)\n",
    "        \n",
    "        output_filepath = os.path.join(output_folder, filename)\n",
    "        df_scaled.to_csv(output_filepath, index=False)\n",
    "        print(f\"Processed and saved: {filename}\")      "
   ]
  },
  {
   "cell_type": "code",
   "execution_count": 10,
   "metadata": {},
   "outputs": [
    {
     "data": {
      "text/html": [
       "<div>\n",
       "<style scoped>\n",
       "    .dataframe tbody tr th:only-of-type {\n",
       "        vertical-align: middle;\n",
       "    }\n",
       "\n",
       "    .dataframe tbody tr th {\n",
       "        vertical-align: top;\n",
       "    }\n",
       "\n",
       "    .dataframe thead th {\n",
       "        text-align: right;\n",
       "    }\n",
       "</style>\n",
       "<table border=\"1\" class=\"dataframe\">\n",
       "  <thead>\n",
       "    <tr style=\"text-align: right;\">\n",
       "      <th></th>\n",
       "      <th>AF3</th>\n",
       "      <th>F7</th>\n",
       "      <th>F3</th>\n",
       "      <th>FC5</th>\n",
       "      <th>T7</th>\n",
       "      <th>P7</th>\n",
       "      <th>O1</th>\n",
       "      <th>O2</th>\n",
       "      <th>P8</th>\n",
       "      <th>T8</th>\n",
       "      <th>FC6</th>\n",
       "      <th>F4</th>\n",
       "      <th>F8</th>\n",
       "      <th>AF4</th>\n",
       "    </tr>\n",
       "  </thead>\n",
       "  <tbody>\n",
       "    <tr>\n",
       "      <th>0</th>\n",
       "      <td>-0.680217</td>\n",
       "      <td>-0.247278</td>\n",
       "      <td>-1.194151</td>\n",
       "      <td>-0.206928</td>\n",
       "      <td>-0.323513</td>\n",
       "      <td>-1.090893</td>\n",
       "      <td>0.044844</td>\n",
       "      <td>-0.391290</td>\n",
       "      <td>0.391290</td>\n",
       "      <td>0.407475</td>\n",
       "      <td>-0.846396</td>\n",
       "      <td>-0.394776</td>\n",
       "      <td>-0.533710</td>\n",
       "      <td>-0.368726</td>\n",
       "    </tr>\n",
       "    <tr>\n",
       "      <th>1</th>\n",
       "      <td>-0.607901</td>\n",
       "      <td>-0.326989</td>\n",
       "      <td>-1.110648</td>\n",
       "      <td>-0.226733</td>\n",
       "      <td>-0.470595</td>\n",
       "      <td>-1.227320</td>\n",
       "      <td>0.314591</td>\n",
       "      <td>-0.391290</td>\n",
       "      <td>0.260970</td>\n",
       "      <td>1.185049</td>\n",
       "      <td>-0.591461</td>\n",
       "      <td>-0.265255</td>\n",
       "      <td>-0.453481</td>\n",
       "      <td>-0.404328</td>\n",
       "    </tr>\n",
       "    <tr>\n",
       "      <th>2</th>\n",
       "      <td>-0.802246</td>\n",
       "      <td>-0.345107</td>\n",
       "      <td>-1.269305</td>\n",
       "      <td>-0.193074</td>\n",
       "      <td>-0.529405</td>\n",
       "      <td>0.545533</td>\n",
       "      <td>0.224561</td>\n",
       "      <td>0.434675</td>\n",
       "      <td>-0.913065</td>\n",
       "      <td>0.407475</td>\n",
       "      <td>-0.792858</td>\n",
       "      <td>-0.349936</td>\n",
       "      <td>-0.520334</td>\n",
       "      <td>-0.465353</td>\n",
       "    </tr>\n",
       "    <tr>\n",
       "      <th>3</th>\n",
       "      <td>-1.123148</td>\n",
       "      <td>-0.341485</td>\n",
       "      <td>-1.423796</td>\n",
       "      <td>-0.123765</td>\n",
       "      <td>0.264703</td>\n",
       "      <td>1.045533</td>\n",
       "      <td>0.808900</td>\n",
       "      <td>1.347740</td>\n",
       "      <td>0.217420</td>\n",
       "      <td>-0.222144</td>\n",
       "      <td>-1.086039</td>\n",
       "      <td>-0.603988</td>\n",
       "      <td>-0.660728</td>\n",
       "      <td>-0.620477</td>\n",
       "    </tr>\n",
       "    <tr>\n",
       "      <th>4</th>\n",
       "      <td>-1.145750</td>\n",
       "      <td>-0.397641</td>\n",
       "      <td>-1.519830</td>\n",
       "      <td>-0.141586</td>\n",
       "      <td>0.176543</td>\n",
       "      <td>-0.863747</td>\n",
       "      <td>-0.404450</td>\n",
       "      <td>0.086935</td>\n",
       "      <td>0.565160</td>\n",
       "      <td>0.851763</td>\n",
       "      <td>-0.978971</td>\n",
       "      <td>-0.696144</td>\n",
       "      <td>-0.669640</td>\n",
       "      <td>-0.727283</td>\n",
       "    </tr>\n",
       "  </tbody>\n",
       "</table>\n",
       "</div>"
      ],
      "text/plain": [
       "        AF3        F7        F3       FC5        T7        P7        O1  \\\n",
       "0 -0.680217 -0.247278 -1.194151 -0.206928 -0.323513 -1.090893  0.044844   \n",
       "1 -0.607901 -0.326989 -1.110648 -0.226733 -0.470595 -1.227320  0.314591   \n",
       "2 -0.802246 -0.345107 -1.269305 -0.193074 -0.529405  0.545533  0.224561   \n",
       "3 -1.123148 -0.341485 -1.423796 -0.123765  0.264703  1.045533  0.808900   \n",
       "4 -1.145750 -0.397641 -1.519830 -0.141586  0.176543 -0.863747 -0.404450   \n",
       "\n",
       "         O2        P8        T8       FC6        F4        F8       AF4  \n",
       "0 -0.391290  0.391290  0.407475 -0.846396 -0.394776 -0.533710 -0.368726  \n",
       "1 -0.391290  0.260970  1.185049 -0.591461 -0.265255 -0.453481 -0.404328  \n",
       "2  0.434675 -0.913065  0.407475 -0.792858 -0.349936 -0.520334 -0.465353  \n",
       "3  1.347740  0.217420 -0.222144 -1.086039 -0.603988 -0.660728 -0.620477  \n",
       "4  0.086935  0.565160  0.851763 -0.978971 -0.696144 -0.669640 -0.727283  "
      ]
     },
     "execution_count": 10,
     "metadata": {},
     "output_type": "execute_result"
    }
   ],
   "source": [
    "df = pd.read_csv(\"ourdata_scaled/Art1.csv\")\n",
    "df.head()"
   ]
  },
  {
   "cell_type": "code",
   "execution_count": 5,
   "metadata": {},
   "outputs": [
    {
     "data": {
      "image/png": "[encoded data removed]",
      "text/plain": [
       "<Figure size 1200x600 with 2 Axes>"
      ]
     },
     "metadata": {},
     "output_type": "display_data"
    }
   ],
   "source": [
    "# Plot histograms for a sample column before and after scaling\n",
    "column_original = df.iloc[:, 0]\n",
    "column_scaled = df_scaled.iloc[:, 0]\n",
    "\n",
    "plt.figure(figsize=(12, 6))\n",
    "plt.subplot(1, 2, 1)\n",
    "plt.hist(column_original, bins=30, alpha=0.7, color='blue', label='Original')\n",
    "plt.title(\"Original Data Distribution\")\n",
    "plt.xlabel(\"Value\")\n",
    "plt.ylabel(\"Frequency\")\n",
    "plt.legend()\n",
    "\n",
    "plt.subplot(1, 2, 2)\n",
    "plt.hist(column_scaled, bins=30, alpha=0.7, color='green', label='Scaled')\n",
    "plt.title(\"Robust Scaled Data Distribution\")\n",
    "plt.xlabel(\"Value\")\n",
    "plt.ylabel(\"Frequency\")\n",
    "plt.legend()\n",
    "\n",
    "plt.tight_layout()\n",
    "plt.show()"
   ]
  },
  {
   "cell_type": "markdown",
   "metadata": {},
   "source": [
    "Jak widać na wykresie zmieniła się zarówno dystrybucja danych, jak i same wartości zostały odpowiednio przeskalowane"
   ]
  },
  {
   "cell_type": "code",
   "execution_count": 12,
   "metadata": {},
   "outputs": [
    {
     "data": {
      "text/html": [
       "<div>\n",
       "<style scoped>\n",
       "    .dataframe tbody tr th:only-of-type {\n",
       "        vertical-align: middle;\n",
       "    }\n",
       "\n",
       "    .dataframe tbody tr th {\n",
       "        vertical-align: top;\n",
       "    }\n",
       "\n",
       "    .dataframe thead th {\n",
       "        text-align: right;\n",
       "    }\n",
       "</style>\n",
       "<table border=\"1\" class=\"dataframe\">\n",
       "  <thead>\n",
       "    <tr style=\"text-align: right;\">\n",
       "      <th></th>\n",
       "      <th>AF3</th>\n",
       "      <th>F7</th>\n",
       "      <th>F3</th>\n",
       "      <th>FC5</th>\n",
       "      <th>T7</th>\n",
       "      <th>P7</th>\n",
       "      <th>O1</th>\n",
       "      <th>O2</th>\n",
       "      <th>P8</th>\n",
       "      <th>T8</th>\n",
       "      <th>FC6</th>\n",
       "      <th>F4</th>\n",
       "      <th>F8</th>\n",
       "      <th>AF4</th>\n",
       "    </tr>\n",
       "  </thead>\n",
       "  <tbody>\n",
       "    <tr>\n",
       "      <th>0</th>\n",
       "      <td>-0.514754</td>\n",
       "      <td>0.012160</td>\n",
       "      <td>-1.821489</td>\n",
       "      <td>-0.187530</td>\n",
       "      <td>0.095221</td>\n",
       "      <td>-0.439976</td>\n",
       "      <td>1.214227</td>\n",
       "      <td>1.639756</td>\n",
       "      <td>1.388619</td>\n",
       "      <td>-0.968817</td>\n",
       "      <td>-0.027175</td>\n",
       "      <td>-0.131904</td>\n",
       "      <td>-0.113055</td>\n",
       "      <td>0.001370</td>\n",
       "    </tr>\n",
       "    <tr>\n",
       "      <th>1</th>\n",
       "      <td>-0.499692</td>\n",
       "      <td>0.014595</td>\n",
       "      <td>-1.839777</td>\n",
       "      <td>-0.296142</td>\n",
       "      <td>-0.047610</td>\n",
       "      <td>-0.280012</td>\n",
       "      <td>-0.214363</td>\n",
       "      <td>0.759939</td>\n",
       "      <td>-0.333192</td>\n",
       "      <td>-0.687574</td>\n",
       "      <td>-0.058229</td>\n",
       "      <td>-0.194556</td>\n",
       "      <td>-0.092632</td>\n",
       "      <td>-0.099862</td>\n",
       "    </tr>\n",
       "    <tr>\n",
       "      <th>2</th>\n",
       "      <td>-0.371630</td>\n",
       "      <td>0.087544</td>\n",
       "      <td>-1.832621</td>\n",
       "      <td>-0.279169</td>\n",
       "      <td>0.261903</td>\n",
       "      <td>-0.560024</td>\n",
       "      <td>-0.214363</td>\n",
       "      <td>1.039756</td>\n",
       "      <td>-1.221917</td>\n",
       "      <td>-0.593787</td>\n",
       "      <td>-0.073759</td>\n",
       "      <td>-0.224233</td>\n",
       "      <td>-0.010942</td>\n",
       "      <td>0.036934</td>\n",
       "    </tr>\n",
       "    <tr>\n",
       "      <th>3</th>\n",
       "      <td>-0.323918</td>\n",
       "      <td>0.087544</td>\n",
       "      <td>-1.821091</td>\n",
       "      <td>-0.280869</td>\n",
       "      <td>0.190532</td>\n",
       "      <td>-1.519957</td>\n",
       "      <td>-1.500000</td>\n",
       "      <td>-0.520030</td>\n",
       "      <td>-0.666596</td>\n",
       "      <td>-0.937515</td>\n",
       "      <td>-0.002330</td>\n",
       "      <td>-0.156633</td>\n",
       "      <td>0.091176</td>\n",
       "      <td>0.190153</td>\n",
       "    </tr>\n",
       "    <tr>\n",
       "      <th>4</th>\n",
       "      <td>-0.399248</td>\n",
       "      <td>0.017022</td>\n",
       "      <td>-1.817911</td>\n",
       "      <td>-0.291049</td>\n",
       "      <td>0.428584</td>\n",
       "      <td>-0.560024</td>\n",
       "      <td>-1.071409</td>\n",
       "      <td>-0.919878</td>\n",
       "      <td>0.222128</td>\n",
       "      <td>0.218757</td>\n",
       "      <td>0.000775</td>\n",
       "      <td>-0.097278</td>\n",
       "      <td>0.110139</td>\n",
       "      <td>0.119015</td>\n",
       "    </tr>\n",
       "  </tbody>\n",
       "</table>\n",
       "</div>"
      ],
      "text/plain": [
       "        AF3        F7        F3       FC5        T7        P7        O1  \\\n",
       "0 -0.514754  0.012160 -1.821489 -0.187530  0.095221 -0.439976  1.214227   \n",
       "1 -0.499692  0.014595 -1.839777 -0.296142 -0.047610 -0.280012 -0.214363   \n",
       "2 -0.371630  0.087544 -1.832621 -0.279169  0.261903 -0.560024 -0.214363   \n",
       "3 -0.323918  0.087544 -1.821091 -0.280869  0.190532 -1.519957 -1.500000   \n",
       "4 -0.399248  0.017022 -1.817911 -0.291049  0.428584 -0.560024 -1.071409   \n",
       "\n",
       "         O2        P8        T8       FC6        F4        F8       AF4  \n",
       "0  1.639756  1.388619 -0.968817 -0.027175 -0.131904 -0.113055  0.001370  \n",
       "1  0.759939 -0.333192 -0.687574 -0.058229 -0.194556 -0.092632 -0.099862  \n",
       "2  1.039756 -1.221917 -0.593787 -0.073759 -0.224233 -0.010942  0.036934  \n",
       "3 -0.520030 -0.666596 -0.937515 -0.002330 -0.156633  0.091176  0.190153  \n",
       "4 -0.919878  0.222128  0.218757  0.000775 -0.097278  0.110139  0.119015  "
      ]
     },
     "execution_count": 12,
     "metadata": {},
     "output_type": "execute_result"
    }
   ],
   "source": [
    "df_scaled.head()"
   ]
  },
  {
   "cell_type": "markdown",
   "metadata": {},
   "source": [
    "Here’s how the class is structured:\n",
    "\n",
    "Feature Extractor:\n",
    "\n",
    "A CNN extracts spatial features from EEG channels.\n",
    "An RNN processes sequential (temporal) features for variable-length input.\n",
    "Similarity Metric:\n",
    "\n",
    "The outputs from the feature extractors for both inputs are compared using a distance metric (e.g., Euclidean or cosine similarity)."
   ]
  },
  {
   "cell_type": "code",
   "execution_count": 15,
   "metadata": {},
   "outputs": [],
   "source": [
    "class SiameseEEGNet(nn.Module):\n",
    "    def __init__(self, input_channels):\n",
    "        \"\"\"\n",
    "        Siamese Neural Network for EEG data.\n",
    "        :param input_channels: Number of EEG channels (e.g., 14 if your EEG has 14 channels)\n",
    "        \"\"\"\n",
    "        super(SiameseEEGNet, self).__init__()\n",
    "        \n",
    "        # Feature extractor network\n",
    "        self.feature_extractor = nn.Sequential(\n",
    "            nn.Conv1d(input_channels, 32, kernel_size=5, stride=1, padding=2),  # Convolution layer\n",
    "            nn.ReLU(),\n",
    "            nn.MaxPool1d(kernel_size=2),  # Downsample by 2\n",
    "            nn.Conv1d(32, 64, kernel_size=5, stride=1, padding=2),\n",
    "            nn.ReLU(),\n",
    "            nn.MaxPool1d(kernel_size=2),\n",
    "            nn.Conv1d(64, 128, kernel_size=5, stride=1, padding=2),\n",
    "            nn.ReLU(),\n",
    "            nn.AdaptiveAvgPool1d(1)  # Global average pooling to make the output length-agnostic\n",
    "        )\n",
    "        \n",
    "        # Fully connected layers for embedding\n",
    "        self.fc = nn.Sequential(\n",
    "            nn.Linear(128, 64),\n",
    "            nn.ReLU(),\n",
    "            nn.Linear(64, 32)  # Final embedding size\n",
    "        )\n",
    "    \n",
    "    def forward_one_branch(self, x):\n",
    "        \"\"\"\n",
    "        Forward pass for one branch of the Siamese network.\n",
    "        :param x: Input EEG data (batch_size, input_channels, time_steps)\n",
    "        :return: Embedding vector (batch_size, 32)\n",
    "        \"\"\"\n",
    "        features = self.feature_extractor(x)  # Extract features\n",
    "        features = features.view(features.size(0), -1)  # Flatten for fully connected layer\n",
    "        embedding = self.fc(features)  # Generate embedding\n",
    "        return embedding\n",
    "    \n",
    "    def forward(self, x1, x2):\n",
    "        \"\"\"\n",
    "        Forward pass for the Siamese network.\n",
    "        :param x1: EEG data for branch 1 (batch_size, input_channels, time_steps)\n",
    "        :param x2: EEG data for branch 2 (batch_size, input_channels, time_steps)\n",
    "        :return: Embeddings for both inputs\n",
    "        \"\"\"\n",
    "        embedding1 = self.forward_one_branch(x1)\n",
    "        embedding2 = self.forward_one_branch(x2)\n",
    "        return embedding1, embedding2\n",
    "\n",
    "# Example usage\n",
    "# input_channels = 14 for EEG data with 14 channels\n",
    "model = SiameseEEGNet(input_channels=14)"
   ]
  },
  {
   "cell_type": "markdown",
   "metadata": {},
   "source": [
    "Taki model uczymy w specyficzny sposób: Dostarczamy danych treningowych od osoby właściwej, a także dane niewłaściwe od innych oraz udające osobę właściwą inne osoby."
   ]
  },
  {
   "cell_type": "markdown",
   "metadata": {},
   "source": [
    "Loss function for this network"
   ]
  },
  {
   "cell_type": "code",
   "execution_count": 14,
   "metadata": {},
   "outputs": [],
   "source": [
    "class ContrastiveLoss(nn.Module):\n",
    "    def __init__(self, margin=1.0):\n",
    "        super(ContrastiveLoss, self).__init__()\n",
    "        self.margin = margin\n",
    "\n",
    "    def forward(self, embedding1, embedding2, label):\n",
    "        \"\"\"\n",
    "        Contrastive Loss\n",
    "        :param embedding1: Embedding from branch 1\n",
    "        :param embedding2: Embedding from branch 2\n",
    "        :param label: 1 if same class, 0 if different class\n",
    "        :return: Loss value\n",
    "        \"\"\"\n",
    "        euclidean_distance = F.pairwise_distance(embedding1, embedding2)\n",
    "        loss = label * torch.pow(euclidean_distance, 2) + \\\n",
    "               (1 - label) * torch.pow(torch.clamp(self.margin - euclidean_distance, min=0.0), 2)\n",
    "        return loss.mean()"
   ]
  },
  {
   "cell_type": "markdown",
   "metadata": {},
   "source": [
    "Key Loss Function: Contrastive Loss\n",
    "The contrastive loss is widely used in Siamese networks. It ensures that:\n",
    "\n",
    "The embeddings of similar pairs are closer in the embedding space.\n",
    "The embeddings of dissimilar pairs are farther apart, with a margin to encourage separation.\n",
    "\n",
    "Initialization:\n",
    "\n",
    "At the start, embeddings are randomly distributed in the feature space.\n",
    "\n",
    "Forward Pass:\n",
    "\n",
    "For a given pair of inputs, the network computes embeddings\n",
    "\n",
    "𝑒1 and 𝑒2.\n",
    "\n",
    "The Euclidean distance  𝐷 is calculated.\n",
    "The contrastive loss measures how well the embeddings reflect the similarity/dissimilarity of the pair.\n",
    "\n",
    "Backward Pass:\n",
    "\n",
    "Gradients of the loss with respect to the network parameters are computed.\n",
    "For similar pairs (𝑦=1):\n",
    "The network adjusts weights to reduce 𝐷.\n",
    "For dissimilar pairs (y=0):\n",
    "\n",
    "If\n",
    "\n",
    "𝐷 < 𝑚, the network adjusts weights to increase 𝐷.\n",
    "\n",
    "If\n",
    "\n",
    "𝐷 > 𝑚, no gradient is propagated for dissimilar pairs.\n",
    "\n",
    "Optimization:\n",
    "\n",
    "Using an optimizer like Adam or SGD, the network updates weights to minimize the contrastive loss."
   ]
  },
  {
   "cell_type": "markdown",
   "metadata": {},
   "source": [
    "Embedding Separation:\n",
    "\n",
    "The network learns to position embeddings of similar inputs closer and dissimilar inputs farther apart.\n",
    "The embedding space becomes more structured, with distinct clusters for each class.\n",
    "Improved Pairwise Distinction:\n",
    "\n",
    "The Euclidean distance \n",
    "𝐷\n",
    " becomes a reliable metric for class similarity.\n",
    "Smaller \n",
    "𝐷\n",
    " for similar pairs, and larger \n",
    "𝐷\n",
    " for dissimilar pairs.\n",
    "Margin Enforcement:\n",
    "\n",
    "For dissimilar pairs, the network ensures embeddings are separated by at least the margin \n",
    "𝑚.\n",
    "Generalization:\n",
    "\n",
    "With sufficient data and training, the network generalizes to unseen pairs, correctly predicting similarity or dissimilarity."
   ]
  },
  {
   "cell_type": "code",
   "execution_count": 11,
   "metadata": {},
   "outputs": [],
   "source": [
    "class EnhancedAutoencoder(nn.Module):\n",
    "    def __init__(self, in_channels):\n",
    "        super(EnhancedAutoencoder, self).__init__()\n",
    "        \n",
    "        # Encoder\n",
    "        self.encoder = nn.Sequential(\n",
    "            nn.Conv2d(in_channels, 32, kernel_size=(1, 5), padding=(0, 2)),  # (N, 32, T, C)\n",
    "            nn.ReLU(),\n",
    "            nn.MaxPool2d((1, 2)),  # Downsample time dimension (N, 32, T/2, C)\n",
    "            nn.Conv2d(32, 64, kernel_size=(1, 5), padding=(0, 2)),  # (N, 64, T/2, C)\n",
    "            nn.ReLU(),\n",
    "            nn.MaxPool2d((1, 2)),  # Downsample time dimension further (N, 64, T/4, C)\n",
    "            nn.Conv2d(64, 128, kernel_size=(1, 5), padding=(0, 2)),  # (N, 128, T/4, C)\n",
    "            nn.ReLU(),\n",
    "            nn.MaxPool2d((1, 2)),  # Downsample time dimension further (N, 128, T/8, C)\n",
    "        )\n",
    "        \n",
    "        # Bottleneck (latent space)\n",
    "        self.bottleneck = nn.Conv2d(128, 256, kernel_size=(1, 5), padding=(0, 2))  # (N, 256, T/8, C)\n",
    "        \n",
    "        # Decoder\n",
    "        self.decoder = nn.Sequential(\n",
    "            nn.ConvTranspose2d(256, 128, kernel_size=(1, 5), padding=(0, 2)),  # (N, 128, T/4, C)\n",
    "            nn.ReLU(),\n",
    "            nn.Upsample(scale_factor=(1, 2), mode='nearest'),\n",
    "            nn.ConvTranspose2d(128, 64, kernel_size=(1, 5), padding=(0, 2)),  # (N, 64, T/2, C)\n",
    "            nn.ReLU(),\n",
    "            nn.Upsample(scale_factor=(1, 2), mode='nearest'),\n",
    "            nn.ConvTranspose2d(64, 32, kernel_size=(1, 5), padding=(0, 2)),  # (N, 32, T, C)\n",
    "            nn.ReLU(),\n",
    "            nn.Upsample(scale_factor=(1, 2), mode='nearest'),\n",
    "            nn.ConvTranspose2d(32, in_channels, kernel_size=(1, 5), padding=(0, 2)),  # (N, in_channels, T, C)\n",
    "            nn.Tanh()  # Tanh for output in range [-1, 1]\n",
    "        )\n",
    "\n",
    "    def forward(self, x):\n",
    "        x = self.encoder(x)\n",
    "        x = self.bottleneck(x)\n",
    "        x = self.decoder(x)\n",
    "        return x"
   ]
  },
  {
   "cell_type": "markdown",
   "metadata": {},
   "source": [
    "Sorting the data into training and validation datasets and folders"
   ]
  },
  {
   "cell_type": "code",
   "execution_count": 20,
   "metadata": {},
   "outputs": [
    {
     "name": "stdout",
     "output_type": "stream",
     "text": [
      "Dataset created for Art\n",
      "Dataset created for Oli\n",
      "Dataset created for Tym\n"
     ]
    }
   ],
   "source": [
    "import shutil\n",
    "import random\n",
    "\n",
    "def create_datasets(data_folder, output_folder):\n",
    "    # List of people\n",
    "    people = [\"Art\", \"Oli\", \"Tym\"]\n",
    "    \n",
    "    # Create output directories for each person\n",
    "    for person in people:\n",
    "        # Make directories for training, validation, and testing sets\n",
    "        branch1_train_dir = os.path.join(output_folder, f\"{person}_training_branch1\")\n",
    "        branch2_train_dir = os.path.join(output_folder, f\"{person}_training_branch2\")\n",
    "        branch1_val_dir = os.path.join(output_folder, f\"{person}_validation_branch1\")\n",
    "        branch2_val_dir = os.path.join(output_folder, f\"{person}_validation_branch2\")\n",
    "        branch1_test_dir = os.path.join(output_folder, f\"{person}_testing_branch1\")\n",
    "        branch2_test_dir = os.path.join(output_folder, f\"{person}_testing_branch2\")\n",
    "        branch_random_test_dir = os.path.join(output_folder, f\"{person}_testing_branch_random\")\n",
    "\n",
    "        os.makedirs(branch1_train_dir, exist_ok=True)\n",
    "        os.makedirs(branch2_train_dir, exist_ok=True)\n",
    "        os.makedirs(branch1_val_dir, exist_ok=True)\n",
    "        os.makedirs(branch2_val_dir, exist_ok=True)\n",
    "        os.makedirs(branch1_test_dir, exist_ok=True)\n",
    "        os.makedirs(branch2_test_dir, exist_ok=True)\n",
    "        os.makedirs(branch_random_test_dir, exist_ok=True)\n",
    "\n",
    "        # Get list of all recordings for the person (Art1-Art45, Oli1-Oli45, Tym1-Tym45)\n",
    "        recordings = [f\"{person}{i}\" for i in range(1, 46)]  \n",
    "        \n",
    "        # Create a list of impostor recordings (person trying to impersonate the target person)\n",
    "        impostor_recordings = []\n",
    "        for other_person in people:\n",
    "            if other_person != person:\n",
    "                for i in range(1, 4):\n",
    "                    impostor_recordings.append(f\"{other_person}log-{person}{i}\")\n",
    "        \n",
    "        # Remove non-existent files (such as Olilog-Art2 if it doesn't exist)\n",
    "        impostor_recordings = [file for file in impostor_recordings if os.path.exists(os.path.join(data_folder, f\"{file}.csv\"))]\n",
    "        \n",
    "        # Shuffle the list of impostor recordings to ensure randomness\n",
    "        random.shuffle(impostor_recordings)\n",
    "        \n",
    "        # Branch 1: Training set (randomly select 38 recordings for the person)\n",
    "        branch1_train_files = random.sample(recordings, 38)  # Select 38 random recordings for training\n",
    "        for file in branch1_train_files:\n",
    "            shutil.copy(os.path.join(data_folder, f\"{file}.csv\"), os.path.join(branch1_train_dir, f\"{file}.csv\"))\n",
    "        \n",
    "        # Branch 2: Training set (2 impostor files + 36 random recordings from other people)\n",
    "        branch2_train_files = []\n",
    "        branch2_train_files.extend(impostor_recordings[:2])  # Two impostor files\n",
    "        other_people_recordings = []\n",
    "        \n",
    "        # Collect 36 recordings from other people\n",
    "        for other_person in people:\n",
    "            if other_person != person:\n",
    "                other_people_recordings.extend([f\"{other_person}{i}\" for i in range(1, 46)])\n",
    "        random.shuffle(other_people_recordings)\n",
    "        branch2_train_files.extend(other_people_recordings[:36])\n",
    "        \n",
    "        # Copy all branch2 train files\n",
    "        for file in branch2_train_files:\n",
    "            shutil.copy(os.path.join(data_folder, f\"{file}.csv\"), os.path.join(branch2_train_dir, f\"{file}.csv\"))\n",
    "        \n",
    "        # Validation Set for Branch 1 (7 files from remaining recordings of the person, not in training set)\n",
    "        remaining_recordings = list(set(recordings) - set(branch1_train_files))  # Remaining files\n",
    "        branch1_val_files = random.sample(remaining_recordings, 7)  # Select 7 random recordings from remaining files\n",
    "        for file in branch1_val_files:\n",
    "            shutil.copy(os.path.join(data_folder, f\"{file}.csv\"), os.path.join(branch1_val_dir, f\"{file}.csv\"))\n",
    "        \n",
    "        # Validation Set for Branch 2 (7 random recordings from other people not in training set)\n",
    "        # First, collect all recordings of other people\n",
    "        other_people_recordings = []\n",
    "        for other_person in people:\n",
    "            if other_person != person:\n",
    "                other_people_recordings.extend([f\"{other_person}{i}\" for i in range(1, 46)])\n",
    "        \n",
    "        # Remove the recordings already used in training set for branch2\n",
    "        other_people_recordings = list(set(other_people_recordings) - set(branch2_train_files))\n",
    "        \n",
    "        # Select 7 random recordings from other people for branch2 validation\n",
    "        branch2_val_files = random.sample(other_people_recordings, 7)\n",
    "        \n",
    "        # Copy all branch2 val files\n",
    "        for file in branch2_val_files:\n",
    "            shutil.copy(os.path.join(data_folder, f\"{file}.csv\"), os.path.join(branch2_val_dir, f\"{file}.csv\"))\n",
    "        \n",
    "        # Test Set for Branch 1 (Test recordings like Artlog1, Olilog2, etc.)\n",
    "        branch1_test_files = [f\"{person}log{i}\" for i in range(1, 4)]\n",
    "        for file in branch1_test_files:\n",
    "            shutil.copy(os.path.join(data_folder, f\"{file}.csv\"), os.path.join(branch1_test_dir, f\"{file}.csv\"))\n",
    "        \n",
    "        # Test Set for Branch 2 (3 random impostor files that have not been used in training)\n",
    "        branch2_test_files = random.sample(impostor_recordings[2:], 3)  # Select 3 random impostor files not used in training\n",
    "        \n",
    "        # Copy all branch2 test files\n",
    "        for file in branch2_test_files:\n",
    "            shutil.copy(os.path.join(data_folder, f\"{file}.csv\"), os.path.join(branch2_test_dir, f\"{file}.csv\"))\n",
    "        \n",
    "        # Random Test Set (Olilog-random1, Tymlog-random2, etc.)\n",
    "        branch_random_test_files = [f\"{person}log-random{i}\" for i in range(1, 4)]\n",
    "        for file in branch_random_test_files:\n",
    "            shutil.copy(os.path.join(data_folder, f\"{file}.csv\"), os.path.join(branch_random_test_dir, f\"{file}.csv\"))\n",
    "        \n",
    "        print(f\"Dataset created for {person}\")\n",
    "\n",
    "# Example usage\n",
    "data_folder = \"ourdata_scaled\"  # Folder containing EEG CSV files (e.g., Art1.csv, Oli32.csv)\n",
    "output_folder = \"user_database\"  # Folder to store the new datasets\n",
    "\n",
    "create_datasets(data_folder, output_folder)\n"
   ]
  },
  {
   "cell_type": "markdown",
   "metadata": {},
   "source": [
    "Sliding Window Approach\n",
    "The sliding window approach is a method for breaking down time-series data (such as EEG recordings) into smaller, overlapping or non-overlapping segments of fixed size. It’s particularly useful for processing data with variable lengths, as it enables uniform input sizes for machine learning models."
   ]
  },
  {
   "cell_type": "markdown",
   "metadata": {},
   "source": [
    "Window Size:\n",
    "\n",
    "The number of time steps in each segment.\n",
    "For EEG data, the window size might correspond to a specific duration, e.g., 1 second (128 samples at 128 Hz).\n",
    "Step Size (Stride):\n",
    "\n",
    "The number of time steps the window moves forward for the next segment.\n",
    "If the step size is smaller than the window size, the windows overlap. If it's equal, there's no overlap.\n",
    "Overlapping vs. Non-Overlapping Windows:\n",
    "\n",
    "Overlapping: Captures more contextual information, as segments share data points.\n",
    "Non-Overlapping: Simpler, but may miss transitions or subtle patterns at window boundaries.\n",
    "\n",
    "We will use overlapping windows (the window step is smaller than window length)"
   ]
  },
  {
   "cell_type": "code",
   "execution_count": 17,
   "metadata": {},
   "outputs": [],
   "source": [
    "def apply_sliding_window(data, window_length, window_step):\n",
    "    \"\"\"\n",
    "    Applies a sliding window to the EEG data to create overlapping windows.\n",
    "    \"\"\"\n",
    "    windows = []\n",
    "    num_samples = len(data)\n",
    "    \n",
    "    for start in range(0, num_samples - window_length + 1, window_step):\n",
    "        end = start + window_length\n",
    "        window = data[start:end]\n",
    "        windows.append(window)\n",
    "    \n",
    "    return np.array(windows)\n"
   ]
  },
  {
   "cell_type": "code",
   "execution_count": 25,
   "metadata": {},
   "outputs": [
    {
     "name": "stdout",
     "output_type": "stream",
     "text": [
      "Sliding windows created for Art\n",
      "Sliding windows created for Oli\n",
      "Sliding windows created for Tym\n"
     ]
    }
   ],
   "source": [
    "def create_sliding_window_dataset_from_folders(input_folder, output_folder, window_length=128, window_step=64):\n",
    "    \"\"\"\n",
    "    Processes the dataset using a sliding window approach for EEG data.\n",
    "    The input_folder contains subfolders for each person's training, validation, and testing data.\n",
    "    \"\"\"\n",
    "    # List of people\n",
    "    people = [\"Art\", \"Oli\", \"Tym\"]\n",
    "    \n",
    "    # Iterate through each person\n",
    "    for person in people:\n",
    "        # Folders where the data for each person is stored\n",
    "        branch1_train_dir = os.path.join(input_folder, f\"{person}_training_branch1\")\n",
    "        branch2_train_dir = os.path.join(input_folder, f\"{person}_training_branch2\")\n",
    "        branch1_val_dir = os.path.join(input_folder, f\"{person}_validation_branch1\")\n",
    "        branch2_val_dir = os.path.join(input_folder, f\"{person}_validation_branch2\")\n",
    "        \n",
    "        # Test data folders\n",
    "        branch1_test_dir = os.path.join(input_folder, f\"{person}_testing_branch1\")\n",
    "        branch2_test_dir = os.path.join(input_folder, f\"{person}_testing_branch2\")\n",
    "        branch_random_test_dir = os.path.join(input_folder, f\"{person}_testing_branch_random\")\n",
    "        \n",
    "        # Create output directories for storing sliding windows with -datawindow suffix\n",
    "        person_window_dir = os.path.join(output_folder, f\"{person}_datawindow\")\n",
    "        os.makedirs(person_window_dir, exist_ok=True)\n",
    "        \n",
    "        # Process the branch1 training files\n",
    "        process_directory(branch1_train_dir, person_window_dir, window_length, window_step, f\"{person}_training_branch1\")\n",
    "        \n",
    "        # Process the branch2 training files\n",
    "        process_directory(branch2_train_dir, person_window_dir, window_length, window_step, f\"{person}_training_branch2\")\n",
    "        \n",
    "        # Process the branch1 validation files\n",
    "        process_directory(branch1_val_dir, person_window_dir, window_length, window_step, f\"{person}_validation_branch1\")\n",
    "        \n",
    "        # Process the branch2 validation files\n",
    "        process_directory(branch2_val_dir, person_window_dir, window_length, window_step, f\"{person}_validation_branch2\")\n",
    "        \n",
    "        # Process the branch1 test files\n",
    "        process_directory(branch1_test_dir, person_window_dir, window_length, window_step, f\"{person}_testing_branch1\")\n",
    "        \n",
    "        # Process the branch2 test files\n",
    "        process_directory(branch2_test_dir, person_window_dir, window_length, window_step, f\"{person}_testing_branch2\")\n",
    "        \n",
    "        # Process the random test files\n",
    "        process_directory(branch_random_test_dir, person_window_dir, window_length, window_step, f\"{person}_testing_branch_random\")\n",
    "\n",
    "        print(f\"Sliding windows created for {person}\")\n",
    "\n",
    "def process_directory(input_dir, output_dir, window_length, window_step, label_prefix):\n",
    "    \"\"\"\n",
    "    Processes the files in a directory, applying the sliding window approach and saving the windows.\n",
    "    \"\"\"\n",
    "    # Get all files in the directory\n",
    "    files = sorted(os.listdir(input_dir))\n",
    "    \n",
    "    for file_name in files:\n",
    "        # Ensure that the file is a CSV\n",
    "        if file_name.endswith(\".csv\"):\n",
    "            file_path = os.path.join(input_dir, file_name)\n",
    "            \n",
    "            # Load EEG data from the CSV file\n",
    "            df = pd.read_csv(file_path)\n",
    "            eeg_data = df.to_numpy()  # Convert to numpy array\n",
    "            \n",
    "            # Apply sliding window to create smaller chunks\n",
    "            windows = apply_sliding_window(eeg_data, window_length, window_step)\n",
    "            \n",
    "            # Create a new directory for this file with -datawindow suffix\n",
    "            file_datawindow_dir = os.path.join(output_dir, f\"{label_prefix}_datawindow\")\n",
    "            os.makedirs(file_datawindow_dir, exist_ok=True)\n",
    "            \n",
    "            # Save the windows to new files with the -datawindow{i} suffix\n",
    "            for i, window in enumerate(windows):\n",
    "                window_filename = f\"{file_name.replace('.csv', '')}_datawindow{i}.csv\"\n",
    "                window_file_path = os.path.join(file_datawindow_dir, window_filename)\n",
    "                window_df = pd.DataFrame(window)  # Convert window to DataFrame for saving\n",
    "                window_df.to_csv(window_file_path, index=False)\n",
    "\n",
    "# Example usage\n",
    "input_folder = \"user_database\"  # Folder containing the training/validation directories (e.g., Art_training_branch1)\n",
    "output_folder = \"user_database_windowed/length256_step96\"  # Folder to store the new sliding window datasets\n",
    "\n",
    "#Tniemy dane w okienka i tworzymy okienka danych o dlugosci i skoku, 128-1 sekunda\n",
    "create_sliding_window_dataset_from_folders(input_folder, output_folder, window_length=256, window_step=96)"
   ]
  },
  {
   "cell_type": "markdown",
   "metadata": {},
   "source": [
    "Przekształciliśmy wszystkie dane w okienka danych o równej długości."
   ]
  },
  {
   "cell_type": "markdown",
   "metadata": {},
   "source": [
    "Define the model"
   ]
  },
  {
   "cell_type": "code",
   "execution_count": 13,
   "metadata": {},
   "outputs": [
    {
     "data": {
      "text/plain": [
       "tensor(0.)"
      ]
     },
     "execution_count": 13,
     "metadata": {},
     "output_type": "execute_result"
    }
   ],
   "source": [
    "in_channels = data_reshaped.shape[1]\n",
    "model = EnhancedAutoencoder(in_channels=in_channels)\n",
    "criterion = nn.MSELoss()  # Mean Squared Error Loss for reconstruction\n",
    "optimizer = optim.Adam(model.parameters(), lr=1e-4)\n",
    "torch.nn.utils.clip_grad_norm_(model.parameters(), max_norm=1.0) #gradient clipping\n"
   ]
  },
  {
   "cell_type": "markdown",
   "metadata": {},
   "source": [
    "Training loop"
   ]
  },
  {
   "cell_type": "code",
   "execution_count": 31,
   "metadata": {},
   "outputs": [
    {
     "name": "stderr",
     "output_type": "stream",
     "text": [
      "Epoch 1/2000: 100%|██████████| 2/2 [00:59<00:00, 29.67s/batch, loss=0.755]\n"
     ]
    },
    {
     "name": "stdout",
     "output_type": "stream",
     "text": [
      "Epoch 1/2000, Average Loss: 0.7041\n"
     ]
    },
    {
     "name": "stderr",
     "output_type": "stream",
     "text": [
      "Epoch 2/2000: 100%|██████████| 2/2 [01:05<00:00, 32.88s/batch, loss=0.683]\n"
     ]
    },
    {
     "name": "stdout",
     "output_type": "stream",
     "text": [
      "Epoch 2/2000, Average Loss: 0.6714\n"
     ]
    },
    {
     "name": "stderr",
     "output_type": "stream",
     "text": [
      "Epoch 3/2000: 100%|██████████| 2/2 [00:57<00:00, 28.53s/batch, loss=0.914]\n"
     ]
    },
    {
     "name": "stdout",
     "output_type": "stream",
     "text": [
      "Epoch 3/2000, Average Loss: 0.7714\n"
     ]
    },
    {
     "name": "stderr",
     "output_type": "stream",
     "text": [
      "Epoch 4/2000: 100%|██████████| 2/2 [01:02<00:00, 31.31s/batch, loss=0.585]\n"
     ]
    },
    {
     "name": "stdout",
     "output_type": "stream",
     "text": [
      "Epoch 4/2000, Average Loss: 0.6266\n"
     ]
    },
    {
     "name": "stderr",
     "output_type": "stream",
     "text": [
      "Epoch 5/2000: 100%|██████████| 2/2 [01:01<00:00, 30.68s/batch, loss=0.583]\n"
     ]
    },
    {
     "name": "stdout",
     "output_type": "stream",
     "text": [
      "Epoch 5/2000, Average Loss: 0.6241\n"
     ]
    },
    {
     "name": "stderr",
     "output_type": "stream",
     "text": [
      "Epoch 6/2000: 100%|██████████| 2/2 [01:02<00:00, 31.36s/batch, loss=0.823]\n"
     ]
    },
    {
     "name": "stdout",
     "output_type": "stream",
     "text": [
      "Epoch 6/2000, Average Loss: 0.7275\n"
     ]
    },
    {
     "name": "stderr",
     "output_type": "stream",
     "text": [
      "Epoch 7/2000: 100%|██████████| 2/2 [01:03<00:00, 31.82s/batch, loss=0.667]\n"
     ]
    },
    {
     "name": "stdout",
     "output_type": "stream",
     "text": [
      "Epoch 7/2000, Average Loss: 0.6573\n"
     ]
    },
    {
     "name": "stderr",
     "output_type": "stream",
     "text": [
      "Epoch 8/2000: 100%|██████████| 2/2 [00:58<00:00, 29.19s/batch, loss=0.571]\n"
     ]
    },
    {
     "name": "stdout",
     "output_type": "stream",
     "text": [
      "Epoch 8/2000, Average Loss: 0.6124\n"
     ]
    },
    {
     "name": "stderr",
     "output_type": "stream",
     "text": [
      "Epoch 9/2000: 100%|██████████| 2/2 [00:56<00:00, 28.02s/batch, loss=0.799]\n"
     ]
    },
    {
     "name": "stdout",
     "output_type": "stream",
     "text": [
      "Epoch 9/2000, Average Loss: 0.7084\n"
     ]
    },
    {
     "name": "stderr",
     "output_type": "stream",
     "text": [
      "Epoch 10/2000: 100%|██████████| 2/2 [00:56<00:00, 28.30s/batch, loss=0.556]\n"
     ]
    },
    {
     "name": "stdout",
     "output_type": "stream",
     "text": [
      "Epoch 10/2000, Average Loss: 0.5969\n"
     ]
    },
    {
     "name": "stderr",
     "output_type": "stream",
     "text": [
      "Epoch 11/2000: 100%|██████████| 2/2 [00:56<00:00, 28.03s/batch, loss=0.693]\n"
     ]
    },
    {
     "name": "stdout",
     "output_type": "stream",
     "text": [
      "Epoch 11/2000, Average Loss: 0.6506\n"
     ]
    },
    {
     "name": "stderr",
     "output_type": "stream",
     "text": [
      "Epoch 12/2000: 100%|██████████| 2/2 [01:02<00:00, 31.25s/batch, loss=0.677]\n"
     ]
    },
    {
     "name": "stdout",
     "output_type": "stream",
     "text": [
      "Epoch 12/2000, Average Loss: 0.6355\n"
     ]
    },
    {
     "name": "stderr",
     "output_type": "stream",
     "text": [
      "Epoch 13/2000: 100%|██████████| 2/2 [01:00<00:00, 30.30s/batch, loss=0.585]\n"
     ]
    },
    {
     "name": "stdout",
     "output_type": "stream",
     "text": [
      "Epoch 13/2000, Average Loss: 0.5857\n"
     ]
    },
    {
     "name": "stderr",
     "output_type": "stream",
     "text": [
      "Epoch 14/2000: 100%|██████████| 2/2 [01:00<00:00, 30.15s/batch, loss=0.491]\n"
     ]
    },
    {
     "name": "stdout",
     "output_type": "stream",
     "text": [
      "Epoch 14/2000, Average Loss: 0.5339\n"
     ]
    },
    {
     "name": "stderr",
     "output_type": "stream",
     "text": [
      "Epoch 15/2000: 100%|██████████| 2/2 [00:58<00:00, 29.27s/batch, loss=0.476]\n"
     ]
    },
    {
     "name": "stdout",
     "output_type": "stream",
     "text": [
      "Epoch 15/2000, Average Loss: 0.5167\n"
     ]
    },
    {
     "name": "stderr",
     "output_type": "stream",
     "text": [
      "Epoch 16/2000: 100%|██████████| 2/2 [00:58<00:00, 29.45s/batch, loss=0.456]\n"
     ]
    },
    {
     "name": "stdout",
     "output_type": "stream",
     "text": [
      "Epoch 16/2000, Average Loss: 0.4983\n"
     ]
    },
    {
     "name": "stderr",
     "output_type": "stream",
     "text": [
      "Epoch 17/2000: 100%|██████████| 2/2 [01:04<00:00, 32.26s/batch, loss=0.592]\n"
     ]
    },
    {
     "name": "stdout",
     "output_type": "stream",
     "text": [
      "Epoch 17/2000, Average Loss: 0.5495\n"
     ]
    },
    {
     "name": "stderr",
     "output_type": "stream",
     "text": [
      "Epoch 18/2000: 100%|██████████| 2/2 [01:02<00:00, 31.41s/batch, loss=0.57] \n"
     ]
    },
    {
     "name": "stdout",
     "output_type": "stream",
     "text": [
      "Epoch 18/2000, Average Loss: 0.5335\n"
     ]
    },
    {
     "name": "stderr",
     "output_type": "stream",
     "text": [
      "Epoch 19/2000: 100%|██████████| 2/2 [01:01<00:00, 30.81s/batch, loss=0.429]\n"
     ]
    },
    {
     "name": "stdout",
     "output_type": "stream",
     "text": [
      "Epoch 19/2000, Average Loss: 0.4658\n"
     ]
    },
    {
     "name": "stderr",
     "output_type": "stream",
     "text": [
      "Epoch 20/2000: 100%|██████████| 2/2 [01:02<00:00, 31.47s/batch, loss=0.503]\n"
     ]
    },
    {
     "name": "stdout",
     "output_type": "stream",
     "text": [
      "Epoch 20/2000, Average Loss: 0.4925\n"
     ]
    },
    {
     "name": "stderr",
     "output_type": "stream",
     "text": [
      "Epoch 21/2000: 100%|██████████| 2/2 [01:01<00:00, 30.92s/batch, loss=0.517]\n"
     ]
    },
    {
     "name": "stdout",
     "output_type": "stream",
     "text": [
      "Epoch 21/2000, Average Loss: 0.4925\n"
     ]
    },
    {
     "name": "stderr",
     "output_type": "stream",
     "text": [
      "Epoch 22/2000: 100%|██████████| 2/2 [01:06<00:00, 33.35s/batch, loss=0.411]\n"
     ]
    },
    {
     "name": "stdout",
     "output_type": "stream",
     "text": [
      "Epoch 22/2000, Average Loss: 0.4402\n"
     ]
    },
    {
     "name": "stderr",
     "output_type": "stream",
     "text": [
      "Epoch 23/2000: 100%|██████████| 2/2 [01:05<00:00, 32.70s/batch, loss=0.56] \n"
     ]
    },
    {
     "name": "stdout",
     "output_type": "stream",
     "text": [
      "Epoch 23/2000, Average Loss: 0.5006\n"
     ]
    },
    {
     "name": "stderr",
     "output_type": "stream",
     "text": [
      "Epoch 24/2000: 100%|██████████| 2/2 [01:03<00:00, 31.74s/batch, loss=0.283]\n"
     ]
    },
    {
     "name": "stdout",
     "output_type": "stream",
     "text": [
      "Epoch 24/2000, Average Loss: 0.3752\n"
     ]
    },
    {
     "name": "stderr",
     "output_type": "stream",
     "text": [
      "Epoch 25/2000: 100%|██████████| 2/2 [01:02<00:00, 31.45s/batch, loss=0.514]\n"
     ]
    },
    {
     "name": "stdout",
     "output_type": "stream",
     "text": [
      "Epoch 25/2000, Average Loss: 0.4730\n"
     ]
    },
    {
     "name": "stderr",
     "output_type": "stream",
     "text": [
      "Epoch 26/2000: 100%|██████████| 2/2 [01:03<00:00, 31.73s/batch, loss=0.379]\n"
     ]
    },
    {
     "name": "stdout",
     "output_type": "stream",
     "text": [
      "Epoch 26/2000, Average Loss: 0.4109\n"
     ]
    },
    {
     "name": "stderr",
     "output_type": "stream",
     "text": [
      "Epoch 27/2000: 100%|██████████| 2/2 [00:56<00:00, 28.22s/batch, loss=0.442]\n"
     ]
    },
    {
     "name": "stdout",
     "output_type": "stream",
     "text": [
      "Epoch 27/2000, Average Loss: 0.4352\n"
     ]
    },
    {
     "name": "stderr",
     "output_type": "stream",
     "text": [
      "Epoch 28/2000: 100%|██████████| 2/2 [01:09<00:00, 34.54s/batch, loss=0.362]\n"
     ]
    },
    {
     "name": "stdout",
     "output_type": "stream",
     "text": [
      "Epoch 28/2000, Average Loss: 0.3974\n"
     ]
    },
    {
     "name": "stderr",
     "output_type": "stream",
     "text": [
      "Epoch 29/2000: 100%|██████████| 2/2 [01:13<00:00, 36.87s/batch, loss=0.525]\n"
     ]
    },
    {
     "name": "stdout",
     "output_type": "stream",
     "text": [
      "Epoch 29/2000, Average Loss: 0.4656\n"
     ]
    },
    {
     "name": "stderr",
     "output_type": "stream",
     "text": [
      "Epoch 30/2000: 100%|██████████| 2/2 [01:07<00:00, 33.79s/batch, loss=0.48] \n"
     ]
    },
    {
     "name": "stdout",
     "output_type": "stream",
     "text": [
      "Epoch 30/2000, Average Loss: 0.4424\n"
     ]
    },
    {
     "name": "stderr",
     "output_type": "stream",
     "text": [
      "Epoch 31/2000: 100%|██████████| 2/2 [01:08<00:00, 34.38s/batch, loss=0.445]\n"
     ]
    },
    {
     "name": "stdout",
     "output_type": "stream",
     "text": [
      "Epoch 31/2000, Average Loss: 0.4240\n"
     ]
    },
    {
     "name": "stderr",
     "output_type": "stream",
     "text": [
      "Epoch 32/2000: 100%|██████████| 2/2 [01:05<00:00, 32.60s/batch, loss=0.399]\n"
     ]
    },
    {
     "name": "stdout",
     "output_type": "stream",
     "text": [
      "Epoch 32/2000, Average Loss: 0.4005\n"
     ]
    },
    {
     "name": "stderr",
     "output_type": "stream",
     "text": [
      "Epoch 33/2000: 100%|██████████| 2/2 [01:05<00:00, 32.99s/batch, loss=0.548]\n"
     ]
    },
    {
     "name": "stdout",
     "output_type": "stream",
     "text": [
      "Epoch 33/2000, Average Loss: 0.4623\n"
     ]
    },
    {
     "name": "stderr",
     "output_type": "stream",
     "text": [
      "Epoch 34/2000: 100%|██████████| 2/2 [01:04<00:00, 32.07s/batch, loss=0.505]\n"
     ]
    },
    {
     "name": "stdout",
     "output_type": "stream",
     "text": [
      "Epoch 34/2000, Average Loss: 0.4403\n"
     ]
    },
    {
     "name": "stderr",
     "output_type": "stream",
     "text": [
      "Epoch 35/2000: 100%|██████████| 2/2 [01:05<00:00, 32.73s/batch, loss=0.34] \n"
     ]
    },
    {
     "name": "stdout",
     "output_type": "stream",
     "text": [
      "Epoch 35/2000, Average Loss: 0.3645\n"
     ]
    },
    {
     "name": "stderr",
     "output_type": "stream",
     "text": [
      "Epoch 36/2000: 100%|██████████| 2/2 [01:03<00:00, 31.74s/batch, loss=0.276]\n"
     ]
    },
    {
     "name": "stdout",
     "output_type": "stream",
     "text": [
      "Epoch 36/2000, Average Loss: 0.3327\n"
     ]
    },
    {
     "name": "stderr",
     "output_type": "stream",
     "text": [
      "Epoch 37/2000: 100%|██████████| 2/2 [01:02<00:00, 31.38s/batch, loss=0.428]\n"
     ]
    },
    {
     "name": "stdout",
     "output_type": "stream",
     "text": [
      "Epoch 37/2000, Average Loss: 0.3954\n"
     ]
    },
    {
     "name": "stderr",
     "output_type": "stream",
     "text": [
      "Epoch 38/2000: 100%|██████████| 2/2 [01:01<00:00, 30.82s/batch, loss=0.416]\n"
     ]
    },
    {
     "name": "stdout",
     "output_type": "stream",
     "text": [
      "Epoch 38/2000, Average Loss: 0.3869\n"
     ]
    },
    {
     "name": "stderr",
     "output_type": "stream",
     "text": [
      "Epoch 39/2000: 100%|██████████| 2/2 [01:03<00:00, 31.68s/batch, loss=0.275]\n"
     ]
    },
    {
     "name": "stdout",
     "output_type": "stream",
     "text": [
      "Epoch 39/2000, Average Loss: 0.3225\n"
     ]
    },
    {
     "name": "stderr",
     "output_type": "stream",
     "text": [
      "Epoch 40/2000: 100%|██████████| 2/2 [01:04<00:00, 32.30s/batch, loss=0.347]\n"
     ]
    },
    {
     "name": "stdout",
     "output_type": "stream",
     "text": [
      "Epoch 40/2000, Average Loss: 0.3511\n"
     ]
    },
    {
     "name": "stderr",
     "output_type": "stream",
     "text": [
      "Epoch 41/2000: 100%|██████████| 2/2 [01:11<00:00, 35.56s/batch, loss=0.404]\n"
     ]
    },
    {
     "name": "stdout",
     "output_type": "stream",
     "text": [
      "Epoch 41/2000, Average Loss: 0.3722\n"
     ]
    },
    {
     "name": "stderr",
     "output_type": "stream",
     "text": [
      "Epoch 42/2000: 100%|██████████| 2/2 [01:05<00:00, 32.91s/batch, loss=0.414]\n"
     ]
    },
    {
     "name": "stdout",
     "output_type": "stream",
     "text": [
      "Epoch 42/2000, Average Loss: 0.3726\n"
     ]
    },
    {
     "name": "stderr",
     "output_type": "stream",
     "text": [
      "Epoch 43/2000: 100%|██████████| 2/2 [01:08<00:00, 34.49s/batch, loss=0.335]\n"
     ]
    },
    {
     "name": "stdout",
     "output_type": "stream",
     "text": [
      "Epoch 43/2000, Average Loss: 0.3347\n"
     ]
    },
    {
     "name": "stderr",
     "output_type": "stream",
     "text": [
      "Epoch 44/2000: 100%|██████████| 2/2 [01:11<00:00, 35.89s/batch, loss=0.392]\n"
     ]
    },
    {
     "name": "stdout",
     "output_type": "stream",
     "text": [
      "Epoch 44/2000, Average Loss: 0.3555\n"
     ]
    },
    {
     "name": "stderr",
     "output_type": "stream",
     "text": [
      "Epoch 45/2000: 100%|██████████| 2/2 [01:11<00:00, 35.86s/batch, loss=0.36] \n"
     ]
    },
    {
     "name": "stdout",
     "output_type": "stream",
     "text": [
      "Epoch 45/2000, Average Loss: 0.3377\n"
     ]
    },
    {
     "name": "stderr",
     "output_type": "stream",
     "text": [
      "Epoch 46/2000: 100%|██████████| 2/2 [01:11<00:00, 35.88s/batch, loss=0.239]\n"
     ]
    },
    {
     "name": "stdout",
     "output_type": "stream",
     "text": [
      "Epoch 46/2000, Average Loss: 0.2820\n"
     ]
    },
    {
     "name": "stderr",
     "output_type": "stream",
     "text": [
      "Epoch 47/2000: 100%|██████████| 2/2 [01:09<00:00, 34.80s/batch, loss=0.303]\n"
     ]
    },
    {
     "name": "stdout",
     "output_type": "stream",
     "text": [
      "Epoch 47/2000, Average Loss: 0.3084\n"
     ]
    },
    {
     "name": "stderr",
     "output_type": "stream",
     "text": [
      "Epoch 48/2000: 100%|██████████| 2/2 [01:08<00:00, 34.44s/batch, loss=0.267]\n"
     ]
    },
    {
     "name": "stdout",
     "output_type": "stream",
     "text": [
      "Epoch 48/2000, Average Loss: 0.2914\n"
     ]
    },
    {
     "name": "stderr",
     "output_type": "stream",
     "text": [
      "Epoch 49/2000: 100%|██████████| 2/2 [01:11<00:00, 35.51s/batch, loss=0.306]\n"
     ]
    },
    {
     "name": "stdout",
     "output_type": "stream",
     "text": [
      "Epoch 49/2000, Average Loss: 0.3071\n"
     ]
    },
    {
     "name": "stderr",
     "output_type": "stream",
     "text": [
      "Epoch 50/2000: 100%|██████████| 2/2 [01:13<00:00, 36.75s/batch, loss=0.274]\n"
     ]
    },
    {
     "name": "stdout",
     "output_type": "stream",
     "text": [
      "Epoch 50/2000, Average Loss: 0.2916\n",
      "Model saved at epoch 50.\n"
     ]
    },
    {
     "name": "stderr",
     "output_type": "stream",
     "text": [
      "Epoch 51/2000: 100%|██████████| 2/2 [01:15<00:00, 37.55s/batch, loss=0.233]\n"
     ]
    },
    {
     "name": "stdout",
     "output_type": "stream",
     "text": [
      "Epoch 51/2000, Average Loss: 0.2725\n"
     ]
    },
    {
     "name": "stderr",
     "output_type": "stream",
     "text": [
      "Epoch 52/2000: 100%|██████████| 2/2 [01:11<00:00, 35.61s/batch, loss=0.366]\n"
     ]
    },
    {
     "name": "stdout",
     "output_type": "stream",
     "text": [
      "Epoch 52/2000, Average Loss: 0.3293\n"
     ]
    },
    {
     "name": "stderr",
     "output_type": "stream",
     "text": [
      "Epoch 53/2000: 100%|██████████| 2/2 [01:11<00:00, 35.87s/batch, loss=0.301]\n"
     ]
    },
    {
     "name": "stdout",
     "output_type": "stream",
     "text": [
      "Epoch 53/2000, Average Loss: 0.2996\n"
     ]
    },
    {
     "name": "stderr",
     "output_type": "stream",
     "text": [
      "Epoch 54/2000: 100%|██████████| 2/2 [01:06<00:00, 33.42s/batch, loss=0.301]\n"
     ]
    },
    {
     "name": "stdout",
     "output_type": "stream",
     "text": [
      "Epoch 54/2000, Average Loss: 0.2985\n"
     ]
    },
    {
     "name": "stderr",
     "output_type": "stream",
     "text": [
      "Epoch 55/2000: 100%|██████████| 2/2 [01:04<00:00, 32.34s/batch, loss=0.373]\n"
     ]
    },
    {
     "name": "stdout",
     "output_type": "stream",
     "text": [
      "Epoch 55/2000, Average Loss: 0.3289\n"
     ]
    },
    {
     "name": "stderr",
     "output_type": "stream",
     "text": [
      "Epoch 56/2000: 100%|██████████| 2/2 [01:06<00:00, 33.36s/batch, loss=0.298]\n"
     ]
    },
    {
     "name": "stdout",
     "output_type": "stream",
     "text": [
      "Epoch 56/2000, Average Loss: 0.2953\n"
     ]
    },
    {
     "name": "stderr",
     "output_type": "stream",
     "text": [
      "Epoch 57/2000: 100%|██████████| 2/2 [01:07<00:00, 33.78s/batch, loss=0.23]\n"
     ]
    },
    {
     "name": "stdout",
     "output_type": "stream",
     "text": [
      "Epoch 57/2000, Average Loss: 0.2652\n"
     ]
    },
    {
     "name": "stderr",
     "output_type": "stream",
     "text": [
      "Epoch 58/2000: 100%|██████████| 2/2 [01:07<00:00, 33.56s/batch, loss=0.287]\n"
     ]
    },
    {
     "name": "stdout",
     "output_type": "stream",
     "text": [
      "Epoch 58/2000, Average Loss: 0.2891\n"
     ]
    },
    {
     "name": "stderr",
     "output_type": "stream",
     "text": [
      "Epoch 59/2000: 100%|██████████| 2/2 [01:06<00:00, 33.05s/batch, loss=0.303]\n"
     ]
    },
    {
     "name": "stdout",
     "output_type": "stream",
     "text": [
      "Epoch 59/2000, Average Loss: 0.2952\n"
     ]
    },
    {
     "name": "stderr",
     "output_type": "stream",
     "text": [
      "Epoch 60/2000: 100%|██████████| 2/2 [01:08<00:00, 34.14s/batch, loss=0.325]\n"
     ]
    },
    {
     "name": "stdout",
     "output_type": "stream",
     "text": [
      "Epoch 60/2000, Average Loss: 0.3042\n"
     ]
    },
    {
     "name": "stderr",
     "output_type": "stream",
     "text": [
      "Epoch 61/2000: 100%|██████████| 2/2 [01:07<00:00, 33.57s/batch, loss=0.328]\n"
     ]
    },
    {
     "name": "stdout",
     "output_type": "stream",
     "text": [
      "Epoch 61/2000, Average Loss: 0.3047\n"
     ]
    },
    {
     "name": "stderr",
     "output_type": "stream",
     "text": [
      "Epoch 62/2000: 100%|██████████| 2/2 [01:12<00:00, 36.27s/batch, loss=0.189]\n"
     ]
    },
    {
     "name": "stdout",
     "output_type": "stream",
     "text": [
      "Epoch 62/2000, Average Loss: 0.2434\n"
     ]
    },
    {
     "name": "stderr",
     "output_type": "stream",
     "text": [
      "Epoch 63/2000: 100%|██████████| 2/2 [01:02<00:00, 31.30s/batch, loss=0.354]\n"
     ]
    },
    {
     "name": "stdout",
     "output_type": "stream",
     "text": [
      "Epoch 63/2000, Average Loss: 0.3146\n"
     ]
    },
    {
     "name": "stderr",
     "output_type": "stream",
     "text": [
      "Epoch 64/2000: 100%|██████████| 2/2 [01:15<00:00, 37.65s/batch, loss=0.225]\n"
     ]
    },
    {
     "name": "stdout",
     "output_type": "stream",
     "text": [
      "Epoch 64/2000, Average Loss: 0.2585\n"
     ]
    },
    {
     "name": "stderr",
     "output_type": "stream",
     "text": [
      "Epoch 65/2000: 100%|██████████| 2/2 [01:13<00:00, 36.56s/batch, loss=0.309]\n"
     ]
    },
    {
     "name": "stdout",
     "output_type": "stream",
     "text": [
      "Epoch 65/2000, Average Loss: 0.2943\n"
     ]
    },
    {
     "name": "stderr",
     "output_type": "stream",
     "text": [
      "Epoch 66/2000: 100%|██████████| 2/2 [01:18<00:00, 39.13s/batch, loss=0.329]\n"
     ]
    },
    {
     "name": "stdout",
     "output_type": "stream",
     "text": [
      "Epoch 66/2000, Average Loss: 0.3032\n"
     ]
    },
    {
     "name": "stderr",
     "output_type": "stream",
     "text": [
      "Epoch 67/2000: 100%|██████████| 2/2 [01:07<00:00, 33.93s/batch, loss=0.319]\n"
     ]
    },
    {
     "name": "stdout",
     "output_type": "stream",
     "text": [
      "Epoch 67/2000, Average Loss: 0.2987\n"
     ]
    },
    {
     "name": "stderr",
     "output_type": "stream",
     "text": [
      "Epoch 68/2000: 100%|██████████| 2/2 [01:05<00:00, 32.69s/batch, loss=0.23] \n"
     ]
    },
    {
     "name": "stdout",
     "output_type": "stream",
     "text": [
      "Epoch 68/2000, Average Loss: 0.2585\n"
     ]
    },
    {
     "name": "stderr",
     "output_type": "stream",
     "text": [
      "Epoch 69/2000: 100%|██████████| 2/2 [01:02<00:00, 31.49s/batch, loss=0.31] \n"
     ]
    },
    {
     "name": "stdout",
     "output_type": "stream",
     "text": [
      "Epoch 69/2000, Average Loss: 0.2928\n"
     ]
    },
    {
     "name": "stderr",
     "output_type": "stream",
     "text": [
      "Epoch 70/2000: 100%|██████████| 2/2 [01:09<00:00, 34.79s/batch, loss=0.25] \n"
     ]
    },
    {
     "name": "stdout",
     "output_type": "stream",
     "text": [
      "Epoch 70/2000, Average Loss: 0.2660\n"
     ]
    },
    {
     "name": "stderr",
     "output_type": "stream",
     "text": [
      "Epoch 71/2000: 100%|██████████| 2/2 [01:10<00:00, 35.05s/batch, loss=0.271]\n"
     ]
    },
    {
     "name": "stdout",
     "output_type": "stream",
     "text": [
      "Epoch 71/2000, Average Loss: 0.2747\n"
     ]
    },
    {
     "name": "stderr",
     "output_type": "stream",
     "text": [
      "Epoch 72/2000: 100%|██████████| 2/2 [01:02<00:00, 31.49s/batch, loss=0.253]\n"
     ]
    },
    {
     "name": "stdout",
     "output_type": "stream",
     "text": [
      "Epoch 72/2000, Average Loss: 0.2663\n"
     ]
    },
    {
     "name": "stderr",
     "output_type": "stream",
     "text": [
      "Epoch 73/2000: 100%|██████████| 2/2 [01:00<00:00, 30.22s/batch, loss=0.272]\n"
     ]
    },
    {
     "name": "stdout",
     "output_type": "stream",
     "text": [
      "Epoch 73/2000, Average Loss: 0.2745\n"
     ]
    },
    {
     "name": "stderr",
     "output_type": "stream",
     "text": [
      "Epoch 74/2000: 100%|██████████| 2/2 [01:01<00:00, 30.93s/batch, loss=0.294]\n"
     ]
    },
    {
     "name": "stdout",
     "output_type": "stream",
     "text": [
      "Epoch 74/2000, Average Loss: 0.2837\n"
     ]
    },
    {
     "name": "stderr",
     "output_type": "stream",
     "text": [
      "Epoch 75/2000: 100%|██████████| 2/2 [01:01<00:00, 30.74s/batch, loss=0.242]\n"
     ]
    },
    {
     "name": "stdout",
     "output_type": "stream",
     "text": [
      "Epoch 75/2000, Average Loss: 0.2609\n"
     ]
    },
    {
     "name": "stderr",
     "output_type": "stream",
     "text": [
      "Epoch 76/2000: 100%|██████████| 2/2 [01:02<00:00, 31.30s/batch, loss=0.209]\n"
     ]
    },
    {
     "name": "stdout",
     "output_type": "stream",
     "text": [
      "Epoch 76/2000, Average Loss: 0.2462\n"
     ]
    },
    {
     "name": "stderr",
     "output_type": "stream",
     "text": [
      "Epoch 77/2000: 100%|██████████| 2/2 [01:01<00:00, 30.80s/batch, loss=0.327]\n"
     ]
    },
    {
     "name": "stdout",
     "output_type": "stream",
     "text": [
      "Epoch 77/2000, Average Loss: 0.2974\n"
     ]
    },
    {
     "name": "stderr",
     "output_type": "stream",
     "text": [
      "Epoch 78/2000: 100%|██████████| 2/2 [01:11<00:00, 35.86s/batch, loss=0.308]\n"
     ]
    },
    {
     "name": "stdout",
     "output_type": "stream",
     "text": [
      "Epoch 78/2000, Average Loss: 0.2889\n"
     ]
    },
    {
     "name": "stderr",
     "output_type": "stream",
     "text": [
      "Epoch 79/2000: 100%|██████████| 2/2 [01:08<00:00, 34.49s/batch, loss=0.276]\n"
     ]
    },
    {
     "name": "stdout",
     "output_type": "stream",
     "text": [
      "Epoch 79/2000, Average Loss: 0.2744\n"
     ]
    },
    {
     "name": "stderr",
     "output_type": "stream",
     "text": [
      "Epoch 80/2000: 100%|██████████| 2/2 [01:08<00:00, 34.48s/batch, loss=0.26] \n"
     ]
    },
    {
     "name": "stdout",
     "output_type": "stream",
     "text": [
      "Epoch 80/2000, Average Loss: 0.2672\n"
     ]
    },
    {
     "name": "stderr",
     "output_type": "stream",
     "text": [
      "Epoch 81/2000: 100%|██████████| 2/2 [01:13<00:00, 36.65s/batch, loss=0.218]\n"
     ]
    },
    {
     "name": "stdout",
     "output_type": "stream",
     "text": [
      "Epoch 81/2000, Average Loss: 0.2482\n"
     ]
    },
    {
     "name": "stderr",
     "output_type": "stream",
     "text": [
      "Epoch 82/2000: 100%|██████████| 2/2 [01:03<00:00, 31.96s/batch, loss=0.355]\n"
     ]
    },
    {
     "name": "stdout",
     "output_type": "stream",
     "text": [
      "Epoch 82/2000, Average Loss: 0.3077\n"
     ]
    },
    {
     "name": "stderr",
     "output_type": "stream",
     "text": [
      "Epoch 83/2000: 100%|██████████| 2/2 [01:06<00:00, 33.44s/batch, loss=0.239]\n"
     ]
    },
    {
     "name": "stdout",
     "output_type": "stream",
     "text": [
      "Epoch 83/2000, Average Loss: 0.2568\n"
     ]
    },
    {
     "name": "stderr",
     "output_type": "stream",
     "text": [
      "Epoch 84/2000: 100%|██████████| 2/2 [01:06<00:00, 33.43s/batch, loss=0.227]\n"
     ]
    },
    {
     "name": "stdout",
     "output_type": "stream",
     "text": [
      "Epoch 84/2000, Average Loss: 0.2511\n"
     ]
    },
    {
     "name": "stderr",
     "output_type": "stream",
     "text": [
      "Epoch 85/2000: 100%|██████████| 2/2 [01:06<00:00, 33.33s/batch, loss=0.292]\n"
     ]
    },
    {
     "name": "stdout",
     "output_type": "stream",
     "text": [
      "Epoch 85/2000, Average Loss: 0.2793\n"
     ]
    },
    {
     "name": "stderr",
     "output_type": "stream",
     "text": [
      "Epoch 86/2000: 100%|██████████| 2/2 [01:08<00:00, 34.39s/batch, loss=0.245]\n"
     ]
    },
    {
     "name": "stdout",
     "output_type": "stream",
     "text": [
      "Epoch 86/2000, Average Loss: 0.2585\n"
     ]
    },
    {
     "name": "stderr",
     "output_type": "stream",
     "text": [
      "Epoch 87/2000: 100%|██████████| 2/2 [01:07<00:00, 33.93s/batch, loss=0.293]\n"
     ]
    },
    {
     "name": "stdout",
     "output_type": "stream",
     "text": [
      "Epoch 87/2000, Average Loss: 0.2794\n"
     ]
    },
    {
     "name": "stderr",
     "output_type": "stream",
     "text": [
      "Epoch 88/2000: 100%|██████████| 2/2 [01:12<00:00, 36.45s/batch, loss=0.293]\n"
     ]
    },
    {
     "name": "stdout",
     "output_type": "stream",
     "text": [
      "Epoch 88/2000, Average Loss: 0.2786\n"
     ]
    },
    {
     "name": "stderr",
     "output_type": "stream",
     "text": [
      "Epoch 89/2000: 100%|██████████| 2/2 [01:29<00:00, 44.74s/batch, loss=0.306]\n"
     ]
    },
    {
     "name": "stdout",
     "output_type": "stream",
     "text": [
      "Epoch 89/2000, Average Loss: 0.2842\n"
     ]
    },
    {
     "name": "stderr",
     "output_type": "stream",
     "text": [
      "Epoch 90/2000: 100%|██████████| 2/2 [01:12<00:00, 36.11s/batch, loss=0.217]\n"
     ]
    },
    {
     "name": "stdout",
     "output_type": "stream",
     "text": [
      "Epoch 90/2000, Average Loss: 0.2448\n"
     ]
    },
    {
     "name": "stderr",
     "output_type": "stream",
     "text": [
      "Epoch 91/2000: 100%|██████████| 2/2 [01:11<00:00, 35.92s/batch, loss=0.335]\n"
     ]
    },
    {
     "name": "stdout",
     "output_type": "stream",
     "text": [
      "Epoch 91/2000, Average Loss: 0.2958\n"
     ]
    },
    {
     "name": "stderr",
     "output_type": "stream",
     "text": [
      "Epoch 92/2000: 100%|██████████| 2/2 [01:06<00:00, 33.31s/batch, loss=0.205]\n"
     ]
    },
    {
     "name": "stdout",
     "output_type": "stream",
     "text": [
      "Epoch 92/2000, Average Loss: 0.2387\n"
     ]
    },
    {
     "name": "stderr",
     "output_type": "stream",
     "text": [
      "Epoch 93/2000: 100%|██████████| 2/2 [01:07<00:00, 33.79s/batch, loss=0.274]\n"
     ]
    },
    {
     "name": "stdout",
     "output_type": "stream",
     "text": [
      "Epoch 93/2000, Average Loss: 0.2684\n"
     ]
    },
    {
     "name": "stderr",
     "output_type": "stream",
     "text": [
      "Epoch 94/2000: 100%|██████████| 2/2 [01:05<00:00, 32.90s/batch, loss=0.26] \n"
     ]
    },
    {
     "name": "stdout",
     "output_type": "stream",
     "text": [
      "Epoch 94/2000, Average Loss: 0.2622\n"
     ]
    },
    {
     "name": "stderr",
     "output_type": "stream",
     "text": [
      "Epoch 95/2000: 100%|██████████| 2/2 [01:05<00:00, 32.77s/batch, loss=0.328]\n"
     ]
    },
    {
     "name": "stdout",
     "output_type": "stream",
     "text": [
      "Epoch 95/2000, Average Loss: 0.2916\n"
     ]
    },
    {
     "name": "stderr",
     "output_type": "stream",
     "text": [
      "Epoch 96/2000: 100%|██████████| 2/2 [01:10<00:00, 35.04s/batch, loss=0.294]\n"
     ]
    },
    {
     "name": "stdout",
     "output_type": "stream",
     "text": [
      "Epoch 96/2000, Average Loss: 0.2760\n"
     ]
    },
    {
     "name": "stderr",
     "output_type": "stream",
     "text": [
      "Epoch 97/2000: 100%|██████████| 2/2 [01:05<00:00, 32.66s/batch, loss=0.304]\n"
     ]
    },
    {
     "name": "stdout",
     "output_type": "stream",
     "text": [
      "Epoch 97/2000, Average Loss: 0.2800\n"
     ]
    },
    {
     "name": "stderr",
     "output_type": "stream",
     "text": [
      "Epoch 98/2000: 100%|██████████| 2/2 [01:01<00:00, 30.98s/batch, loss=0.284]\n"
     ]
    },
    {
     "name": "stdout",
     "output_type": "stream",
     "text": [
      "Epoch 98/2000, Average Loss: 0.2711\n"
     ]
    },
    {
     "name": "stderr",
     "output_type": "stream",
     "text": [
      "Epoch 99/2000: 100%|██████████| 2/2 [01:06<00:00, 33.30s/batch, loss=0.226]\n"
     ]
    },
    {
     "name": "stdout",
     "output_type": "stream",
     "text": [
      "Epoch 99/2000, Average Loss: 0.2452\n"
     ]
    },
    {
     "name": "stderr",
     "output_type": "stream",
     "text": [
      "Epoch 100/2000: 100%|██████████| 2/2 [01:07<00:00, 33.54s/batch, loss=0.27] \n"
     ]
    },
    {
     "name": "stdout",
     "output_type": "stream",
     "text": [
      "Epoch 100/2000, Average Loss: 0.2640\n",
      "Model saved at epoch 100.\n"
     ]
    },
    {
     "name": "stderr",
     "output_type": "stream",
     "text": [
      "Epoch 101/2000: 100%|██████████| 2/2 [01:01<00:00, 30.51s/batch, loss=0.199]\n"
     ]
    },
    {
     "name": "stdout",
     "output_type": "stream",
     "text": [
      "Epoch 101/2000, Average Loss: 0.2328\n"
     ]
    },
    {
     "name": "stderr",
     "output_type": "stream",
     "text": [
      "Epoch 102/2000: 100%|██████████| 2/2 [01:06<00:00, 33.06s/batch, loss=0.28] \n"
     ]
    },
    {
     "name": "stdout",
     "output_type": "stream",
     "text": [
      "Epoch 102/2000, Average Loss: 0.2677\n"
     ]
    },
    {
     "name": "stderr",
     "output_type": "stream",
     "text": [
      "Epoch 103/2000: 100%|██████████| 2/2 [01:05<00:00, 32.96s/batch, loss=0.23] \n"
     ]
    },
    {
     "name": "stdout",
     "output_type": "stream",
     "text": [
      "Epoch 103/2000, Average Loss: 0.2461\n"
     ]
    },
    {
     "name": "stderr",
     "output_type": "stream",
     "text": [
      "Epoch 104/2000: 100%|██████████| 2/2 [01:05<00:00, 32.98s/batch, loss=0.246]\n"
     ]
    },
    {
     "name": "stdout",
     "output_type": "stream",
     "text": [
      "Epoch 104/2000, Average Loss: 0.2524\n"
     ]
    },
    {
     "name": "stderr",
     "output_type": "stream",
     "text": [
      "Epoch 105/2000: 100%|██████████| 2/2 [01:04<00:00, 32.30s/batch, loss=0.204]\n"
     ]
    },
    {
     "name": "stdout",
     "output_type": "stream",
     "text": [
      "Epoch 105/2000, Average Loss: 0.2339\n"
     ]
    },
    {
     "name": "stderr",
     "output_type": "stream",
     "text": [
      "Epoch 106/2000: 100%|██████████| 2/2 [01:07<00:00, 33.53s/batch, loss=0.229]\n"
     ]
    },
    {
     "name": "stdout",
     "output_type": "stream",
     "text": [
      "Epoch 106/2000, Average Loss: 0.2448\n"
     ]
    },
    {
     "name": "stderr",
     "output_type": "stream",
     "text": [
      "Epoch 107/2000: 100%|██████████| 2/2 [01:06<00:00, 33.23s/batch, loss=0.262]\n"
     ]
    },
    {
     "name": "stdout",
     "output_type": "stream",
     "text": [
      "Epoch 107/2000, Average Loss: 0.2585\n"
     ]
    },
    {
     "name": "stderr",
     "output_type": "stream",
     "text": [
      "Epoch 108/2000: 100%|██████████| 2/2 [01:04<00:00, 32.34s/batch, loss=0.27] \n"
     ]
    },
    {
     "name": "stdout",
     "output_type": "stream",
     "text": [
      "Epoch 108/2000, Average Loss: 0.2617\n"
     ]
    },
    {
     "name": "stderr",
     "output_type": "stream",
     "text": [
      "Epoch 109/2000: 100%|██████████| 2/2 [01:09<00:00, 34.58s/batch, loss=0.297]\n"
     ]
    },
    {
     "name": "stdout",
     "output_type": "stream",
     "text": [
      "Epoch 109/2000, Average Loss: 0.2732\n"
     ]
    },
    {
     "name": "stderr",
     "output_type": "stream",
     "text": [
      "Epoch 110/2000: 100%|██████████| 2/2 [01:03<00:00, 31.86s/batch, loss=0.269]\n"
     ]
    },
    {
     "name": "stdout",
     "output_type": "stream",
     "text": [
      "Epoch 110/2000, Average Loss: 0.2611\n"
     ]
    },
    {
     "name": "stderr",
     "output_type": "stream",
     "text": [
      "Epoch 111/2000: 100%|██████████| 2/2 [01:03<00:00, 31.70s/batch, loss=0.293]\n"
     ]
    },
    {
     "name": "stdout",
     "output_type": "stream",
     "text": [
      "Epoch 111/2000, Average Loss: 0.2714\n"
     ]
    },
    {
     "name": "stderr",
     "output_type": "stream",
     "text": [
      "Epoch 112/2000: 100%|██████████| 2/2 [00:58<00:00, 29.38s/batch, loss=0.312]\n"
     ]
    },
    {
     "name": "stdout",
     "output_type": "stream",
     "text": [
      "Epoch 112/2000, Average Loss: 0.2797\n"
     ]
    },
    {
     "name": "stderr",
     "output_type": "stream",
     "text": [
      "Epoch 113/2000: 100%|██████████| 2/2 [00:56<00:00, 28.34s/batch, loss=0.221]\n"
     ]
    },
    {
     "name": "stdout",
     "output_type": "stream",
     "text": [
      "Epoch 113/2000, Average Loss: 0.2394\n"
     ]
    },
    {
     "name": "stderr",
     "output_type": "stream",
     "text": [
      "Epoch 114/2000: 100%|██████████| 2/2 [00:57<00:00, 28.62s/batch, loss=0.255]\n"
     ]
    },
    {
     "name": "stdout",
     "output_type": "stream",
     "text": [
      "Epoch 114/2000, Average Loss: 0.2537\n"
     ]
    },
    {
     "name": "stderr",
     "output_type": "stream",
     "text": [
      "Epoch 115/2000: 100%|██████████| 2/2 [00:56<00:00, 28.38s/batch, loss=0.319]\n"
     ]
    },
    {
     "name": "stdout",
     "output_type": "stream",
     "text": [
      "Epoch 115/2000, Average Loss: 0.2815\n"
     ]
    },
    {
     "name": "stderr",
     "output_type": "stream",
     "text": [
      "Epoch 116/2000: 100%|██████████| 2/2 [01:01<00:00, 30.68s/batch, loss=0.292]\n"
     ]
    },
    {
     "name": "stdout",
     "output_type": "stream",
     "text": [
      "Epoch 116/2000, Average Loss: 0.2700\n"
     ]
    },
    {
     "name": "stderr",
     "output_type": "stream",
     "text": [
      "Epoch 117/2000: 100%|██████████| 2/2 [00:58<00:00, 29.30s/batch, loss=0.216]\n"
     ]
    },
    {
     "name": "stdout",
     "output_type": "stream",
     "text": [
      "Epoch 117/2000, Average Loss: 0.2363\n"
     ]
    },
    {
     "name": "stderr",
     "output_type": "stream",
     "text": [
      "Epoch 118/2000: 100%|██████████| 2/2 [00:57<00:00, 28.87s/batch, loss=0.291]\n"
     ]
    },
    {
     "name": "stdout",
     "output_type": "stream",
     "text": [
      "Epoch 118/2000, Average Loss: 0.2691\n"
     ]
    },
    {
     "name": "stderr",
     "output_type": "stream",
     "text": [
      "Epoch 119/2000: 100%|██████████| 2/2 [01:05<00:00, 32.52s/batch, loss=0.234]\n"
     ]
    },
    {
     "name": "stdout",
     "output_type": "stream",
     "text": [
      "Epoch 119/2000, Average Loss: 0.2436\n"
     ]
    },
    {
     "name": "stderr",
     "output_type": "stream",
     "text": [
      "Epoch 120/2000: 100%|██████████| 2/2 [01:02<00:00, 31.29s/batch, loss=0.282]\n"
     ]
    },
    {
     "name": "stdout",
     "output_type": "stream",
     "text": [
      "Epoch 120/2000, Average Loss: 0.2643\n"
     ]
    },
    {
     "name": "stderr",
     "output_type": "stream",
     "text": [
      "Epoch 121/2000: 100%|██████████| 2/2 [01:04<00:00, 32.00s/batch, loss=0.297]\n"
     ]
    },
    {
     "name": "stdout",
     "output_type": "stream",
     "text": [
      "Epoch 121/2000, Average Loss: 0.2706\n"
     ]
    },
    {
     "name": "stderr",
     "output_type": "stream",
     "text": [
      "Epoch 122/2000: 100%|██████████| 2/2 [01:01<00:00, 30.93s/batch, loss=0.28] \n"
     ]
    },
    {
     "name": "stdout",
     "output_type": "stream",
     "text": [
      "Epoch 122/2000, Average Loss: 0.2628\n"
     ]
    },
    {
     "name": "stderr",
     "output_type": "stream",
     "text": [
      "Epoch 123/2000: 100%|██████████| 2/2 [01:02<00:00, 31.33s/batch, loss=0.35] \n"
     ]
    },
    {
     "name": "stdout",
     "output_type": "stream",
     "text": [
      "Epoch 123/2000, Average Loss: 0.2931\n"
     ]
    },
    {
     "name": "stderr",
     "output_type": "stream",
     "text": [
      "Epoch 124/2000: 100%|██████████| 2/2 [01:02<00:00, 31.01s/batch, loss=0.212]\n"
     ]
    },
    {
     "name": "stdout",
     "output_type": "stream",
     "text": [
      "Epoch 124/2000, Average Loss: 0.2326\n"
     ]
    },
    {
     "name": "stderr",
     "output_type": "stream",
     "text": [
      "Epoch 125/2000: 100%|██████████| 2/2 [01:07<00:00, 33.62s/batch, loss=0.217]\n"
     ]
    },
    {
     "name": "stdout",
     "output_type": "stream",
     "text": [
      "Epoch 125/2000, Average Loss: 0.2346\n"
     ]
    },
    {
     "name": "stderr",
     "output_type": "stream",
     "text": [
      "Epoch 126/2000: 100%|██████████| 2/2 [01:05<00:00, 32.54s/batch, loss=0.195]\n"
     ]
    },
    {
     "name": "stdout",
     "output_type": "stream",
     "text": [
      "Epoch 126/2000, Average Loss: 0.2246\n"
     ]
    },
    {
     "name": "stderr",
     "output_type": "stream",
     "text": [
      "Epoch 127/2000: 100%|██████████| 2/2 [01:21<00:00, 40.52s/batch, loss=0.273]\n"
     ]
    },
    {
     "name": "stdout",
     "output_type": "stream",
     "text": [
      "Epoch 127/2000, Average Loss: 0.2586\n"
     ]
    },
    {
     "name": "stderr",
     "output_type": "stream",
     "text": [
      "Epoch 128/2000: 100%|██████████| 2/2 [01:06<00:00, 33.14s/batch, loss=0.251]\n"
     ]
    },
    {
     "name": "stdout",
     "output_type": "stream",
     "text": [
      "Epoch 128/2000, Average Loss: 0.2484\n"
     ]
    },
    {
     "name": "stderr",
     "output_type": "stream",
     "text": [
      "Epoch 129/2000: 100%|██████████| 2/2 [01:09<00:00, 34.51s/batch, loss=0.281]\n"
     ]
    },
    {
     "name": "stdout",
     "output_type": "stream",
     "text": [
      "Epoch 129/2000, Average Loss: 0.2613\n"
     ]
    },
    {
     "name": "stderr",
     "output_type": "stream",
     "text": [
      "Epoch 130/2000: 100%|██████████| 2/2 [01:06<00:00, 33.16s/batch, loss=0.199]\n"
     ]
    },
    {
     "name": "stdout",
     "output_type": "stream",
     "text": [
      "Epoch 130/2000, Average Loss: 0.2252\n"
     ]
    },
    {
     "name": "stderr",
     "output_type": "stream",
     "text": [
      "Epoch 131/2000: 100%|██████████| 2/2 [01:04<00:00, 32.32s/batch, loss=0.198]\n"
     ]
    },
    {
     "name": "stdout",
     "output_type": "stream",
     "text": [
      "Epoch 131/2000, Average Loss: 0.2247\n"
     ]
    },
    {
     "name": "stderr",
     "output_type": "stream",
     "text": [
      "Epoch 132/2000: 100%|██████████| 2/2 [01:10<00:00, 35.20s/batch, loss=0.27] \n"
     ]
    },
    {
     "name": "stdout",
     "output_type": "stream",
     "text": [
      "Epoch 132/2000, Average Loss: 0.2559\n"
     ]
    },
    {
     "name": "stderr",
     "output_type": "stream",
     "text": [
      "Epoch 133/2000: 100%|██████████| 2/2 [01:11<00:00, 35.62s/batch, loss=0.26] \n"
     ]
    },
    {
     "name": "stdout",
     "output_type": "stream",
     "text": [
      "Epoch 133/2000, Average Loss: 0.2512\n"
     ]
    },
    {
     "name": "stderr",
     "output_type": "stream",
     "text": [
      "Epoch 134/2000: 100%|██████████| 2/2 [01:09<00:00, 34.67s/batch, loss=0.295]\n"
     ]
    },
    {
     "name": "stdout",
     "output_type": "stream",
     "text": [
      "Epoch 134/2000, Average Loss: 0.2662\n"
     ]
    },
    {
     "name": "stderr",
     "output_type": "stream",
     "text": [
      "Epoch 135/2000: 100%|██████████| 2/2 [01:07<00:00, 33.57s/batch, loss=0.223]\n"
     ]
    },
    {
     "name": "stdout",
     "output_type": "stream",
     "text": [
      "Epoch 135/2000, Average Loss: 0.2348\n"
     ]
    },
    {
     "name": "stderr",
     "output_type": "stream",
     "text": [
      "Epoch 136/2000: 100%|██████████| 2/2 [01:04<00:00, 32.05s/batch, loss=0.185]\n"
     ]
    },
    {
     "name": "stdout",
     "output_type": "stream",
     "text": [
      "Epoch 136/2000, Average Loss: 0.2177\n"
     ]
    },
    {
     "name": "stderr",
     "output_type": "stream",
     "text": [
      "Epoch 137/2000: 100%|██████████| 2/2 [01:02<00:00, 31.43s/batch, loss=0.247]\n"
     ]
    },
    {
     "name": "stdout",
     "output_type": "stream",
     "text": [
      "Epoch 137/2000, Average Loss: 0.2447\n"
     ]
    },
    {
     "name": "stderr",
     "output_type": "stream",
     "text": [
      "Epoch 138/2000: 100%|██████████| 2/2 [01:04<00:00, 32.34s/batch, loss=0.282]\n"
     ]
    },
    {
     "name": "stdout",
     "output_type": "stream",
     "text": [
      "Epoch 138/2000, Average Loss: 0.2596\n"
     ]
    },
    {
     "name": "stderr",
     "output_type": "stream",
     "text": [
      "Epoch 139/2000: 100%|██████████| 2/2 [01:09<00:00, 34.53s/batch, loss=0.189]\n"
     ]
    },
    {
     "name": "stdout",
     "output_type": "stream",
     "text": [
      "Epoch 139/2000, Average Loss: 0.2187\n"
     ]
    },
    {
     "name": "stderr",
     "output_type": "stream",
     "text": [
      "Epoch 140/2000: 100%|██████████| 2/2 [01:06<00:00, 33.10s/batch, loss=0.246]\n"
     ]
    },
    {
     "name": "stdout",
     "output_type": "stream",
     "text": [
      "Epoch 140/2000, Average Loss: 0.2436\n"
     ]
    },
    {
     "name": "stderr",
     "output_type": "stream",
     "text": [
      "Epoch 141/2000: 100%|██████████| 2/2 [01:08<00:00, 34.42s/batch, loss=0.225]\n"
     ]
    },
    {
     "name": "stdout",
     "output_type": "stream",
     "text": [
      "Epoch 141/2000, Average Loss: 0.2339\n"
     ]
    },
    {
     "name": "stderr",
     "output_type": "stream",
     "text": [
      "Epoch 142/2000: 100%|██████████| 2/2 [01:05<00:00, 32.78s/batch, loss=0.313]\n"
     ]
    },
    {
     "name": "stdout",
     "output_type": "stream",
     "text": [
      "Epoch 142/2000, Average Loss: 0.2722\n"
     ]
    },
    {
     "name": "stderr",
     "output_type": "stream",
     "text": [
      "Epoch 143/2000: 100%|██████████| 2/2 [01:07<00:00, 33.79s/batch, loss=0.249]\n"
     ]
    },
    {
     "name": "stdout",
     "output_type": "stream",
     "text": [
      "Epoch 143/2000, Average Loss: 0.2443\n"
     ]
    },
    {
     "name": "stderr",
     "output_type": "stream",
     "text": [
      "Epoch 144/2000: 100%|██████████| 2/2 [01:08<00:00, 34.42s/batch, loss=0.271]\n"
     ]
    },
    {
     "name": "stdout",
     "output_type": "stream",
     "text": [
      "Epoch 144/2000, Average Loss: 0.2538\n"
     ]
    },
    {
     "name": "stderr",
     "output_type": "stream",
     "text": [
      "Epoch 145/2000: 100%|██████████| 2/2 [01:08<00:00, 34.15s/batch, loss=0.23]\n"
     ]
    },
    {
     "name": "stdout",
     "output_type": "stream",
     "text": [
      "Epoch 145/2000, Average Loss: 0.2350\n"
     ]
    },
    {
     "name": "stderr",
     "output_type": "stream",
     "text": [
      "Epoch 146/2000: 100%|██████████| 2/2 [01:04<00:00, 32.42s/batch, loss=0.262]\n"
     ]
    },
    {
     "name": "stdout",
     "output_type": "stream",
     "text": [
      "Epoch 146/2000, Average Loss: 0.2491\n"
     ]
    },
    {
     "name": "stderr",
     "output_type": "stream",
     "text": [
      "Epoch 147/2000: 100%|██████████| 2/2 [01:02<00:00, 31.30s/batch, loss=0.211]\n"
     ]
    },
    {
     "name": "stdout",
     "output_type": "stream",
     "text": [
      "Epoch 147/2000, Average Loss: 0.2269\n"
     ]
    },
    {
     "name": "stderr",
     "output_type": "stream",
     "text": [
      "Epoch 148/2000: 100%|██████████| 2/2 [01:03<00:00, 31.73s/batch, loss=0.219]\n"
     ]
    },
    {
     "name": "stdout",
     "output_type": "stream",
     "text": [
      "Epoch 148/2000, Average Loss: 0.2302\n"
     ]
    },
    {
     "name": "stderr",
     "output_type": "stream",
     "text": [
      "Epoch 149/2000: 100%|██████████| 2/2 [01:02<00:00, 31.22s/batch, loss=0.315]\n"
     ]
    },
    {
     "name": "stdout",
     "output_type": "stream",
     "text": [
      "Epoch 149/2000, Average Loss: 0.2717\n"
     ]
    },
    {
     "name": "stderr",
     "output_type": "stream",
     "text": [
      "Epoch 150/2000: 100%|██████████| 2/2 [01:02<00:00, 31.32s/batch, loss=0.203]\n"
     ]
    },
    {
     "name": "stdout",
     "output_type": "stream",
     "text": [
      "Epoch 150/2000, Average Loss: 0.2232\n",
      "Model saved at epoch 150.\n"
     ]
    },
    {
     "name": "stderr",
     "output_type": "stream",
     "text": [
      "Epoch 151/2000: 100%|██████████| 2/2 [01:03<00:00, 31.99s/batch, loss=0.269]\n"
     ]
    },
    {
     "name": "stdout",
     "output_type": "stream",
     "text": [
      "Epoch 151/2000, Average Loss: 0.2515\n"
     ]
    },
    {
     "name": "stderr",
     "output_type": "stream",
     "text": [
      "Epoch 152/2000: 100%|██████████| 2/2 [01:13<00:00, 36.86s/batch, loss=0.188]\n"
     ]
    },
    {
     "name": "stdout",
     "output_type": "stream",
     "text": [
      "Epoch 152/2000, Average Loss: 0.2160\n"
     ]
    },
    {
     "name": "stderr",
     "output_type": "stream",
     "text": [
      "Epoch 153/2000: 100%|██████████| 2/2 [01:07<00:00, 33.60s/batch, loss=0.301]\n"
     ]
    },
    {
     "name": "stdout",
     "output_type": "stream",
     "text": [
      "Epoch 153/2000, Average Loss: 0.2651\n"
     ]
    },
    {
     "name": "stderr",
     "output_type": "stream",
     "text": [
      "Epoch 154/2000:   0%|          | 0/2 [01:00<?, ?batch/s]\n"
     ]
    },
    {
     "name": "stdout",
     "output_type": "stream",
     "text": [
      "\n",
      "Training interrupted. Saving model...\n",
      "Model saved after interruption.\n",
      "Final model saved.\n",
      "Loss curve saved as loss_curve_2024-11-15.png.\n"
     ]
    },
    {
     "data": {
      "image/png": "[encoded data removed]",
      "text/plain": [
       "<Figure size 1000x600 with 1 Axes>"
      ]
     },
     "metadata": {},
     "output_type": "display_data"
    }
   ],
   "source": [
    "num_epochs = 2000  # Adjust based on your needs\n",
    "patience = 5\n",
    "min_delta = 1e-5\n",
    "\n",
    "previous_loss = float('inf')\n",
    "epochs_without_improvement = 0\n",
    "epoch_losses = [] #for plotting loss curve later\n",
    "\n",
    "try:\n",
    "    for epoch in range(num_epochs):\n",
    "        model.train()\n",
    "        epoch_loss = 0\n",
    "        progress_bar = tqdm(train_dataloader, desc=f'Epoch {epoch+1}/{num_epochs}', unit='batch')\n",
    "\n",
    "        for x_batch, _ in progress_bar:\n",
    "            optimizer.zero_grad()\n",
    "            outputs = model(x_batch)\n",
    "            loss = criterion(outputs, x_batch)\n",
    "            loss.backward()\n",
    "            optimizer.step()\n",
    "            epoch_loss += loss.item()\n",
    "            \n",
    "            progress_bar.set_postfix(loss=loss.item())\n",
    "\n",
    "        average_loss = epoch_loss / len(train_dataloader)\n",
    "        epoch_losses.append(average_loss)\n",
    "        print(f'Epoch {epoch+1}/{num_epochs}, Average Loss: {average_loss:.4f}')\n",
    "\n",
    "        # Save the model every 50 epochs\n",
    "        if (epoch + 1) % 50 == 0:\n",
    "            torch.save(model.state_dict(), f'enh_autoencoder_epoch_{epoch + 1}.pth')\n",
    "            print(f'Model saved at epoch {epoch + 1}.')\n",
    "\n",
    "        # Early stopping checks\n",
    "        if abs(previous_loss - average_loss) < min_delta:\n",
    "            epochs_without_improvement += 1\n",
    "            if epochs_without_improvement >= patience:\n",
    "                print(f\"Stopping early at epoch {epoch+1}. Loss has not improved significantly.\")\n",
    "                break\n",
    "        else:\n",
    "            epochs_without_improvement = 0\n",
    "\n",
    "        previous_loss = average_loss\n",
    "\n",
    "except KeyboardInterrupt:\n",
    "    print(\"\\nTraining interrupted. Saving model...\")\n",
    "\n",
    "# Save the final model after all epochs if training completes normally\n",
    "torch.save(model.state_dict(), 'enh_autoencoder_final.pth')\n",
    "print('Final model saved.')\n",
    "\n",
    "from datetime import datetime\n",
    "# Plot the loss curve and save it to a file\n",
    "current_date = datetime.now().strftime('%Y-%m-%d')  # Get the current date as a string\n",
    "filename = f\"loss_curve_{current_date}.png\"  # Create the filename\n",
    "\n",
    "plt.figure(figsize=(10, 6))\n",
    "plt.plot(range(1, len(epoch_losses) + 1), epoch_losses, label='Loss')\n",
    "plt.xlabel('Epoch')\n",
    "plt.ylabel('Average Loss')\n",
    "plt.title('Training Loss Curve')\n",
    "plt.legend()\n",
    "plt.grid()\n",
    "plt.savefig(filename)  # Save the plot to a file\n",
    "print(f\"Loss curve saved as {filename}.\")\n"
   ]
  },
  {
   "cell_type": "code",
   "execution_count": 14,
   "metadata": {},
   "outputs": [
    {
     "name": "stdout",
     "output_type": "stream",
     "text": [
      "Model loaded successfully\n"
     ]
    }
   ],
   "source": [
    "model = EnhancedAutoencoder(in_channels=in_channels)  # Initialize the model\n",
    "model.load_state_dict(torch.load(\"enh_autoencoder_final.pth\"))\n",
    "model.eval()  # Set the model to evaluation mode\n",
    "print(\"Model loaded successfully\")"
   ]
  },
  {
   "cell_type": "code",
   "execution_count": 15,
   "metadata": {},
   "outputs": [
    {
     "ename": "KeyError",
     "evalue": "0",
     "output_type": "error",
     "traceback": [
      "\u001b[1;31m---------------------------------------------------------------------------\u001b[0m",
      "\u001b[1;31mKeyError\u001b[0m                                  Traceback (most recent call last)",
      "File \u001b[1;32mc:\\ProgramData\\Anaconda3\\lib\\site-packages\\pandas\\core\\indexes\\base.py:3805\u001b[0m, in \u001b[0;36mIndex.get_loc\u001b[1;34m(self, key)\u001b[0m\n\u001b[0;32m   3804\u001b[0m \u001b[38;5;28;01mtry\u001b[39;00m:\n\u001b[1;32m-> 3805\u001b[0m     \u001b[38;5;28;01mreturn\u001b[39;00m \u001b[38;5;28;43mself\u001b[39;49m\u001b[38;5;241;43m.\u001b[39;49m\u001b[43m_engine\u001b[49m\u001b[38;5;241;43m.\u001b[39;49m\u001b[43mget_loc\u001b[49m\u001b[43m(\u001b[49m\u001b[43mcasted_key\u001b[49m\u001b[43m)\u001b[49m\n\u001b[0;32m   3806\u001b[0m \u001b[38;5;28;01mexcept\u001b[39;00m \u001b[38;5;167;01mKeyError\u001b[39;00m \u001b[38;5;28;01mas\u001b[39;00m err:\n",
      "File \u001b[1;32mindex.pyx:167\u001b[0m, in \u001b[0;36mpandas._libs.index.IndexEngine.get_loc\u001b[1;34m()\u001b[0m\n",
      "File \u001b[1;32mindex.pyx:196\u001b[0m, in \u001b[0;36mpandas._libs.index.IndexEngine.get_loc\u001b[1;34m()\u001b[0m\n",
      "File \u001b[1;32mpandas\\\\_libs\\\\hashtable_class_helper.pxi:7081\u001b[0m, in \u001b[0;36mpandas._libs.hashtable.PyObjectHashTable.get_item\u001b[1;34m()\u001b[0m\n",
      "File \u001b[1;32mpandas\\\\_libs\\\\hashtable_class_helper.pxi:7089\u001b[0m, in \u001b[0;36mpandas._libs.hashtable.PyObjectHashTable.get_item\u001b[1;34m()\u001b[0m\n",
      "\u001b[1;31mKeyError\u001b[0m: 0",
      "\nThe above exception was the direct cause of the following exception:\n",
      "\u001b[1;31mKeyError\u001b[0m                                  Traceback (most recent call last)",
      "Cell \u001b[1;32mIn[15], line 19\u001b[0m\n\u001b[0;32m     16\u001b[0m     \u001b[38;5;28;01mreturn\u001b[39;00m np\u001b[38;5;241m.\u001b[39marray(reconstruction_errors), np\u001b[38;5;241m.\u001b[39marray(all_inputs)  \u001b[38;5;66;03m# Return inputs along with errors\u001b[39;00m\n\u001b[0;32m     18\u001b[0m \u001b[38;5;66;03m# Call the function and get reconstruction errors and original inputs\u001b[39;00m\n\u001b[1;32m---> 19\u001b[0m reconstruction_errors, original_inputs \u001b[38;5;241m=\u001b[39m \u001b[43mcalculate_reconstruction_error\u001b[49m\u001b[43m(\u001b[49m\u001b[43mmodel\u001b[49m\u001b[43m,\u001b[49m\u001b[43m \u001b[49m\u001b[43mtest_dataloader\u001b[49m\u001b[43m)\u001b[49m\n\u001b[0;32m     21\u001b[0m \u001b[38;5;66;03m# Set a threshold for anomaly detection\u001b[39;00m\n\u001b[0;32m     22\u001b[0m threshold \u001b[38;5;241m=\u001b[39m np\u001b[38;5;241m.\u001b[39mpercentile(reconstruction_errors, \u001b[38;5;241m1\u001b[39m)  \u001b[38;5;66;03m# E.g., 95th percentile, now 1 for testing\u001b[39;00m\n",
      "Cell \u001b[1;32mIn[15], line 7\u001b[0m, in \u001b[0;36mcalculate_reconstruction_error\u001b[1;34m(model, dataloader)\u001b[0m\n\u001b[0;32m      4\u001b[0m all_inputs \u001b[38;5;241m=\u001b[39m []  \u001b[38;5;66;03m# Store all inputs for visualization\u001b[39;00m\n\u001b[0;32m      6\u001b[0m \u001b[38;5;28;01mwith\u001b[39;00m torch\u001b[38;5;241m.\u001b[39mno_grad():  \u001b[38;5;66;03m# Disable gradient calculation\u001b[39;00m\n\u001b[1;32m----> 7\u001b[0m     \u001b[38;5;28;01mfor\u001b[39;00m inputs, _ \u001b[38;5;129;01min\u001b[39;00m dataloader:  \u001b[38;5;66;03m# No need for labels\u001b[39;00m\n\u001b[0;32m      8\u001b[0m         reconstructed \u001b[38;5;241m=\u001b[39m model(inputs)  \u001b[38;5;66;03m# Get reconstructed output\u001b[39;00m\n\u001b[0;32m     10\u001b[0m         \u001b[38;5;66;03m# Calculate the reconstruction error (Mean Squared Error)\u001b[39;00m\n",
      "File \u001b[1;32mc:\\ProgramData\\Anaconda3\\lib\\site-packages\\torch\\utils\\data\\dataloader.py:628\u001b[0m, in \u001b[0;36m_BaseDataLoaderIter.__next__\u001b[1;34m(self)\u001b[0m\n\u001b[0;32m    625\u001b[0m \u001b[38;5;28;01mif\u001b[39;00m \u001b[38;5;28mself\u001b[39m\u001b[38;5;241m.\u001b[39m_sampler_iter \u001b[38;5;129;01mis\u001b[39;00m \u001b[38;5;28;01mNone\u001b[39;00m:\n\u001b[0;32m    626\u001b[0m     \u001b[38;5;66;03m# TODO(https://github.com/pytorch/pytorch/issues/76750)\u001b[39;00m\n\u001b[0;32m    627\u001b[0m     \u001b[38;5;28mself\u001b[39m\u001b[38;5;241m.\u001b[39m_reset()  \u001b[38;5;66;03m# type: ignore[call-arg]\u001b[39;00m\n\u001b[1;32m--> 628\u001b[0m data \u001b[38;5;241m=\u001b[39m \u001b[38;5;28;43mself\u001b[39;49m\u001b[38;5;241;43m.\u001b[39;49m\u001b[43m_next_data\u001b[49m\u001b[43m(\u001b[49m\u001b[43m)\u001b[49m\n\u001b[0;32m    629\u001b[0m \u001b[38;5;28mself\u001b[39m\u001b[38;5;241m.\u001b[39m_num_yielded \u001b[38;5;241m+\u001b[39m\u001b[38;5;241m=\u001b[39m \u001b[38;5;241m1\u001b[39m\n\u001b[0;32m    630\u001b[0m \u001b[38;5;28;01mif\u001b[39;00m \u001b[38;5;28mself\u001b[39m\u001b[38;5;241m.\u001b[39m_dataset_kind \u001b[38;5;241m==\u001b[39m _DatasetKind\u001b[38;5;241m.\u001b[39mIterable \u001b[38;5;129;01mand\u001b[39;00m \\\n\u001b[0;32m    631\u001b[0m         \u001b[38;5;28mself\u001b[39m\u001b[38;5;241m.\u001b[39m_IterableDataset_len_called \u001b[38;5;129;01mis\u001b[39;00m \u001b[38;5;129;01mnot\u001b[39;00m \u001b[38;5;28;01mNone\u001b[39;00m \u001b[38;5;129;01mand\u001b[39;00m \\\n\u001b[0;32m    632\u001b[0m         \u001b[38;5;28mself\u001b[39m\u001b[38;5;241m.\u001b[39m_num_yielded \u001b[38;5;241m>\u001b[39m \u001b[38;5;28mself\u001b[39m\u001b[38;5;241m.\u001b[39m_IterableDataset_len_called:\n",
      "File \u001b[1;32mc:\\ProgramData\\Anaconda3\\lib\\site-packages\\torch\\utils\\data\\dataloader.py:671\u001b[0m, in \u001b[0;36m_SingleProcessDataLoaderIter._next_data\u001b[1;34m(self)\u001b[0m\n\u001b[0;32m    669\u001b[0m \u001b[38;5;28;01mdef\u001b[39;00m \u001b[38;5;21m_next_data\u001b[39m(\u001b[38;5;28mself\u001b[39m):\n\u001b[0;32m    670\u001b[0m     index \u001b[38;5;241m=\u001b[39m \u001b[38;5;28mself\u001b[39m\u001b[38;5;241m.\u001b[39m_next_index()  \u001b[38;5;66;03m# may raise StopIteration\u001b[39;00m\n\u001b[1;32m--> 671\u001b[0m     data \u001b[38;5;241m=\u001b[39m \u001b[38;5;28;43mself\u001b[39;49m\u001b[38;5;241;43m.\u001b[39;49m\u001b[43m_dataset_fetcher\u001b[49m\u001b[38;5;241;43m.\u001b[39;49m\u001b[43mfetch\u001b[49m\u001b[43m(\u001b[49m\u001b[43mindex\u001b[49m\u001b[43m)\u001b[49m  \u001b[38;5;66;03m# may raise StopIteration\u001b[39;00m\n\u001b[0;32m    672\u001b[0m     \u001b[38;5;28;01mif\u001b[39;00m \u001b[38;5;28mself\u001b[39m\u001b[38;5;241m.\u001b[39m_pin_memory:\n\u001b[0;32m    673\u001b[0m         data \u001b[38;5;241m=\u001b[39m _utils\u001b[38;5;241m.\u001b[39mpin_memory\u001b[38;5;241m.\u001b[39mpin_memory(data, \u001b[38;5;28mself\u001b[39m\u001b[38;5;241m.\u001b[39m_pin_memory_device)\n",
      "File \u001b[1;32mc:\\ProgramData\\Anaconda3\\lib\\site-packages\\torch\\utils\\data\\_utils\\fetch.py:58\u001b[0m, in \u001b[0;36m_MapDatasetFetcher.fetch\u001b[1;34m(self, possibly_batched_index)\u001b[0m\n\u001b[0;32m     56\u001b[0m         data \u001b[38;5;241m=\u001b[39m \u001b[38;5;28mself\u001b[39m\u001b[38;5;241m.\u001b[39mdataset\u001b[38;5;241m.\u001b[39m__getitems__(possibly_batched_index)\n\u001b[0;32m     57\u001b[0m     \u001b[38;5;28;01melse\u001b[39;00m:\n\u001b[1;32m---> 58\u001b[0m         data \u001b[38;5;241m=\u001b[39m [\u001b[38;5;28mself\u001b[39m\u001b[38;5;241m.\u001b[39mdataset[idx] \u001b[38;5;28;01mfor\u001b[39;00m idx \u001b[38;5;129;01min\u001b[39;00m possibly_batched_index]\n\u001b[0;32m     59\u001b[0m \u001b[38;5;28;01melse\u001b[39;00m:\n\u001b[0;32m     60\u001b[0m     data \u001b[38;5;241m=\u001b[39m \u001b[38;5;28mself\u001b[39m\u001b[38;5;241m.\u001b[39mdataset[possibly_batched_index]\n",
      "File \u001b[1;32mc:\\ProgramData\\Anaconda3\\lib\\site-packages\\torch\\utils\\data\\_utils\\fetch.py:58\u001b[0m, in \u001b[0;36m<listcomp>\u001b[1;34m(.0)\u001b[0m\n\u001b[0;32m     56\u001b[0m         data \u001b[38;5;241m=\u001b[39m \u001b[38;5;28mself\u001b[39m\u001b[38;5;241m.\u001b[39mdataset\u001b[38;5;241m.\u001b[39m__getitems__(possibly_batched_index)\n\u001b[0;32m     57\u001b[0m     \u001b[38;5;28;01melse\u001b[39;00m:\n\u001b[1;32m---> 58\u001b[0m         data \u001b[38;5;241m=\u001b[39m [\u001b[38;5;28;43mself\u001b[39;49m\u001b[38;5;241;43m.\u001b[39;49m\u001b[43mdataset\u001b[49m\u001b[43m[\u001b[49m\u001b[43midx\u001b[49m\u001b[43m]\u001b[49m \u001b[38;5;28;01mfor\u001b[39;00m idx \u001b[38;5;129;01min\u001b[39;00m possibly_batched_index]\n\u001b[0;32m     59\u001b[0m \u001b[38;5;28;01melse\u001b[39;00m:\n\u001b[0;32m     60\u001b[0m     data \u001b[38;5;241m=\u001b[39m \u001b[38;5;28mself\u001b[39m\u001b[38;5;241m.\u001b[39mdataset[possibly_batched_index]\n",
      "Cell \u001b[1;32mIn[8], line 9\u001b[0m, in \u001b[0;36mEEGDataset.__getitem__\u001b[1;34m(self, idx)\u001b[0m\n\u001b[0;32m      8\u001b[0m \u001b[38;5;28;01mdef\u001b[39;00m \u001b[38;5;21m__getitem__\u001b[39m(\u001b[38;5;28mself\u001b[39m, idx):\n\u001b[1;32m----> 9\u001b[0m     x \u001b[38;5;241m=\u001b[39m torch\u001b[38;5;241m.\u001b[39mtensor(\u001b[38;5;28;43mself\u001b[39;49m\u001b[38;5;241;43m.\u001b[39;49m\u001b[43mdata\u001b[49m\u001b[43m[\u001b[49m\u001b[43midx\u001b[49m\u001b[43m]\u001b[49m, dtype\u001b[38;5;241m=\u001b[39mtorch\u001b[38;5;241m.\u001b[39mfloat32)\n\u001b[0;32m     10\u001b[0m     \u001b[38;5;28;01mreturn\u001b[39;00m x, x\n",
      "File \u001b[1;32mc:\\ProgramData\\Anaconda3\\lib\\site-packages\\pandas\\core\\frame.py:4090\u001b[0m, in \u001b[0;36mDataFrame.__getitem__\u001b[1;34m(self, key)\u001b[0m\n\u001b[0;32m   4088\u001b[0m \u001b[38;5;28;01mif\u001b[39;00m \u001b[38;5;28mself\u001b[39m\u001b[38;5;241m.\u001b[39mcolumns\u001b[38;5;241m.\u001b[39mnlevels \u001b[38;5;241m>\u001b[39m \u001b[38;5;241m1\u001b[39m:\n\u001b[0;32m   4089\u001b[0m     \u001b[38;5;28;01mreturn\u001b[39;00m \u001b[38;5;28mself\u001b[39m\u001b[38;5;241m.\u001b[39m_getitem_multilevel(key)\n\u001b[1;32m-> 4090\u001b[0m indexer \u001b[38;5;241m=\u001b[39m \u001b[38;5;28;43mself\u001b[39;49m\u001b[38;5;241;43m.\u001b[39;49m\u001b[43mcolumns\u001b[49m\u001b[38;5;241;43m.\u001b[39;49m\u001b[43mget_loc\u001b[49m\u001b[43m(\u001b[49m\u001b[43mkey\u001b[49m\u001b[43m)\u001b[49m\n\u001b[0;32m   4091\u001b[0m \u001b[38;5;28;01mif\u001b[39;00m is_integer(indexer):\n\u001b[0;32m   4092\u001b[0m     indexer \u001b[38;5;241m=\u001b[39m [indexer]\n",
      "File \u001b[1;32mc:\\ProgramData\\Anaconda3\\lib\\site-packages\\pandas\\core\\indexes\\base.py:3812\u001b[0m, in \u001b[0;36mIndex.get_loc\u001b[1;34m(self, key)\u001b[0m\n\u001b[0;32m   3807\u001b[0m     \u001b[38;5;28;01mif\u001b[39;00m \u001b[38;5;28misinstance\u001b[39m(casted_key, \u001b[38;5;28mslice\u001b[39m) \u001b[38;5;129;01mor\u001b[39;00m (\n\u001b[0;32m   3808\u001b[0m         \u001b[38;5;28misinstance\u001b[39m(casted_key, abc\u001b[38;5;241m.\u001b[39mIterable)\n\u001b[0;32m   3809\u001b[0m         \u001b[38;5;129;01mand\u001b[39;00m \u001b[38;5;28many\u001b[39m(\u001b[38;5;28misinstance\u001b[39m(x, \u001b[38;5;28mslice\u001b[39m) \u001b[38;5;28;01mfor\u001b[39;00m x \u001b[38;5;129;01min\u001b[39;00m casted_key)\n\u001b[0;32m   3810\u001b[0m     ):\n\u001b[0;32m   3811\u001b[0m         \u001b[38;5;28;01mraise\u001b[39;00m InvalidIndexError(key)\n\u001b[1;32m-> 3812\u001b[0m     \u001b[38;5;28;01mraise\u001b[39;00m \u001b[38;5;167;01mKeyError\u001b[39;00m(key) \u001b[38;5;28;01mfrom\u001b[39;00m \u001b[38;5;21;01merr\u001b[39;00m\n\u001b[0;32m   3813\u001b[0m \u001b[38;5;28;01mexcept\u001b[39;00m \u001b[38;5;167;01mTypeError\u001b[39;00m:\n\u001b[0;32m   3814\u001b[0m     \u001b[38;5;66;03m# If we have a listlike key, _check_indexing_error will raise\u001b[39;00m\n\u001b[0;32m   3815\u001b[0m     \u001b[38;5;66;03m#  InvalidIndexError. Otherwise we fall through and re-raise\u001b[39;00m\n\u001b[0;32m   3816\u001b[0m     \u001b[38;5;66;03m#  the TypeError.\u001b[39;00m\n\u001b[0;32m   3817\u001b[0m     \u001b[38;5;28mself\u001b[39m\u001b[38;5;241m.\u001b[39m_check_indexing_error(key)\n",
      "\u001b[1;31mKeyError\u001b[0m: 0"
     ]
    }
   ],
   "source": [
    "def calculate_reconstruction_error(model, dataloader):\n",
    "    model.eval()  # Set the model to evaluation mode\n",
    "    reconstruction_errors = []\n",
    "    all_inputs = []  # Store all inputs for visualization\n",
    "\n",
    "    with torch.no_grad():  # Disable gradient calculation\n",
    "        for inputs, _ in dataloader:  # No need for labels\n",
    "            reconstructed = model(inputs)  # Get reconstructed output\n",
    "            \n",
    "            # Calculate the reconstruction error (Mean Squared Error)\n",
    "            mse = torch.mean((inputs - reconstructed) ** 2, dim=[1, 2, 3])  # Mean over all dimensions\n",
    "            reconstruction_errors.extend(mse.cpu().numpy())  # Store errors\n",
    "            \n",
    "            all_inputs.extend(inputs.cpu().numpy())  # Store original inputs\n",
    "\n",
    "    return np.array(reconstruction_errors), np.array(all_inputs)  # Return inputs along with errors\n",
    "\n",
    "# Call the function and get reconstruction errors and original inputs\n",
    "reconstruction_errors, original_inputs = calculate_reconstruction_error(model, test_dataloader)\n",
    "\n",
    "# Set a threshold for anomaly detection\n",
    "threshold = np.percentile(reconstruction_errors, 1)  # E.g., 95th percentile, now 1 for testing\n",
    "\n",
    "# Identify anomalies\n",
    "anomalies = reconstruction_errors > threshold\n",
    "\n",
    "# Print some information\n",
    "print(f\"Threshold for anomalies: {threshold:.4f}\")\n",
    "print(f\"Number of anomalies detected: {np.sum(anomalies)}\")"
   ]
  },
  {
   "cell_type": "code",
   "execution_count": 9,
   "metadata": {},
   "outputs": [
    {
     "name": "stdout",
     "output_type": "stream",
     "text": [
      "Number of unique samples containing anomalies: 5\n",
      "Indices of samples with anomalies: {0, 1, 2, 3, 5}\n"
     ]
    }
   ],
   "source": [
    "# Get indices of the detected anomalies\n",
    "anomaly_indices = np.where(anomalies)[0]\n",
    "\n",
    "# Determine the unique samples with anomalies\n",
    "# Assuming each sample corresponds to a certain index in your dataset\n",
    "# You can also modify this if your dataset has a different structure\n",
    "\n",
    "# If each sample is a single time-series, use the index directly\n",
    "# If each sample consists of multiple entries (e.g., 2D or 3D arrays), adjust accordingly\n",
    "unique_samples_with_anomalies = set(anomaly_indices)\n",
    "\n",
    "# Count the number of unique samples containing anomalies\n",
    "num_unique_samples_with_anomalies = len(unique_samples_with_anomalies)\n",
    "\n",
    "# Print the results\n",
    "print(f\"Number of unique samples containing anomalies: {num_unique_samples_with_anomalies}\")\n",
    "\n",
    "# Optionally, you can list the indices of the samples containing anomalies\n",
    "print(\"Indices of samples with anomalies:\", unique_samples_with_anomalies)\n"
   ]
  },
  {
   "cell_type": "markdown",
   "metadata": {},
   "source": [
    "https://en.wikipedia.org/wiki/Hamming_distance\n",
    "\n",
    "https://en.wikipedia.org/wiki/Jaccard_index\n",
    "\n",
    "Jaccard Similarity: Measures the similarity of the anomaly sets by comparing the intersection over the union of the anomalies.\n",
    "Hamming Distance: Quantifies the difference in anomaly positions between the two samples.\n",
    "These metrics help you understand how similar or different the anomaly patterns are between two random EEG samples based on your anomaly detection algorithm."
   ]
  },
  {
   "cell_type": "code",
   "execution_count": 10,
   "metadata": {},
   "outputs": [],
   "source": [
    "# Introduce synthetic anomalies\n",
    "# test_dataset.introduce_anomalies(num_anomalies=20)  # Adjust the number as needed"
   ]
  },
  {
   "cell_type": "code",
   "execution_count": 11,
   "metadata": {},
   "outputs": [
    {
     "name": "stdout",
     "output_type": "stream",
     "text": [
      "Jaccard Similarity: 1.0000\n",
      "Hamming Distance: 0.0000\n"
     ]
    }
   ],
   "source": [
    "# Function to find two samples that contain anomalies\n",
    "def find_anomalous_samples(model, dataloader, threshold):\n",
    "    model.eval()  # Set model to evaluation mode\n",
    "    anomalous_samples = []\n",
    "    indices_with_anomalies = set()  # To keep track of unique indices\n",
    "    \n",
    "    # Iterate over the dataloader to find samples with anomalies\n",
    "    for inputs, _ in dataloader:\n",
    "        with torch.no_grad():\n",
    "            reconstructed = model(inputs)\n",
    "        \n",
    "        # Calculate reconstruction error (Mean Squared Error)\n",
    "        mse = torch.mean((inputs - reconstructed) ** 2, dim=[1, 2, 3])\n",
    "        \n",
    "        # Convert MSE to numpy array and check for anomalies\n",
    "        errors = mse.cpu().numpy()\n",
    "        anomalies = errors > threshold\n",
    "        \n",
    "        # Append samples if they contain anomalies and are unique\n",
    "        for idx in range(len(anomalies)):\n",
    "            if anomalies[idx] and idx not in indices_with_anomalies:\n",
    "                anomalous_samples.append(inputs[idx])\n",
    "                indices_with_anomalies.add(idx)  # Track the index to avoid duplicates\n",
    "            \n",
    "            # Stop once we have found two unique samples with anomalies\n",
    "            if len(anomalous_samples) >= 2:\n",
    "                break\n",
    "        \n",
    "        if len(anomalous_samples) >= 2:\n",
    "            break\n",
    "    \n",
    "    if len(anomalous_samples) < 2:\n",
    "        print(\"Not enough anomalous samples found in the dataset.\")\n",
    "        return None, None\n",
    "    \n",
    "    # Return two unique samples with anomalies\n",
    "    return anomalous_samples[0], anomalous_samples[1]\n",
    "\n",
    "# Function to compare two anomalous samples\n",
    "def compare_anomalous_samples(model, sample_1, sample_2, threshold):\n",
    "    model.eval()  # Set model to evaluation mode\n",
    "    \n",
    "    # Forward pass through the model (no need for gradients)\n",
    "    with torch.no_grad():\n",
    "        reconstructed_1 = model(sample_1.unsqueeze(0))  # Add batch dimension\n",
    "        reconstructed_2 = model(sample_2.unsqueeze(0))  # Add batch dimension\n",
    "    \n",
    "    # Calculate reconstruction errors (Mean Squared Error)\n",
    "    mse_1 = torch.mean((sample_1 - reconstructed_1) ** 2, dim=[1, 2, 3])\n",
    "    mse_2 = torch.mean((sample_2 - reconstructed_2) ** 2, dim=[1, 2, 3])\n",
    "    \n",
    "    # Convert MSE to numpy arrays\n",
    "    errors_1 = mse_1.cpu().numpy()\n",
    "    errors_2 = mse_2.cpu().numpy()\n",
    "    \n",
    "    # Determine if each sample's reconstruction error is an anomaly\n",
    "    anomalies_1 = errors_1 > threshold\n",
    "    anomalies_2 = errors_2 > threshold\n",
    "    \n",
    "    # Jaccard similarity (intersection over union)\n",
    "    jaccard_sim = jaccard_score(anomalies_1, anomalies_2, average='binary')\n",
    "    \n",
    "    # Hamming distance (number of different positions)\n",
    "    hamming_dist = hamming_loss(anomalies_1, anomalies_2)\n",
    "    \n",
    "    return jaccard_sim, hamming_dist\n",
    "\n",
    "# Main logic: find and compare anomalous samples\n",
    "sample_1, sample_2 = find_anomalous_samples(model, test_dataloader, threshold)\n",
    "\n",
    "if sample_1 is not None and sample_2 is not None:\n",
    "    jaccard_similarity, hamming_distance = compare_anomalous_samples(model, sample_1, sample_2, threshold)\n",
    "    \n",
    "    print(f\"Jaccard Similarity: {jaccard_similarity:.4f}\")\n",
    "    print(f\"Hamming Distance: {hamming_distance:.4f}\")\n"
   ]
  },
  {
   "cell_type": "markdown",
   "metadata": {},
   "source": [
    "A Jaccard similarity of 1.0000 and a Hamming distance of 0.0000 indicates that the two samples are identical in terms of their detected anomalies. This means that both samples have the same anomalies at the same positions.\n",
    "\n",
    "Next Steps\n",
    "Here are a few suggestions for what you could do next:\n",
    "\n",
    "Visualize Anomalous Samples: Consider visualizing both anomalous samples to better understand what the anomalies look like. This can help in diagnosing issues or confirming that the detected anomalies are indeed valid.\n",
    "\n",
    "Analyze Reconstruction Errors: Investigate the reconstruction errors for different samples, especially those not classified as anomalies. This can give insights into the model's performance.\n",
    "\n",
    "Experiment with Thresholds: You could experiment with different thresholds for anomaly detection to see how it affects the number of detected anomalies. This can help fine-tune your anomaly detection system.\n",
    "\n",
    "Add More Evaluation Metrics: Depending on your needs, you might want to compute additional metrics, such as precision, recall, or F1-score, if you have ground truth labels for anomalies.\n",
    "\n",
    "Test on New Data: If possible, try applying your model to new data to evaluate its generalization performance and see if it effectively identifies anomalies.\n",
    "\n",
    "Train with More Data: If your dataset is limited, consider gathering more training data or using data augmentation techniques to improve the model's performance."
   ]
  },
  {
   "cell_type": "code",
   "execution_count": 12,
   "metadata": {},
   "outputs": [
    {
     "name": "stdout",
     "output_type": "stream",
     "text": [
      "Shape of image at index 0: (19, 30999, 1)\n",
      "Shape of image at index 1: (19, 30999, 1)\n",
      "Shape of image at index 2: (19, 30999, 1)\n",
      "Shape of image at index 3: (19, 30999, 1)\n",
      "Shape of image at index 5: (19, 30999, 1)\n"
     ]
    },
    {
     "data": {
      "image/png": "[encoded data removed]",
      "text/plain": [
       "<Figure size 1500x500 with 5 Axes>"
      ]
     },
     "metadata": {},
     "output_type": "display_data"
    }
   ],
   "source": [
    "# Visualize the detected anomalies \n",
    "anomaly_indices = np.where(anomalies)[0]\n",
    "n_samples = min(5, len(anomaly_indices))  # Show at most 5 samples\n",
    "\n",
    "# Create a figure for visualization\n",
    "plt.figure(figsize=(15, 5))\n",
    "for i, index in enumerate(anomaly_indices[:n_samples]):\n",
    "    plt.subplot(1, n_samples, i + 1)\n",
    "    plt.title(f'Anomaly {i + 1}')\n",
    "    \n",
    "    # Extract the anomalous image\n",
    "    image = original_inputs[index]\n",
    "\n",
    "    # Print the shape of the image for debugging\n",
    "    print(f\"Shape of image at index {index}: {image.shape}\")\n",
    "\n",
    "    # Selecting the first channel for visualization (adjust if needed)\n",
    "    image = image[0, :, :]  # Select the first channel (shape: [30999, 1])\n",
    "\n",
    "    # Check if there's a singleton dimension, and squeeze it\n",
    "    if image.ndim == 2 and image.shape[1] == 1:\n",
    "        image = image.squeeze(1)  # Remove the second dimension\n",
    "\n",
    "    # Determine the time slice around the anomaly\n",
    "    anomaly_position = index\n",
    "    start = max(0, anomaly_position - 10)  # 100 points before the anomaly\n",
    "    end = min(anomaly_position + 10, len(image))  # 100 points after the anomaly\n",
    "\n",
    "    # Adjust the start index if we don't have 100 points before the anomaly\n",
    "    if anomaly_position < 10:\n",
    "        start = 0  # Ensure we start at the beginning if not enough points before\n",
    "    # Adjust the end index if we don't have 100 points after the anomaly\n",
    "    if anomaly_position + 10 >= len(image):\n",
    "        end = len(image)  # Ensure we end at the last point if not enough points after\n",
    "    \n",
    "    # Ensure we are within bounds\n",
    "    time_slice = slice(start, end)  # Get the slice for visualization\n",
    "    image_slice = image[time_slice]  # Extract the relevant slice\n",
    "\n",
    "    # Plot the entire slice in blue\n",
    "    plt.plot(image_slice, color='blue', label='EEG Signal')  # Use plot for one-dimensional data\n",
    "\n",
    "    # Color the segments of the signal corresponding to the anomalies\n",
    "    for anomaly in np.where(anomalies[start:end])[0]:  # Iterate through the anomalies in the slice\n",
    "        plt.plot(np.arange(anomaly + start, anomaly + start + 1), image_slice[anomaly], color='red', linewidth=2)\n",
    "\n",
    "    plt.axis('off')  # Hide axes\n",
    "plt.legend()  # Show legend\n",
    "plt.show()\n"
   ]
  },
  {
   "cell_type": "code",
   "execution_count": 23,
   "metadata": {},
   "outputs": [
    {
     "name": "stdout",
     "output_type": "stream",
     "text": [
      "Shape of image at index 0: (19, 30999, 1)\n",
      "Shape of image at index 1: (19, 30999, 1)\n",
      "Shape of image at index 2: (19, 30999, 1)\n",
      "Shape of image at index 3: (19, 30999, 1)\n",
      "Shape of image at index 5: (19, 30999, 1)\n"
     ]
    },
    {
     "data": {
      "image/png": "[encoded data removed]",
      "text/plain": [
       "<Figure size 1500x500 with 5 Axes>"
      ]
     },
     "metadata": {},
     "output_type": "display_data"
    }
   ],
   "source": [
    "# Visualize the detected anomalies \n",
    "anomaly_indices = np.where(anomalies)[0]\n",
    "n_samples = min(5, len(anomaly_indices))  # Show at most 5 samples\n",
    "\n",
    "# Create a figure for visualization\n",
    "plt.figure(figsize=(15, 5))\n",
    "for i, index in enumerate(anomaly_indices[:n_samples]):\n",
    "    plt.subplot(1, n_samples, i + 1)\n",
    "    plt.title(f'Anomaly {i + 1}')\n",
    "    \n",
    "    # Extract the anomalous image\n",
    "    image = original_inputs[index]\n",
    "\n",
    "    # Print the shape of the image for debugging\n",
    "    print(f\"Shape of image at index {index}: {image.shape}\")\n",
    "\n",
    "    # Selecting the first channel for visualization (adjust if needed)\n",
    "    image = image[0, :, :]  # Select the first channel (shape: [30999, 1])\n",
    "\n",
    "    # Check if there's a singleton dimension, and squeeze it\n",
    "    if image.ndim == 2 and image.shape[1] == 1:\n",
    "        image = image.squeeze(1)  # Remove the second dimension\n",
    "\n",
    "    # Determine the time slice around the anomaly\n",
    "    anomaly_position = index\n",
    "    start = max(0, anomaly_position - 100)  # 10 points before the anomaly\n",
    "    end = min(anomaly_position + 100, len(image))  # 10 points after the anomaly\n",
    "\n",
    "    # Adjust the start index if we don't have enough points before the anomaly\n",
    "    if anomaly_position < 100:\n",
    "        start = 0  # Ensure we start at the beginning if not enough points before\n",
    "    # Adjust the end index if we don't have enough points after the anomaly\n",
    "    if anomaly_position + 100 >= len(image):\n",
    "        end = len(image)  # Ensure we end at the last point if not enough points after\n",
    "\n",
    "    # Ensure we are within bounds\n",
    "    time_slice = slice(start, end)  # Get the slice for visualization\n",
    "    image_slice = image[time_slice]  # Extract the relevant slice\n",
    "\n",
    "    # Plot the entire slice in blue\n",
    "    plt.plot(image_slice, color='blue', label='EEG Signal')  # Use plot for one-dimensional data\n",
    "\n",
    "    # Color the segments of the signal corresponding to the anomalies\n",
    "    for anomaly in np.where(anomalies[start:end])[0]:  # Iterate through the anomalies in the slice\n",
    "        # Define the segment for the anomaly\n",
    "        anomaly_start = max(0, anomaly + start - 5)  # Extend segment start slightly before anomaly\n",
    "        anomaly_end = min(len(image_slice), anomaly + start + 5)  # Extend segment end slightly after anomaly\n",
    "        plt.plot(np.arange(anomaly_start, anomaly_end), image[anomaly_start:anomaly_end], color='red', linewidth=2)\n",
    "\n",
    "    plt.axis('off')  # Hide axes\n",
    "plt.legend()  # Show legend\n",
    "plt.show()\n"
   ]
  },
  {
   "cell_type": "markdown",
   "metadata": {},
   "source": [
    "1. Prepare the Test Data:\n",
    "The test set will consist of pairs of recordings:\n",
    "\n",
    "Positive pairs: Two recordings from the same person (e.g., Artlog1 and Artlog2 for the same person).\n",
    "Negative pairs: Two recordings from different people (e.g., Artlog1 and Tym1, where Art and Tym are different people).\n",
    "These pairs are used to test whether the network can correctly classify them as either similar or dissimilar.\n",
    "\n",
    "2. Define a Function for Similarity Measurement:\n",
    "After training, the Siamese network will output a similarity score (usually between 0 and 1). You will need to define a threshold for what constitutes a \"match\" (same person) or \"non-match\" (different person). Typically, a lower score indicates dissimilarity, and a higher score indicates similarity.\n",
    "\n",
    "You can use a cosine similarity, Euclidean distance, or contrastive loss output (depending on how you designed the network) to measure this similarity.\n",
    "\n",
    "For example, if the network outputs a similarity score, a common way to classify the pair is:\n",
    "\n",
    "Similarity Score ≥ threshold: Same person (positive pair)\n",
    "Similarity Score < threshold: Different person (negative pair)\n",
    "3. Evaluate the Network:\n",
    "The goal is to test how well your network is performing. You’ll calculate metrics such as:\n",
    "\n",
    "Accuracy: Proportion of correct classifications (positive and negative pairs).\n",
    "Precision, Recall, and F1-Score: Especially useful when you have imbalanced data (e.g., fewer negative pairs).\n",
    "ROC Curve and AUC (Area Under Curve): To visualize how well your model can differentiate between similar and dissimilar pairs at different thresholds."
   ]
  },
  {
   "cell_type": "code",
   "execution_count": null,
   "metadata": {},
   "outputs": [],
   "source": [
    "import torch\n",
    "import numpy as np\n",
    "from sklearn.metrics import accuracy_score, roc_auc_score, precision_recall_curve\n",
    "\n",
    "def test_siamese_network(model, test_pairs, threshold=0.5):\n",
    "    \"\"\"\n",
    "    Test the Siamese network using the test pairs.\n",
    "    \n",
    "    Parameters:\n",
    "    - model: Trained Siamese network.\n",
    "    - test_pairs: List of tuples (pair1, pair2, label) where:\n",
    "        - pair1 and pair2 are the two input data points (e.g., EEG windows),\n",
    "        - label is 1 for similar (same person) or 0 for dissimilar (different person).\n",
    "    - threshold: Similarity threshold for deciding positive or negative pair.\n",
    "    \n",
    "    Returns:\n",
    "    - accuracy: The accuracy of the model on the test set.\n",
    "    - auc: The AUC (Area Under Curve) for the ROC curve.\n",
    "    \"\"\"\n",
    "    \n",
    "    all_preds = []\n",
    "    all_labels = []\n",
    "    \n",
    "    model.eval()  # Set the model to evaluation mode\n",
    "    with torch.no_grad():  # Disable gradient computation\n",
    "        for pair1, pair2, label in test_pairs:\n",
    "            # Get embeddings for both inputs\n",
    "            output1, output2 = model(pair1, pair2)\n",
    "            \n",
    "            # Calculate the distance or similarity score (e.g., Euclidean distance)\n",
    "            distance = torch.norm(output1 - output2, p=2, dim=1)  # Euclidean distance\n",
    "            similarity_score = 1 / (1 + distance)  # Convert to similarity score [0, 1]\n",
    "            \n",
    "            # Classify the pair based on the similarity score\n",
    "            pred = (similarity_score >= threshold).float()  # 1 for similar, 0 for dissimilar\n",
    "            \n",
    "            # Append the predicted and true labels\n",
    "            all_preds.append(pred.item())\n",
    "            all_labels.append(label)\n",
    "    \n",
    "    # Calculate accuracy, precision, recall, and AUC\n",
    "    accuracy = accuracy_score(all_labels, all_preds)\n",
    "    auc = roc_auc_score(all_labels, all_preds)\n",
    "    \n",
    "    precision, recall, _ = precision_recall_curve(all_labels, all_preds)\n",
    "    \n",
    "    # Print the metrics\n",
    "    print(f\"Accuracy: {accuracy:.4f}\")\n",
    "    print(f\"AUC: {auc:.4f}\")\n",
    "    \n",
    "    return accuracy, auc, precision, recall\n",
    "\n",
    "# Example usage:\n",
    "test_pairs = [\n",
    "    # (pair1, pair2, label)\n",
    "    (pair1_data, pair2_data, 1),  # 1 means same person (positive pair)\n",
    "    (pair1_data, pair3_data, 0),  # 0 means different person (negative pair)\n",
    "    # Add more test pairs...\n",
    "]\n",
    "\n",
    "accuracy, auc, precision, recall = test_siamese_network(model, test_pairs)\n"
   ]
  },
  {
   "cell_type": "markdown",
   "metadata": {},
   "source": [
    "Accuracy: Shows the proportion of correctly classified pairs. However, if your test set is imbalanced (e.g., more positive pairs than negative), accuracy may not be a good indicator of model performance.\n",
    "\n",
    "AUC (Area Under ROC Curve): Measures the ability of the model to discriminate between positive and negative pairs at various thresholds. A higher AUC indicates better performance.\n",
    "\n",
    "Precision-Recall Curve: Useful when dealing with imbalanced datasets, as it shows how well the model performs with respect to both positive and negative classes."
   ]
  },
  {
   "cell_type": "code",
   "execution_count": null,
   "metadata": {},
   "outputs": [],
   "source": [
    "def aggregate_window_comparisons(window_pairs, threshold=0.5):\n",
    "    \"\"\"\n",
    "    Aggregate results from multiple window comparisons.\n",
    "    \n",
    "    Parameters:\n",
    "    - window_pairs: List of tuples (window1, window2, label) where:\n",
    "        - window1 and window2 are EEG windows,\n",
    "        - label is 1 for same person or 0 for different person.\n",
    "    - threshold: Similarity threshold for classifying the pair.\n",
    "    \n",
    "    Returns:\n",
    "    - final_pred: Aggregated prediction (1 for same person, 0 for different person).\n",
    "    \"\"\"\n",
    "    similarities = []\n",
    "    \n",
    "    for window1, window2, label in window_pairs:\n",
    "        similarity_score = compare_two_windows(window1, window2)\n",
    "        similarities.append(similarity_score)\n",
    "    \n",
    "    # Average similarity score across all windows\n",
    "    average_similarity = np.mean(similarities)\n",
    "    \n",
    "    # Classify based on average similarity score\n",
    "    final_pred = 1 if average_similarity >= threshold else 0\n",
    "    return final_pred\n",
    "\n",
    "def compare_two_windows(window1, window2):\n",
    "    # Compare two windows and return similarity score\n",
    "    # This could be using Euclidean distance, cosine similarity, etc.\n",
    "    distance = np.linalg.norm(window1 - window2)\n",
    "    similarity_score = 1 / (1 + distance)\n",
    "    return similarity_score"
   ]
  }
 ],
 "metadata": {
  "kernelspec": {
   "display_name": "base",
   "language": "python",
   "name": "python3"
  },
  "language_info": {
   "codemirror_mode": {
    "name": "ipython",
    "version": 3
   },
   "file_extension": ".py",
   "mimetype": "text/x-python",
   "name": "python",
   "nbconvert_exporter": "python",
   "pygments_lexer": "ipython3",
   "version": "3.9.18"
  }
 },
 "nbformat": 4,
 "nbformat_minor": 2
}
