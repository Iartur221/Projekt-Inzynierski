{
 "cells": [
  {
   "cell_type": "code",
   "execution_count": 1,
   "metadata": {},
   "outputs": [],
   "source": [
    "import os\n",
    "import torch\n",
    "import torch.nn as nn\n",
    "import torch.optim as optim\n",
    "import torch.nn.functional as F\n",
    "from torch.utils.data import DataLoader, Dataset\n",
    "import numpy as np\n",
    "import pandas as pd\n",
    "from matplotlib import pyplot as plt\n",
    "from tqdm import tqdm\n",
    "from sklearn.metrics import accuracy_score, roc_auc_score, precision_recall_curve\n",
    "from scipy import stats"
   ]
  },
  {
   "cell_type": "markdown",
   "metadata": {},
   "source": [
    "Data prep"
   ]
  },
  {
   "cell_type": "code",
   "execution_count": 2,
   "metadata": {},
   "outputs": [
    {
     "data": {
      "text/html": [
       "<div>\n",
       "<style scoped>\n",
       "    .dataframe tbody tr th:only-of-type {\n",
       "        vertical-align: middle;\n",
       "    }\n",
       "\n",
       "    .dataframe tbody tr th {\n",
       "        vertical-align: top;\n",
       "    }\n",
       "\n",
       "    .dataframe thead th {\n",
       "        text-align: right;\n",
       "    }\n",
       "</style>\n",
       "<table border=\"1\" class=\"dataframe\">\n",
       "  <thead>\n",
       "    <tr style=\"text-align: right;\">\n",
       "      <th></th>\n",
       "      <th>Time:128Hz</th>\n",
       "      <th>Epoch</th>\n",
       "      <th>AF3</th>\n",
       "      <th>F7</th>\n",
       "      <th>F3</th>\n",
       "      <th>FC5</th>\n",
       "      <th>T7</th>\n",
       "      <th>P7</th>\n",
       "      <th>O1</th>\n",
       "      <th>O2</th>\n",
       "      <th>P8</th>\n",
       "      <th>T8</th>\n",
       "      <th>FC6</th>\n",
       "      <th>F4</th>\n",
       "      <th>F8</th>\n",
       "      <th>AF4</th>\n",
       "      <th>Event Id</th>\n",
       "      <th>Event Date</th>\n",
       "      <th>Event Duration</th>\n",
       "    </tr>\n",
       "  </thead>\n",
       "  <tbody>\n",
       "    <tr>\n",
       "      <th>0</th>\n",
       "      <td>0.000000</td>\n",
       "      <td>0</td>\n",
       "      <td>4168.974121</td>\n",
       "      <td>4152.436035</td>\n",
       "      <td>4161.025879</td>\n",
       "      <td>4124.358887</td>\n",
       "      <td>4158.205078</td>\n",
       "      <td>4162.948730</td>\n",
       "      <td>4162.436035</td>\n",
       "      <td>4163.205078</td>\n",
       "      <td>4168.589844</td>\n",
       "      <td>4166.666504</td>\n",
       "      <td>4225.897461</td>\n",
       "      <td>4172.051270</td>\n",
       "      <td>4192.948730</td>\n",
       "      <td>4170.897461</td>\n",
       "      <td>NaN</td>\n",
       "      <td>NaN</td>\n",
       "      <td>NaN</td>\n",
       "    </tr>\n",
       "    <tr>\n",
       "      <th>1</th>\n",
       "      <td>0.007812</td>\n",
       "      <td>0</td>\n",
       "      <td>4171.794922</td>\n",
       "      <td>4157.436035</td>\n",
       "      <td>4163.974121</td>\n",
       "      <td>4132.948730</td>\n",
       "      <td>4156.666504</td>\n",
       "      <td>4164.102539</td>\n",
       "      <td>4159.358887</td>\n",
       "      <td>4164.743652</td>\n",
       "      <td>4163.205078</td>\n",
       "      <td>4167.563965</td>\n",
       "      <td>4217.307617</td>\n",
       "      <td>4167.948730</td>\n",
       "      <td>4186.025879</td>\n",
       "      <td>4173.077148</td>\n",
       "      <td>NaN</td>\n",
       "      <td>NaN</td>\n",
       "      <td>NaN</td>\n",
       "    </tr>\n",
       "    <tr>\n",
       "      <th>2</th>\n",
       "      <td>0.015625</td>\n",
       "      <td>0</td>\n",
       "      <td>4174.487305</td>\n",
       "      <td>4159.743652</td>\n",
       "      <td>4168.589844</td>\n",
       "      <td>4139.615234</td>\n",
       "      <td>4159.615234</td>\n",
       "      <td>4161.666504</td>\n",
       "      <td>4161.794922</td>\n",
       "      <td>4166.794922</td>\n",
       "      <td>4160.128418</td>\n",
       "      <td>4167.051270</td>\n",
       "      <td>4220.000000</td>\n",
       "      <td>4166.794922</td>\n",
       "      <td>4184.743652</td>\n",
       "      <td>4170.769043</td>\n",
       "      <td>NaN</td>\n",
       "      <td>NaN</td>\n",
       "      <td>NaN</td>\n",
       "    </tr>\n",
       "    <tr>\n",
       "      <th>3</th>\n",
       "      <td>0.023438</td>\n",
       "      <td>0</td>\n",
       "      <td>4161.410156</td>\n",
       "      <td>4153.589844</td>\n",
       "      <td>4161.282227</td>\n",
       "      <td>4134.871582</td>\n",
       "      <td>4161.666504</td>\n",
       "      <td>4162.563965</td>\n",
       "      <td>4164.358887</td>\n",
       "      <td>4164.743652</td>\n",
       "      <td>4160.641113</td>\n",
       "      <td>4165.769043</td>\n",
       "      <td>4209.871582</td>\n",
       "      <td>4155.769043</td>\n",
       "      <td>4179.230957</td>\n",
       "      <td>4161.153809</td>\n",
       "      <td>NaN</td>\n",
       "      <td>NaN</td>\n",
       "      <td>NaN</td>\n",
       "    </tr>\n",
       "    <tr>\n",
       "      <th>4</th>\n",
       "      <td>0.031250</td>\n",
       "      <td>1</td>\n",
       "      <td>4147.563965</td>\n",
       "      <td>4148.333496</td>\n",
       "      <td>4156.282227</td>\n",
       "      <td>4136.794922</td>\n",
       "      <td>4161.794922</td>\n",
       "      <td>4163.333496</td>\n",
       "      <td>4162.436035</td>\n",
       "      <td>4162.307617</td>\n",
       "      <td>4166.538574</td>\n",
       "      <td>4165.128418</td>\n",
       "      <td>4197.948730</td>\n",
       "      <td>4147.179688</td>\n",
       "      <td>4173.589844</td>\n",
       "      <td>4151.153809</td>\n",
       "      <td>NaN</td>\n",
       "      <td>NaN</td>\n",
       "      <td>NaN</td>\n",
       "    </tr>\n",
       "  </tbody>\n",
       "</table>\n",
       "</div>"
      ],
      "text/plain": [
       "   Time:128Hz  Epoch          AF3           F7           F3          FC5  \\\n",
       "0    0.000000      0  4168.974121  4152.436035  4161.025879  4124.358887   \n",
       "1    0.007812      0  4171.794922  4157.436035  4163.974121  4132.948730   \n",
       "2    0.015625      0  4174.487305  4159.743652  4168.589844  4139.615234   \n",
       "3    0.023438      0  4161.410156  4153.589844  4161.282227  4134.871582   \n",
       "4    0.031250      1  4147.563965  4148.333496  4156.282227  4136.794922   \n",
       "\n",
       "            T7           P7           O1           O2           P8  \\\n",
       "0  4158.205078  4162.948730  4162.436035  4163.205078  4168.589844   \n",
       "1  4156.666504  4164.102539  4159.358887  4164.743652  4163.205078   \n",
       "2  4159.615234  4161.666504  4161.794922  4166.794922  4160.128418   \n",
       "3  4161.666504  4162.563965  4164.358887  4164.743652  4160.641113   \n",
       "4  4161.794922  4163.333496  4162.436035  4162.307617  4166.538574   \n",
       "\n",
       "            T8          FC6           F4           F8          AF4  Event Id  \\\n",
       "0  4166.666504  4225.897461  4172.051270  4192.948730  4170.897461       NaN   \n",
       "1  4167.563965  4217.307617  4167.948730  4186.025879  4173.077148       NaN   \n",
       "2  4167.051270  4220.000000  4166.794922  4184.743652  4170.769043       NaN   \n",
       "3  4165.769043  4209.871582  4155.769043  4179.230957  4161.153809       NaN   \n",
       "4  4165.128418  4197.948730  4147.179688  4173.589844  4151.153809       NaN   \n",
       "\n",
       "   Event Date  Event Duration  \n",
       "0         NaN             NaN  \n",
       "1         NaN             NaN  \n",
       "2         NaN             NaN  \n",
       "3         NaN             NaN  \n",
       "4         NaN             NaN  "
      ]
     },
     "execution_count": 2,
     "metadata": {},
     "output_type": "execute_result"
    }
   ],
   "source": [
    "df = pd.read_csv(\"our data/Art1.csv\")\n",
    "df.head()"
   ]
  },
  {
   "cell_type": "code",
   "execution_count": 3,
   "metadata": {},
   "outputs": [
    {
     "name": "stdout",
     "output_type": "stream",
     "text": [
      "Processed and saved: Art1.csv\n",
      "Processed and saved: Art10.csv\n",
      "Processed and saved: Art11.csv\n",
      "Processed and saved: Art12.csv\n",
      "Processed and saved: Art13.csv\n",
      "Processed and saved: Art14.csv\n",
      "Processed and saved: Art15.csv\n",
      "Processed and saved: Art16.csv\n",
      "Processed and saved: Art17.csv\n",
      "Processed and saved: Art18.csv\n",
      "Processed and saved: Art19.csv\n",
      "Processed and saved: Art2.csv\n",
      "Processed and saved: Art20.csv\n",
      "Processed and saved: Art21.csv\n",
      "Processed and saved: Art22.csv\n",
      "Processed and saved: Art23.csv\n",
      "Processed and saved: Art24.csv\n",
      "Processed and saved: Art25.csv\n",
      "Processed and saved: Art26.csv\n",
      "Processed and saved: Art27.csv\n",
      "Processed and saved: Art28.csv\n",
      "Processed and saved: Art29.csv\n",
      "Processed and saved: Art3.csv\n",
      "Processed and saved: Art30.csv\n",
      "Processed and saved: Art31.csv\n",
      "Processed and saved: Art32.csv\n",
      "Processed and saved: Art33.csv\n",
      "Processed and saved: Art34.csv\n",
      "Processed and saved: Art35.csv\n",
      "Processed and saved: Art36.csv\n",
      "Processed and saved: Art37.csv\n",
      "Processed and saved: Art38.csv\n",
      "Processed and saved: Art39.csv\n",
      "Processed and saved: Art4.csv\n",
      "Processed and saved: Art40.csv\n",
      "Processed and saved: Art41.csv\n",
      "Processed and saved: Art42.csv\n",
      "Processed and saved: Art43.csv\n",
      "Processed and saved: Art44.csv\n",
      "Processed and saved: Art45.csv\n",
      "Processed and saved: Art5.csv\n",
      "Processed and saved: Art6.csv\n",
      "Processed and saved: Art7.csv\n",
      "Processed and saved: Art8.csv\n",
      "Processed and saved: Art9.csv\n",
      "Processed and saved: Artlog-oli1.csv\n",
      "Processed and saved: Artlog-oli2.csv\n",
      "Processed and saved: Artlog-oli3.csv\n",
      "Processed and saved: Artlog-random1.csv\n",
      "Processed and saved: Artlog-random2.csv\n",
      "Processed and saved: Artlog-random3.csv\n",
      "Processed and saved: Artlog-tym1.csv\n",
      "Processed and saved: Artlog-tym2.csv\n",
      "Processed and saved: Artlog-tym3.csv\n",
      "Processed and saved: Artlog1.csv\n",
      "Processed and saved: Artlog2.csv\n",
      "Processed and saved: Artlog3.csv\n",
      "Processed and saved: Oli1.csv\n",
      "Processed and saved: Oli10.csv\n",
      "Processed and saved: Oli11.csv\n",
      "Processed and saved: Oli12.csv\n",
      "Processed and saved: Oli13.csv\n",
      "Processed and saved: Oli14.csv\n",
      "Processed and saved: Oli15.csv\n",
      "Processed and saved: Oli16.csv\n",
      "Processed and saved: Oli17.csv\n",
      "Processed and saved: Oli18.csv\n",
      "Processed and saved: Oli19.csv\n",
      "Processed and saved: Oli2.csv\n",
      "Processed and saved: Oli20.csv\n",
      "Processed and saved: Oli21.csv\n",
      "Processed and saved: Oli22.csv\n",
      "Processed and saved: Oli23.csv\n",
      "Processed and saved: Oli24.csv\n",
      "Processed and saved: Oli25.csv\n",
      "Processed and saved: Oli26.csv\n",
      "Processed and saved: Oli27.csv\n",
      "Processed and saved: Oli28.csv\n",
      "Processed and saved: Oli29.csv\n",
      "Processed and saved: Oli3.csv\n",
      "Processed and saved: Oli30.csv\n",
      "Processed and saved: Oli31.csv\n",
      "Processed and saved: Oli32.csv\n",
      "Processed and saved: Oli33.csv\n",
      "Processed and saved: Oli34.csv\n",
      "Processed and saved: Oli35.csv\n",
      "Processed and saved: Oli36.csv\n",
      "Processed and saved: Oli37.csv\n",
      "Processed and saved: Oli38.csv\n",
      "Processed and saved: Oli39.csv\n",
      "Processed and saved: Oli4.csv\n",
      "Processed and saved: Oli40.csv\n",
      "Processed and saved: Oli41.csv\n",
      "Processed and saved: Oli42.csv\n",
      "Processed and saved: Oli43.csv\n",
      "Processed and saved: Oli44.csv\n",
      "Processed and saved: Oli45.csv\n",
      "Processed and saved: Oli5.csv\n",
      "Processed and saved: Oli6.csv\n",
      "Processed and saved: Oli7.csv\n",
      "Processed and saved: Oli8.csv\n",
      "Processed and saved: Oli9.csv\n",
      "Processed and saved: Olilog-Ar1.csv\n",
      "Processed and saved: Olilog-Ar3.csv\n",
      "Processed and saved: Olilog-random1.csv\n",
      "Processed and saved: Olilog-random2.csv\n",
      "Processed and saved: Olilog-random3.csv\n",
      "Processed and saved: Olilog-tym1.csv\n",
      "Processed and saved: Olilog-tym2.csv\n",
      "Processed and saved: Olilog-tym3.csv\n",
      "Processed and saved: Olilog1.csv\n",
      "Processed and saved: Olilog2.csv\n",
      "Processed and saved: Olilog3.csv\n",
      "Processed and saved: Tym1.csv\n",
      "Processed and saved: Tym10.csv\n",
      "Processed and saved: Tym11.csv\n",
      "Processed and saved: Tym12.csv\n",
      "Processed and saved: Tym13.csv\n",
      "Processed and saved: Tym14.csv\n",
      "Processed and saved: Tym15.csv\n",
      "Processed and saved: Tym16.csv\n",
      "Processed and saved: Tym17.csv\n",
      "Processed and saved: Tym18.csv\n",
      "Processed and saved: Tym19.csv\n",
      "Processed and saved: Tym2.csv\n",
      "Processed and saved: Tym20.csv\n",
      "Processed and saved: Tym21.csv\n",
      "Processed and saved: Tym22.csv\n",
      "Processed and saved: Tym23.csv\n",
      "Processed and saved: Tym24.csv\n",
      "Processed and saved: Tym25.csv\n",
      "Processed and saved: Tym26.csv\n",
      "Processed and saved: Tym27.csv\n",
      "Processed and saved: Tym28.csv\n",
      "Processed and saved: Tym29.csv\n",
      "Processed and saved: Tym3.csv\n",
      "Processed and saved: Tym30.csv\n",
      "Processed and saved: Tym31.csv\n",
      "Processed and saved: Tym32.csv\n",
      "Processed and saved: Tym33.csv\n",
      "Processed and saved: Tym34.csv\n",
      "Processed and saved: Tym35.csv\n",
      "Processed and saved: Tym36.csv\n",
      "Processed and saved: Tym37.csv\n",
      "Processed and saved: Tym38.csv\n",
      "Processed and saved: Tym39.csv\n",
      "Processed and saved: Tym4.csv\n",
      "Processed and saved: Tym40.csv\n",
      "Processed and saved: Tym41.csv\n",
      "Processed and saved: Tym42.csv\n",
      "Processed and saved: Tym43.csv\n",
      "Processed and saved: Tym44.csv\n",
      "Processed and saved: Tym45.csv\n",
      "Processed and saved: Tym5.csv\n",
      "Processed and saved: Tym6.csv\n",
      "Processed and saved: Tym7.csv\n",
      "Processed and saved: Tym8.csv\n",
      "Processed and saved: Tym9.csv\n",
      "Processed and saved: Tymlog-art1.csv\n",
      "Processed and saved: Tymlog-art2.csv\n",
      "Processed and saved: Tymlog-art3.csv\n",
      "Processed and saved: Tymlog-oli1.csv\n",
      "Processed and saved: Tymlog-oli2.csv\n",
      "Processed and saved: Tymlog-oli3.csv\n",
      "Processed and saved: Tymlog-random1.csv\n",
      "Processed and saved: Tymlog-random2.csv\n",
      "Processed and saved: Tymlog-random3.csv\n",
      "Processed and saved: Tymlog1.csv\n",
      "Processed and saved: Tymlog2.csv\n",
      "Processed and saved: Tymlog3.csv\n",
      "All files processed successfully!\n"
     ]
    }
   ],
   "source": [
    "# Define input and output directories\n",
    "input_folder = \"our data\"  # Replace with the path to your source folder\n",
    "output_folder = \"ourdata_prepared\"  # Replace with the path to your target folder\n",
    "\n",
    "# Ensure the output directory exists\n",
    "os.makedirs(output_folder, exist_ok=True)\n",
    "\n",
    "# Processing parameters\n",
    "sampling_rate = 128  # 128 Hz timescale\n",
    "cut_time_seconds = 4.5  # Time to cut in seconds\n",
    "rows_to_cut = int(sampling_rate * cut_time_seconds)  # Number of rows to cut\n",
    "\n",
    "# Loop through all CSV files in the input folder\n",
    "for filename in os.listdir(input_folder):\n",
    "    if filename.endswith(\".csv\"):  # Process only CSV files\n",
    "        input_path = os.path.join(input_folder, filename)\n",
    "        output_path = os.path.join(output_folder, filename)\n",
    "\n",
    "        # Read the CSV file\n",
    "        df = pd.read_csv(input_path)\n",
    "\n",
    "        # Cut the first 4.5 seconds (first `rows_to_cut` rows)\n",
    "        df = df.iloc[rows_to_cut:]\n",
    "        \n",
    "        # Drop the first 2 columns\n",
    "        df = df.iloc[:, 2:]\n",
    "\n",
    "        # Drop the last 3 columns\n",
    "        df = df.iloc[:, :-3]\n",
    "\n",
    "        # Save the processed file to the output folder\n",
    "        df.to_csv(output_path, index=False)\n",
    "\n",
    "        print(f\"Processed and saved: {filename}\")\n",
    "\n",
    "print(\"All files processed successfully!\")\n"
   ]
  },
  {
   "cell_type": "markdown",
   "metadata": {},
   "source": [
    "Testy Shapiro-Wilka dla sprawdzenia czy mamy do czynienia z rozkładem normalnym:"
   ]
  },
  {
   "cell_type": "code",
   "execution_count": 4,
   "metadata": {},
   "outputs": [
    {
     "name": "stdout",
     "output_type": "stream",
     "text": [
      "Art1.csv - 3/14 columns follow normal distribution\n",
      "Art10.csv - 3/14 columns follow normal distribution\n",
      "Art11.csv - 3/14 columns follow normal distribution\n",
      "Art12.csv - 0/14 columns follow normal distribution\n",
      "Art13.csv - 1/14 columns follow normal distribution\n",
      "Art14.csv - 2/14 columns follow normal distribution\n",
      "Art15.csv - 0/14 columns follow normal distribution\n",
      "Art16.csv - 2/14 columns follow normal distribution\n",
      "Art17.csv - 2/14 columns follow normal distribution\n",
      "Art18.csv - 3/14 columns follow normal distribution\n",
      "Art19.csv - 2/14 columns follow normal distribution\n",
      "Art2.csv - 3/14 columns follow normal distribution\n",
      "Art20.csv - 1/14 columns follow normal distribution\n",
      "Art21.csv - 3/14 columns follow normal distribution\n",
      "Art22.csv - 2/14 columns follow normal distribution\n",
      "Art23.csv - 2/14 columns follow normal distribution\n",
      "Art24.csv - 3/14 columns follow normal distribution\n",
      "Art25.csv - 1/14 columns follow normal distribution\n",
      "Art26.csv - 2/14 columns follow normal distribution\n",
      "Art27.csv - 3/14 columns follow normal distribution\n",
      "Art28.csv - 1/14 columns follow normal distribution\n",
      "Art29.csv - 2/14 columns follow normal distribution\n",
      "Art3.csv - 0/14 columns follow normal distribution\n",
      "Art30.csv - 1/14 columns follow normal distribution\n",
      "Art31.csv - 2/14 columns follow normal distribution\n",
      "Art32.csv - 3/14 columns follow normal distribution\n",
      "Art33.csv - 3/14 columns follow normal distribution\n",
      "Art34.csv - 3/14 columns follow normal distribution\n",
      "Art35.csv - 2/14 columns follow normal distribution\n",
      "Art36.csv - 1/14 columns follow normal distribution\n",
      "Art37.csv - 1/14 columns follow normal distribution\n",
      "Art38.csv - 1/14 columns follow normal distribution\n",
      "Art39.csv - 1/14 columns follow normal distribution\n",
      "Art4.csv - 1/14 columns follow normal distribution\n",
      "Art40.csv - 2/14 columns follow normal distribution\n",
      "Art41.csv - 2/14 columns follow normal distribution\n",
      "Art42.csv - 2/14 columns follow normal distribution\n",
      "Art43.csv - 3/14 columns follow normal distribution\n",
      "Art44.csv - 2/14 columns follow normal distribution\n",
      "Art45.csv - 1/14 columns follow normal distribution\n",
      "Art5.csv - 0/14 columns follow normal distribution\n",
      "Art6.csv - 1/14 columns follow normal distribution\n",
      "Art7.csv - 1/14 columns follow normal distribution\n",
      "Art8.csv - 1/14 columns follow normal distribution\n",
      "Art9.csv - 2/14 columns follow normal distribution\n",
      "Artlog-oli1.csv - 3/14 columns follow normal distribution\n",
      "Artlog-oli2.csv - 2/14 columns follow normal distribution\n",
      "Artlog-oli3.csv - 3/14 columns follow normal distribution\n",
      "Artlog-random1.csv - 3/14 columns follow normal distribution\n",
      "Artlog-random2.csv - 5/14 columns follow normal distribution\n",
      "Artlog-random3.csv - 1/14 columns follow normal distribution\n",
      "Artlog-tym1.csv - 4/14 columns follow normal distribution\n",
      "Artlog-tym2.csv - 5/14 columns follow normal distribution\n",
      "Artlog-tym3.csv - 3/14 columns follow normal distribution\n",
      "Artlog1.csv - 1/14 columns follow normal distribution\n",
      "Artlog2.csv - 2/14 columns follow normal distribution\n",
      "Artlog3.csv - 3/14 columns follow normal distribution\n",
      "Oli1.csv - 1/14 columns follow normal distribution\n",
      "Oli10.csv - 3/14 columns follow normal distribution\n",
      "Oli11.csv - 2/14 columns follow normal distribution\n",
      "Oli12.csv - 2/14 columns follow normal distribution\n",
      "Oli13.csv - 3/14 columns follow normal distribution\n",
      "Oli14.csv - 2/14 columns follow normal distribution\n",
      "Oli15.csv - 2/14 columns follow normal distribution\n",
      "Oli16.csv - 4/14 columns follow normal distribution\n",
      "Oli17.csv - 3/14 columns follow normal distribution\n",
      "Oli18.csv - 3/14 columns follow normal distribution\n",
      "Oli19.csv - 2/14 columns follow normal distribution\n",
      "Oli2.csv - 3/14 columns follow normal distribution\n",
      "Oli20.csv - 2/14 columns follow normal distribution\n",
      "Oli21.csv - 1/14 columns follow normal distribution\n",
      "Oli22.csv - 3/14 columns follow normal distribution\n",
      "Oli23.csv - 3/14 columns follow normal distribution\n",
      "Oli24.csv - 2/14 columns follow normal distribution\n",
      "Oli25.csv - 3/14 columns follow normal distribution\n",
      "Oli26.csv - 0/14 columns follow normal distribution\n",
      "Oli27.csv - 3/14 columns follow normal distribution\n",
      "Oli28.csv - 3/14 columns follow normal distribution\n",
      "Oli29.csv - 2/14 columns follow normal distribution\n",
      "Oli3.csv - 1/14 columns follow normal distribution\n",
      "Oli30.csv - 2/14 columns follow normal distribution\n",
      "Oli31.csv - 2/14 columns follow normal distribution\n",
      "Oli32.csv - 2/14 columns follow normal distribution\n",
      "Oli33.csv - 2/14 columns follow normal distribution\n",
      "Oli34.csv - 3/14 columns follow normal distribution\n",
      "Oli35.csv - 3/14 columns follow normal distribution\n",
      "Oli36.csv - 2/14 columns follow normal distribution\n",
      "Oli37.csv - 3/14 columns follow normal distribution\n",
      "Oli38.csv - 3/14 columns follow normal distribution\n",
      "Oli39.csv - 3/14 columns follow normal distribution\n",
      "Oli4.csv - 2/14 columns follow normal distribution\n",
      "Oli40.csv - 2/14 columns follow normal distribution\n",
      "Oli41.csv - 3/14 columns follow normal distribution\n",
      "Oli42.csv - 3/14 columns follow normal distribution\n",
      "Oli43.csv - 3/14 columns follow normal distribution\n",
      "Oli44.csv - 2/14 columns follow normal distribution\n",
      "Oli45.csv - 2/14 columns follow normal distribution\n",
      "Oli5.csv - 3/14 columns follow normal distribution\n",
      "Oli6.csv - 2/14 columns follow normal distribution\n",
      "Oli7.csv - 1/14 columns follow normal distribution\n",
      "Oli8.csv - 1/14 columns follow normal distribution\n",
      "Oli9.csv - 2/14 columns follow normal distribution\n",
      "Olilog-Ar1.csv - 2/14 columns follow normal distribution\n",
      "Olilog-Ar3.csv - 2/14 columns follow normal distribution\n",
      "Olilog-random1.csv - 3/14 columns follow normal distribution\n",
      "Olilog-random2.csv - 3/14 columns follow normal distribution\n",
      "Olilog-random3.csv - 2/14 columns follow normal distribution\n",
      "Olilog-tym1.csv - 3/14 columns follow normal distribution\n",
      "Olilog-tym2.csv - 3/14 columns follow normal distribution\n",
      "Olilog-tym3.csv - 2/14 columns follow normal distribution\n",
      "Olilog1.csv - 3/14 columns follow normal distribution\n",
      "Olilog2.csv - 3/14 columns follow normal distribution\n",
      "Olilog3.csv - 3/14 columns follow normal distribution\n",
      "Tym1.csv - 3/14 columns follow normal distribution\n",
      "Tym10.csv - 3/14 columns follow normal distribution\n",
      "Tym11.csv - 3/14 columns follow normal distribution\n",
      "Tym12.csv - 3/14 columns follow normal distribution\n",
      "Tym13.csv - 3/14 columns follow normal distribution\n",
      "Tym14.csv - 3/14 columns follow normal distribution\n",
      "Tym15.csv - 4/14 columns follow normal distribution\n",
      "Tym16.csv - 2/14 columns follow normal distribution\n",
      "Tym17.csv - 3/14 columns follow normal distribution\n",
      "Tym18.csv - 3/14 columns follow normal distribution\n",
      "Tym19.csv - 4/14 columns follow normal distribution\n",
      "Tym2.csv - 3/14 columns follow normal distribution\n",
      "Tym20.csv - 4/14 columns follow normal distribution\n",
      "Tym21.csv - 4/14 columns follow normal distribution\n",
      "Tym22.csv - 3/14 columns follow normal distribution\n",
      "Tym23.csv - 4/14 columns follow normal distribution\n",
      "Tym24.csv - 4/14 columns follow normal distribution\n",
      "Tym25.csv - 3/14 columns follow normal distribution\n",
      "Tym26.csv - 3/14 columns follow normal distribution\n",
      "Tym27.csv - 3/14 columns follow normal distribution\n",
      "Tym28.csv - 3/14 columns follow normal distribution\n",
      "Tym29.csv - 3/14 columns follow normal distribution\n",
      "Tym3.csv - 4/14 columns follow normal distribution\n",
      "Tym30.csv - 3/14 columns follow normal distribution\n",
      "Tym31.csv - 4/14 columns follow normal distribution\n",
      "Tym32.csv - 4/14 columns follow normal distribution\n",
      "Tym33.csv - 3/14 columns follow normal distribution\n",
      "Tym34.csv - 2/14 columns follow normal distribution\n",
      "Tym35.csv - 1/14 columns follow normal distribution\n",
      "Tym36.csv - 2/14 columns follow normal distribution\n",
      "Tym37.csv - 3/14 columns follow normal distribution\n",
      "Tym38.csv - 3/14 columns follow normal distribution\n",
      "Tym39.csv - 3/14 columns follow normal distribution\n",
      "Tym4.csv - 2/14 columns follow normal distribution\n",
      "Tym40.csv - 3/14 columns follow normal distribution\n",
      "Tym41.csv - 2/14 columns follow normal distribution\n",
      "Tym42.csv - 1/14 columns follow normal distribution\n",
      "Tym43.csv - 4/14 columns follow normal distribution\n",
      "Tym44.csv - 2/14 columns follow normal distribution\n",
      "Tym45.csv - 2/14 columns follow normal distribution\n",
      "Tym5.csv - 3/14 columns follow normal distribution\n",
      "Tym6.csv - 3/14 columns follow normal distribution\n",
      "Tym7.csv - 4/14 columns follow normal distribution\n",
      "Tym8.csv - 3/14 columns follow normal distribution\n",
      "Tym9.csv - 3/14 columns follow normal distribution\n",
      "Tymlog-art1.csv - 4/14 columns follow normal distribution\n",
      "Tymlog-art2.csv - 2/14 columns follow normal distribution\n",
      "Tymlog-art3.csv - 2/14 columns follow normal distribution\n",
      "Tymlog-oli1.csv - 2/14 columns follow normal distribution\n",
      "Tymlog-oli2.csv - 4/14 columns follow normal distribution\n",
      "Tymlog-oli3.csv - 4/14 columns follow normal distribution\n",
      "Tymlog-random1.csv - 3/14 columns follow normal distribution\n",
      "Tymlog-random2.csv - 2/14 columns follow normal distribution\n",
      "Tymlog-random3.csv - 3/14 columns follow normal distribution\n",
      "Tymlog1.csv - 4/14 columns follow normal distribution\n",
      "Tymlog2.csv - 2/14 columns follow normal distribution\n",
      "Tymlog3.csv - 3/14 columns follow normal distribution\n"
     ]
    }
   ],
   "source": [
    "input_folder = \"ourdata_prepared\"  # Replace with the folder path\n",
    "\n",
    "# Loop through all the EEG data files\n",
    "for filename in os.listdir(input_folder):\n",
    "    if filename.endswith(\".csv\"):  # Check only CSV files\n",
    "        filepath = os.path.join(input_folder, filename)\n",
    "        df = pd.read_csv(filepath)\n",
    "\n",
    "        # Initialize counter for columns passing Shapiro-Wilk test\n",
    "        normal_count = 0\n",
    "        total_columns = len(df.columns)\n",
    "\n",
    "        # Loop through each channel (column) in the dataframe\n",
    "        for col in df.columns:\n",
    "            # Perform Shapiro-Wilk test for normality\n",
    "            stat, p_value = stats.shapiro(df[col])\n",
    "\n",
    "            if p_value >= 0.05:\n",
    "                normal_count += 1  # Column follows normal distribution\n",
    "\n",
    "        # Print the result for the file\n",
    "        print(f\"{filename} - {normal_count}/{total_columns} columns follow normal distribution\")"
   ]
  },
  {
   "cell_type": "markdown",
   "metadata": {},
   "source": [
    "Niewielka ilość danych posiada rozkład normalny, tak więc zastosujemy inną metodę normalizacji niż standaryzacja Z. Zastosowaliśmy algorytm RobustScaler"
   ]
  },
  {
   "cell_type": "code",
   "execution_count": 5,
   "metadata": {},
   "outputs": [
    {
     "name": "stdout",
     "output_type": "stream",
     "text": [
      "Processed and saved: Art1.csv\n",
      "Processed and saved: Art10.csv\n",
      "Processed and saved: Art11.csv\n",
      "Processed and saved: Art12.csv\n",
      "Processed and saved: Art13.csv\n",
      "Processed and saved: Art14.csv\n",
      "Processed and saved: Art15.csv\n",
      "Processed and saved: Art16.csv\n",
      "Processed and saved: Art17.csv\n",
      "Processed and saved: Art18.csv\n",
      "Processed and saved: Art19.csv\n",
      "Processed and saved: Art2.csv\n",
      "Processed and saved: Art20.csv\n",
      "Processed and saved: Art21.csv\n",
      "Processed and saved: Art22.csv\n",
      "Processed and saved: Art23.csv\n",
      "Processed and saved: Art24.csv\n",
      "Processed and saved: Art25.csv\n",
      "Processed and saved: Art26.csv\n",
      "Processed and saved: Art27.csv\n",
      "Processed and saved: Art28.csv\n",
      "Processed and saved: Art29.csv\n",
      "Processed and saved: Art3.csv\n",
      "Processed and saved: Art30.csv\n",
      "Processed and saved: Art31.csv\n",
      "Processed and saved: Art32.csv\n",
      "Processed and saved: Art33.csv\n",
      "Processed and saved: Art34.csv\n",
      "Processed and saved: Art35.csv\n",
      "Processed and saved: Art36.csv\n",
      "Processed and saved: Art37.csv\n",
      "Processed and saved: Art38.csv\n",
      "Processed and saved: Art39.csv\n",
      "Processed and saved: Art4.csv\n",
      "Processed and saved: Art40.csv\n",
      "Processed and saved: Art41.csv\n",
      "Processed and saved: Art42.csv\n",
      "Processed and saved: Art43.csv\n",
      "Processed and saved: Art44.csv\n",
      "Processed and saved: Art45.csv\n",
      "Processed and saved: Art5.csv\n",
      "Processed and saved: Art6.csv\n",
      "Processed and saved: Art7.csv\n",
      "Processed and saved: Art8.csv\n",
      "Processed and saved: Art9.csv\n",
      "Processed and saved: Artlog-oli1.csv\n",
      "Processed and saved: Artlog-oli2.csv\n",
      "Processed and saved: Artlog-oli3.csv\n",
      "Processed and saved: Artlog-random1.csv\n",
      "Processed and saved: Artlog-random2.csv\n",
      "Processed and saved: Artlog-random3.csv\n",
      "Processed and saved: Artlog-tym1.csv\n",
      "Processed and saved: Artlog-tym2.csv\n",
      "Processed and saved: Artlog-tym3.csv\n",
      "Processed and saved: Artlog1.csv\n",
      "Processed and saved: Artlog2.csv\n",
      "Processed and saved: Artlog3.csv\n",
      "Processed and saved: Oli1.csv\n",
      "Processed and saved: Oli10.csv\n",
      "Processed and saved: Oli11.csv\n",
      "Processed and saved: Oli12.csv\n",
      "Processed and saved: Oli13.csv\n",
      "Processed and saved: Oli14.csv\n",
      "Processed and saved: Oli15.csv\n",
      "Processed and saved: Oli16.csv\n",
      "Processed and saved: Oli17.csv\n",
      "Processed and saved: Oli18.csv\n",
      "Processed and saved: Oli19.csv\n",
      "Processed and saved: Oli2.csv\n",
      "Processed and saved: Oli20.csv\n",
      "Processed and saved: Oli21.csv\n",
      "Processed and saved: Oli22.csv\n",
      "Processed and saved: Oli23.csv\n",
      "Processed and saved: Oli24.csv\n",
      "Processed and saved: Oli25.csv\n",
      "Processed and saved: Oli26.csv\n",
      "Processed and saved: Oli27.csv\n",
      "Processed and saved: Oli28.csv\n",
      "Processed and saved: Oli29.csv\n",
      "Processed and saved: Oli3.csv\n",
      "Processed and saved: Oli30.csv\n",
      "Processed and saved: Oli31.csv\n",
      "Processed and saved: Oli32.csv\n",
      "Processed and saved: Oli33.csv\n",
      "Processed and saved: Oli34.csv\n",
      "Processed and saved: Oli35.csv\n",
      "Processed and saved: Oli36.csv\n",
      "Processed and saved: Oli37.csv\n",
      "Processed and saved: Oli38.csv\n",
      "Processed and saved: Oli39.csv\n",
      "Processed and saved: Oli4.csv\n",
      "Processed and saved: Oli40.csv\n",
      "Processed and saved: Oli41.csv\n",
      "Processed and saved: Oli42.csv\n",
      "Processed and saved: Oli43.csv\n",
      "Processed and saved: Oli44.csv\n",
      "Processed and saved: Oli45.csv\n",
      "Processed and saved: Oli5.csv\n",
      "Processed and saved: Oli6.csv\n",
      "Processed and saved: Oli7.csv\n",
      "Processed and saved: Oli8.csv\n",
      "Processed and saved: Oli9.csv\n",
      "Processed and saved: Olilog-Ar1.csv\n",
      "Processed and saved: Olilog-Ar3.csv\n",
      "Processed and saved: Olilog-random1.csv\n",
      "Processed and saved: Olilog-random2.csv\n",
      "Processed and saved: Olilog-random3.csv\n",
      "Processed and saved: Olilog-tym1.csv\n",
      "Processed and saved: Olilog-tym2.csv\n",
      "Processed and saved: Olilog-tym3.csv\n",
      "Processed and saved: Olilog1.csv\n",
      "Processed and saved: Olilog2.csv\n",
      "Processed and saved: Olilog3.csv\n",
      "Processed and saved: Tym1.csv\n",
      "Processed and saved: Tym10.csv\n",
      "Processed and saved: Tym11.csv\n",
      "Processed and saved: Tym12.csv\n",
      "Processed and saved: Tym13.csv\n",
      "Processed and saved: Tym14.csv\n",
      "Processed and saved: Tym15.csv\n",
      "Processed and saved: Tym16.csv\n",
      "Processed and saved: Tym17.csv\n",
      "Processed and saved: Tym18.csv\n",
      "Processed and saved: Tym19.csv\n",
      "Processed and saved: Tym2.csv\n",
      "Processed and saved: Tym20.csv\n",
      "Processed and saved: Tym21.csv\n",
      "Processed and saved: Tym22.csv\n",
      "Processed and saved: Tym23.csv\n",
      "Processed and saved: Tym24.csv\n",
      "Processed and saved: Tym25.csv\n",
      "Processed and saved: Tym26.csv\n",
      "Processed and saved: Tym27.csv\n",
      "Processed and saved: Tym28.csv\n",
      "Processed and saved: Tym29.csv\n",
      "Processed and saved: Tym3.csv\n",
      "Processed and saved: Tym30.csv\n",
      "Processed and saved: Tym31.csv\n",
      "Processed and saved: Tym32.csv\n",
      "Processed and saved: Tym33.csv\n",
      "Processed and saved: Tym34.csv\n",
      "Processed and saved: Tym35.csv\n",
      "Processed and saved: Tym36.csv\n",
      "Processed and saved: Tym37.csv\n",
      "Processed and saved: Tym38.csv\n",
      "Processed and saved: Tym39.csv\n",
      "Processed and saved: Tym4.csv\n",
      "Processed and saved: Tym40.csv\n",
      "Processed and saved: Tym41.csv\n",
      "Processed and saved: Tym42.csv\n",
      "Processed and saved: Tym43.csv\n",
      "Processed and saved: Tym44.csv\n",
      "Processed and saved: Tym45.csv\n",
      "Processed and saved: Tym5.csv\n",
      "Processed and saved: Tym6.csv\n",
      "Processed and saved: Tym7.csv\n",
      "Processed and saved: Tym8.csv\n",
      "Processed and saved: Tym9.csv\n",
      "Processed and saved: Tymlog-art1.csv\n",
      "Processed and saved: Tymlog-art2.csv\n",
      "Processed and saved: Tymlog-art3.csv\n",
      "Processed and saved: Tymlog-oli1.csv\n",
      "Processed and saved: Tymlog-oli2.csv\n",
      "Processed and saved: Tymlog-oli3.csv\n",
      "Processed and saved: Tymlog-random1.csv\n",
      "Processed and saved: Tymlog-random2.csv\n",
      "Processed and saved: Tymlog-random3.csv\n",
      "Processed and saved: Tymlog1.csv\n",
      "Processed and saved: Tymlog2.csv\n",
      "Processed and saved: Tymlog3.csv\n"
     ]
    }
   ],
   "source": [
    "from sklearn.preprocessing import RobustScaler\n",
    "input_folder = \"ourdata_prepared\"\n",
    "output_folder = \"ourdata_scaled\"\n",
    "# Ensure the output directory exists\n",
    "os.makedirs(output_folder, exist_ok=True)\n",
    "for filename in os.listdir(input_folder):\n",
    "    if filename.endswith(\".csv\"):  # Check only CSV files\n",
    "        filepath = os.path.join(input_folder, filename)\n",
    "        df = pd.read_csv(filepath)\n",
    "\n",
    "        # Apply Robust Scaling\n",
    "        scaler = RobustScaler()\n",
    "        df_scaled = scaler.fit_transform(df)\n",
    "        df_scaled = pd.DataFrame(df_scaled, columns=df.columns)\n",
    "        \n",
    "        output_filepath = os.path.join(output_folder, filename)\n",
    "        df_scaled.to_csv(output_filepath, index=False)\n",
    "        print(f\"Processed and saved: {filename}\")      "
   ]
  },
  {
   "cell_type": "code",
   "execution_count": 6,
   "metadata": {},
   "outputs": [
    {
     "data": {
      "text/html": [
       "<div>\n",
       "<style scoped>\n",
       "    .dataframe tbody tr th:only-of-type {\n",
       "        vertical-align: middle;\n",
       "    }\n",
       "\n",
       "    .dataframe tbody tr th {\n",
       "        vertical-align: top;\n",
       "    }\n",
       "\n",
       "    .dataframe thead th {\n",
       "        text-align: right;\n",
       "    }\n",
       "</style>\n",
       "<table border=\"1\" class=\"dataframe\">\n",
       "  <thead>\n",
       "    <tr style=\"text-align: right;\">\n",
       "      <th></th>\n",
       "      <th>AF3</th>\n",
       "      <th>F7</th>\n",
       "      <th>F3</th>\n",
       "      <th>FC5</th>\n",
       "      <th>T7</th>\n",
       "      <th>P7</th>\n",
       "      <th>O1</th>\n",
       "      <th>O2</th>\n",
       "      <th>P8</th>\n",
       "      <th>T8</th>\n",
       "      <th>FC6</th>\n",
       "      <th>F4</th>\n",
       "      <th>F8</th>\n",
       "      <th>AF4</th>\n",
       "    </tr>\n",
       "  </thead>\n",
       "  <tbody>\n",
       "    <tr>\n",
       "      <th>0</th>\n",
       "      <td>-0.680217</td>\n",
       "      <td>-0.247278</td>\n",
       "      <td>-1.194151</td>\n",
       "      <td>-0.206928</td>\n",
       "      <td>-0.323513</td>\n",
       "      <td>-1.090893</td>\n",
       "      <td>0.044844</td>\n",
       "      <td>-0.391290</td>\n",
       "      <td>0.391290</td>\n",
       "      <td>0.407475</td>\n",
       "      <td>-0.846396</td>\n",
       "      <td>-0.394776</td>\n",
       "      <td>-0.533710</td>\n",
       "      <td>-0.368726</td>\n",
       "    </tr>\n",
       "    <tr>\n",
       "      <th>1</th>\n",
       "      <td>-0.607901</td>\n",
       "      <td>-0.326989</td>\n",
       "      <td>-1.110648</td>\n",
       "      <td>-0.226733</td>\n",
       "      <td>-0.470595</td>\n",
       "      <td>-1.227320</td>\n",
       "      <td>0.314591</td>\n",
       "      <td>-0.391290</td>\n",
       "      <td>0.260970</td>\n",
       "      <td>1.185049</td>\n",
       "      <td>-0.591461</td>\n",
       "      <td>-0.265255</td>\n",
       "      <td>-0.453481</td>\n",
       "      <td>-0.404328</td>\n",
       "    </tr>\n",
       "    <tr>\n",
       "      <th>2</th>\n",
       "      <td>-0.802246</td>\n",
       "      <td>-0.345107</td>\n",
       "      <td>-1.269305</td>\n",
       "      <td>-0.193074</td>\n",
       "      <td>-0.529405</td>\n",
       "      <td>0.545533</td>\n",
       "      <td>0.224561</td>\n",
       "      <td>0.434675</td>\n",
       "      <td>-0.913065</td>\n",
       "      <td>0.407475</td>\n",
       "      <td>-0.792858</td>\n",
       "      <td>-0.349936</td>\n",
       "      <td>-0.520334</td>\n",
       "      <td>-0.465353</td>\n",
       "    </tr>\n",
       "    <tr>\n",
       "      <th>3</th>\n",
       "      <td>-1.123148</td>\n",
       "      <td>-0.341485</td>\n",
       "      <td>-1.423796</td>\n",
       "      <td>-0.123765</td>\n",
       "      <td>0.264703</td>\n",
       "      <td>1.045533</td>\n",
       "      <td>0.808900</td>\n",
       "      <td>1.347740</td>\n",
       "      <td>0.217420</td>\n",
       "      <td>-0.222144</td>\n",
       "      <td>-1.086039</td>\n",
       "      <td>-0.603988</td>\n",
       "      <td>-0.660728</td>\n",
       "      <td>-0.620477</td>\n",
       "    </tr>\n",
       "    <tr>\n",
       "      <th>4</th>\n",
       "      <td>-1.145750</td>\n",
       "      <td>-0.397641</td>\n",
       "      <td>-1.519830</td>\n",
       "      <td>-0.141586</td>\n",
       "      <td>0.176543</td>\n",
       "      <td>-0.863747</td>\n",
       "      <td>-0.404450</td>\n",
       "      <td>0.086935</td>\n",
       "      <td>0.565160</td>\n",
       "      <td>0.851763</td>\n",
       "      <td>-0.978971</td>\n",
       "      <td>-0.696144</td>\n",
       "      <td>-0.669640</td>\n",
       "      <td>-0.727283</td>\n",
       "    </tr>\n",
       "  </tbody>\n",
       "</table>\n",
       "</div>"
      ],
      "text/plain": [
       "        AF3        F7        F3       FC5        T7        P7        O1  \\\n",
       "0 -0.680217 -0.247278 -1.194151 -0.206928 -0.323513 -1.090893  0.044844   \n",
       "1 -0.607901 -0.326989 -1.110648 -0.226733 -0.470595 -1.227320  0.314591   \n",
       "2 -0.802246 -0.345107 -1.269305 -0.193074 -0.529405  0.545533  0.224561   \n",
       "3 -1.123148 -0.341485 -1.423796 -0.123765  0.264703  1.045533  0.808900   \n",
       "4 -1.145750 -0.397641 -1.519830 -0.141586  0.176543 -0.863747 -0.404450   \n",
       "\n",
       "         O2        P8        T8       FC6        F4        F8       AF4  \n",
       "0 -0.391290  0.391290  0.407475 -0.846396 -0.394776 -0.533710 -0.368726  \n",
       "1 -0.391290  0.260970  1.185049 -0.591461 -0.265255 -0.453481 -0.404328  \n",
       "2  0.434675 -0.913065  0.407475 -0.792858 -0.349936 -0.520334 -0.465353  \n",
       "3  1.347740  0.217420 -0.222144 -1.086039 -0.603988 -0.660728 -0.620477  \n",
       "4  0.086935  0.565160  0.851763 -0.978971 -0.696144 -0.669640 -0.727283  "
      ]
     },
     "execution_count": 6,
     "metadata": {},
     "output_type": "execute_result"
    }
   ],
   "source": [
    "df = pd.read_csv(\"ourdata_scaled/Art1.csv\")\n",
    "df.head()"
   ]
  },
  {
   "cell_type": "code",
   "execution_count": 7,
   "metadata": {},
   "outputs": [
    {
     "data": {
      "image/png": "[encoded data removed]",
      "text/plain": [
       "<Figure size 1200x600 with 2 Axes>"
      ]
     },
     "metadata": {},
     "output_type": "display_data"
    }
   ],
   "source": [
    "# Plot histograms for a sample column before and after scaling\n",
    "column_original = df.iloc[:, 0]\n",
    "column_scaled = df_scaled.iloc[:, 0]\n",
    "\n",
    "plt.figure(figsize=(12, 6))\n",
    "plt.subplot(1, 2, 1)\n",
    "plt.hist(column_original, bins=30, alpha=0.7, color='blue', label='Original')\n",
    "plt.title(\"Original Data Distribution\")\n",
    "plt.xlabel(\"Value\")\n",
    "plt.ylabel(\"Frequency\")\n",
    "plt.legend()\n",
    "\n",
    "plt.subplot(1, 2, 2)\n",
    "plt.hist(column_scaled, bins=30, alpha=0.7, color='green', label='Scaled')\n",
    "plt.title(\"Robust Scaled Data Distribution\")\n",
    "plt.xlabel(\"Value\")\n",
    "plt.ylabel(\"Frequency\")\n",
    "plt.legend()\n",
    "\n",
    "plt.tight_layout()\n",
    "plt.show()"
   ]
  },
  {
   "cell_type": "markdown",
   "metadata": {},
   "source": [
    "Jak widać na wykresie zmieniła się zarówno dystrybucja danych, jak i same wartości zostały odpowiednio przeskalowane"
   ]
  },
  {
   "cell_type": "code",
   "execution_count": 8,
   "metadata": {},
   "outputs": [
    {
     "data": {
      "text/html": [
       "<div>\n",
       "<style scoped>\n",
       "    .dataframe tbody tr th:only-of-type {\n",
       "        vertical-align: middle;\n",
       "    }\n",
       "\n",
       "    .dataframe tbody tr th {\n",
       "        vertical-align: top;\n",
       "    }\n",
       "\n",
       "    .dataframe thead th {\n",
       "        text-align: right;\n",
       "    }\n",
       "</style>\n",
       "<table border=\"1\" class=\"dataframe\">\n",
       "  <thead>\n",
       "    <tr style=\"text-align: right;\">\n",
       "      <th></th>\n",
       "      <th>AF3</th>\n",
       "      <th>F7</th>\n",
       "      <th>F3</th>\n",
       "      <th>FC5</th>\n",
       "      <th>T7</th>\n",
       "      <th>P7</th>\n",
       "      <th>O1</th>\n",
       "      <th>O2</th>\n",
       "      <th>P8</th>\n",
       "      <th>T8</th>\n",
       "      <th>FC6</th>\n",
       "      <th>F4</th>\n",
       "      <th>F8</th>\n",
       "      <th>AF4</th>\n",
       "    </tr>\n",
       "  </thead>\n",
       "  <tbody>\n",
       "    <tr>\n",
       "      <th>0</th>\n",
       "      <td>-0.514754</td>\n",
       "      <td>0.012160</td>\n",
       "      <td>-1.821489</td>\n",
       "      <td>-0.187530</td>\n",
       "      <td>0.095221</td>\n",
       "      <td>-0.439976</td>\n",
       "      <td>1.214227</td>\n",
       "      <td>1.639756</td>\n",
       "      <td>1.388619</td>\n",
       "      <td>-0.968817</td>\n",
       "      <td>-0.027175</td>\n",
       "      <td>-0.131904</td>\n",
       "      <td>-0.113055</td>\n",
       "      <td>0.001370</td>\n",
       "    </tr>\n",
       "    <tr>\n",
       "      <th>1</th>\n",
       "      <td>-0.499692</td>\n",
       "      <td>0.014595</td>\n",
       "      <td>-1.839777</td>\n",
       "      <td>-0.296142</td>\n",
       "      <td>-0.047610</td>\n",
       "      <td>-0.280012</td>\n",
       "      <td>-0.214363</td>\n",
       "      <td>0.759939</td>\n",
       "      <td>-0.333192</td>\n",
       "      <td>-0.687574</td>\n",
       "      <td>-0.058229</td>\n",
       "      <td>-0.194556</td>\n",
       "      <td>-0.092632</td>\n",
       "      <td>-0.099862</td>\n",
       "    </tr>\n",
       "    <tr>\n",
       "      <th>2</th>\n",
       "      <td>-0.371630</td>\n",
       "      <td>0.087544</td>\n",
       "      <td>-1.832621</td>\n",
       "      <td>-0.279169</td>\n",
       "      <td>0.261903</td>\n",
       "      <td>-0.560024</td>\n",
       "      <td>-0.214363</td>\n",
       "      <td>1.039756</td>\n",
       "      <td>-1.221917</td>\n",
       "      <td>-0.593787</td>\n",
       "      <td>-0.073759</td>\n",
       "      <td>-0.224233</td>\n",
       "      <td>-0.010942</td>\n",
       "      <td>0.036934</td>\n",
       "    </tr>\n",
       "    <tr>\n",
       "      <th>3</th>\n",
       "      <td>-0.323918</td>\n",
       "      <td>0.087544</td>\n",
       "      <td>-1.821091</td>\n",
       "      <td>-0.280869</td>\n",
       "      <td>0.190532</td>\n",
       "      <td>-1.519957</td>\n",
       "      <td>-1.500000</td>\n",
       "      <td>-0.520030</td>\n",
       "      <td>-0.666596</td>\n",
       "      <td>-0.937515</td>\n",
       "      <td>-0.002330</td>\n",
       "      <td>-0.156633</td>\n",
       "      <td>0.091176</td>\n",
       "      <td>0.190153</td>\n",
       "    </tr>\n",
       "    <tr>\n",
       "      <th>4</th>\n",
       "      <td>-0.399248</td>\n",
       "      <td>0.017022</td>\n",
       "      <td>-1.817911</td>\n",
       "      <td>-0.291049</td>\n",
       "      <td>0.428584</td>\n",
       "      <td>-0.560024</td>\n",
       "      <td>-1.071409</td>\n",
       "      <td>-0.919878</td>\n",
       "      <td>0.222128</td>\n",
       "      <td>0.218757</td>\n",
       "      <td>0.000775</td>\n",
       "      <td>-0.097278</td>\n",
       "      <td>0.110139</td>\n",
       "      <td>0.119015</td>\n",
       "    </tr>\n",
       "  </tbody>\n",
       "</table>\n",
       "</div>"
      ],
      "text/plain": [
       "        AF3        F7        F3       FC5        T7        P7        O1  \\\n",
       "0 -0.514754  0.012160 -1.821489 -0.187530  0.095221 -0.439976  1.214227   \n",
       "1 -0.499692  0.014595 -1.839777 -0.296142 -0.047610 -0.280012 -0.214363   \n",
       "2 -0.371630  0.087544 -1.832621 -0.279169  0.261903 -0.560024 -0.214363   \n",
       "3 -0.323918  0.087544 -1.821091 -0.280869  0.190532 -1.519957 -1.500000   \n",
       "4 -0.399248  0.017022 -1.817911 -0.291049  0.428584 -0.560024 -1.071409   \n",
       "\n",
       "         O2        P8        T8       FC6        F4        F8       AF4  \n",
       "0  1.639756  1.388619 -0.968817 -0.027175 -0.131904 -0.113055  0.001370  \n",
       "1  0.759939 -0.333192 -0.687574 -0.058229 -0.194556 -0.092632 -0.099862  \n",
       "2  1.039756 -1.221917 -0.593787 -0.073759 -0.224233 -0.010942  0.036934  \n",
       "3 -0.520030 -0.666596 -0.937515 -0.002330 -0.156633  0.091176  0.190153  \n",
       "4 -0.919878  0.222128  0.218757  0.000775 -0.097278  0.110139  0.119015  "
      ]
     },
     "execution_count": 8,
     "metadata": {},
     "output_type": "execute_result"
    }
   ],
   "source": [
    "df_scaled.head()"
   ]
  },
  {
   "cell_type": "markdown",
   "metadata": {},
   "source": [
    "Here’s how the class is structured:\n",
    "\n",
    "Feature Extractor:\n",
    "\n",
    "A CNN extracts spatial features from EEG channels.\n",
    "An RNN processes sequential (temporal) features for variable-length input.\n",
    "Similarity Metric:\n",
    "\n",
    "The outputs from the feature extractors for both inputs are compared using a distance metric (e.g., Euclidean or cosine similarity)."
   ]
  },
  {
   "cell_type": "code",
   "execution_count": 9,
   "metadata": {},
   "outputs": [],
   "source": [
    "class SiameseEEGNet(nn.Module):\n",
    "    def __init__(self, input_channels, window_length):\n",
    "        super(SiameseEEGNet, self).__init__()\n",
    "\n",
    "        self.feature_extractor = nn.Sequential(\n",
    "            nn.Conv1d(input_channels, 32, kernel_size=5, stride=1, padding=2),  # Convolution layer\n",
    "            nn.ReLU(),\n",
    "            nn.MaxPool1d(kernel_size=2),  # Downsample by 2\n",
    "            nn.Conv1d(32, 64, kernel_size=5, stride=1, padding=2),\n",
    "            nn.ReLU(),\n",
    "            nn.MaxPool1d(kernel_size=2),\n",
    "            nn.Conv1d(64, 128, kernel_size=5, stride=1, padding=2),\n",
    "            nn.ReLU(),\n",
    "        )\n",
    "\n",
    "        # Manually calculate the flattened size after convolution and pooling\n",
    "        # Assuming input length is window_length, and we're downsampling by 2 twice (via MaxPool1d)\n",
    "        self.flattened_size = window_length // 2 // 2 * 128  # Output size of the feature extractor\n",
    "        self.fc = nn.Sequential(\n",
    "            nn.Linear(self.flattened_size, 64),\n",
    "            nn.ReLU(),\n",
    "            nn.Linear(64, 32)\n",
    "        )\n",
    "\n",
    "    def forward_one_branch(self, x):\n",
    "        \"\"\"\n",
    "        Forward pass for one branch of the Siamese network.\n",
    "        \"\"\"\n",
    "        features = self.feature_extractor(x)\n",
    "        features = features.view(features.size(0), -1)  # Flatten for fully connected layer\n",
    "        embedding = self.fc(features)  # Generate embedding\n",
    "        return embedding\n",
    "\n",
    "    def forward(self, x1, x2):\n",
    "        \"\"\"\n",
    "        Forward pass for the Siamese network.\n",
    "        \"\"\"\n",
    "        embedding1 = self.forward_one_branch(x1)\n",
    "        embedding2 = self.forward_one_branch(x2)\n",
    "        return embedding1, embedding2\n"
   ]
  },
  {
   "cell_type": "code",
   "execution_count": 10,
   "metadata": {},
   "outputs": [
    {
     "name": "stdout",
     "output_type": "stream",
     "text": [
      "Embedding 1 shape: torch.Size([1, 32])\n",
      "Embedding 2 shape: torch.Size([1, 32])\n"
     ]
    }
   ],
   "source": [
    "# Set your input tensor dimensions (e.g., batch_size = 1, channels = 14, window_length = 384)\n",
    "batch_size = 1\n",
    "input_channels = 14\n",
    "window_length = 384\n",
    "\n",
    "# Create random input tensors for both branches (x1, x2)\n",
    "x1 = torch.randn(batch_size, input_channels, window_length)\n",
    "x2 = torch.randn(batch_size, input_channels, window_length)\n",
    "\n",
    "# Instantiate the model\n",
    "model = SiameseEEGNet(input_channels=input_channels, window_length=window_length)\n",
    "\n",
    "# Forward pass\n",
    "embedding1, embedding2 = model(x1, x2)\n",
    "\n",
    "# Check the output shapes\n",
    "print(f\"Embedding 1 shape: {embedding1.shape}\")\n",
    "print(f\"Embedding 2 shape: {embedding2.shape}\")\n"
   ]
  },
  {
   "cell_type": "markdown",
   "metadata": {},
   "source": [
    "enhanced version"
   ]
  },
  {
   "cell_type": "code",
   "execution_count": 11,
   "metadata": {},
   "outputs": [],
   "source": [
    "class ResidualBlock(nn.Module):\n",
    "    def __init__(self, in_channels, out_channels):\n",
    "        super(ResidualBlock, self).__init__()\n",
    "        # Convolutional layer followed by batch normalization and ReLU\n",
    "        self.conv1 = nn.Conv1d(in_channels, out_channels, kernel_size=3, padding=1)\n",
    "        self.bn1 = nn.BatchNorm1d(out_channels)\n",
    "        self.relu = nn.ReLU(inplace=True)\n",
    "        # Second convolutional layer followed by batch normalization\n",
    "        self.conv2 = nn.Conv1d(out_channels, out_channels, kernel_size=3, padding=1)\n",
    "        self.bn2 = nn.BatchNorm1d(out_channels)\n",
    "        \n",
    "        # Skip connection (residual connection)\n",
    "        self.skip_connection = nn.Conv1d(in_channels, out_channels, kernel_size=1)\n",
    "    \n",
    "    def forward(self, x):\n",
    "        # Apply the first convolution, batch normalization, and ReLU\n",
    "        out = self.relu(self.bn1(self.conv1(x)))\n",
    "        # Apply the second convolution and batch normalization\n",
    "        out = self.bn2(self.conv2(out))\n",
    "        # Add the skip connection\n",
    "        skip = self.skip_connection(x)\n",
    "        # Return the sum of the output and skip connection (residual)\n",
    "        return self.relu(out + skip)\n",
    "    \n",
    "class SiameseEEGNet2(nn.Module):\n",
    "    def __init__(self, input_channels, window_length):\n",
    "        super(SiameseEEGNet2, self).__init__()\n",
    "        \n",
    "        # Residual blocks for each branch\n",
    "        self.res_block1 = ResidualBlock(input_channels, 32)\n",
    "        self.res_block2 = ResidualBlock(32, 64)\n",
    "        self.res_block3 = ResidualBlock(64, 128)\n",
    "        \n",
    "        # Global average pooling layer\n",
    "        self.pool = nn.AdaptiveAvgPool1d(1)\n",
    "        \n",
    "        # Fully connected layer\n",
    "        self.fc = nn.Sequential(\n",
    "            nn.Flatten(),  # Flatten the pooled output\n",
    "            nn.Linear(128, 32)  # Fully connected layer\n",
    "        )\n",
    "\n",
    "    def forward_one_branch(self, x):\n",
    "        # Pass input through the residual blocks\n",
    "        x = self.res_block1(x)\n",
    "        x = self.res_block2(x)\n",
    "        x = self.res_block3(x)\n",
    "        \n",
    "        # Apply global average pooling to reduce temporal dimension\n",
    "        x = self.pool(x)  # Shape: [batch_size, 128, 1]\n",
    "        \n",
    "        # Flatten the output and pass through the fully connected layer\n",
    "        x = x.view(x.size(0), -1)  # Flatten the tensor to [batch_size, 128]\n",
    "        x = self.fc(x)  # Fully connected layer to output size [batch_size, 32]\n",
    "        return x\n",
    "\n",
    "    def forward(self, input1, input2):\n",
    "        # Forward pass through each branch\n",
    "        output1 = self.forward_one_branch(input1)\n",
    "        output2 = self.forward_one_branch(input2)\n",
    "        \n",
    "        # Return the outputs of both branches\n",
    "        return output1, output2"
   ]
  },
  {
   "cell_type": "code",
   "execution_count": 12,
   "metadata": {},
   "outputs": [
    {
     "name": "stdout",
     "output_type": "stream",
     "text": [
      "Model Summary for SiameseEEGNet2:\n",
      "==================================================\n",
      "ResidualBlock             | Input Shape: torch.Size([1, 14, 384])  | Output Shape: torch.Size([1, 32, 384]) \n",
      "ResidualBlock             | Input Shape: torch.Size([1, 32, 384])  | Output Shape: torch.Size([1, 64, 384]) \n",
      "ResidualBlock             | Input Shape: torch.Size([1, 64, 384])  | Output Shape: torch.Size([1, 128, 384])\n",
      "AdaptiveAvgPool1d         | Input Shape: torch.Size([1, 128, 384]) | Output Shape: torch.Size([1, 128, 1])  \n",
      "Sequential                | Input Shape: torch.Size([1, 128, 1])   | Output Shape: torch.Size([1, 32])      \n",
      "==================================================\n",
      "Total Parameters: 112960\n",
      "==================================================\n"
     ]
    }
   ],
   "source": [
    "def custom_summary(model, input_tensor):\n",
    "    \"\"\"\n",
    "    Custom function to summarize the model architecture, including the shapes of layers and number of parameters.\n",
    "    \"\"\"\n",
    "    def count_parameters(model):\n",
    "        \"\"\"Count the number of parameters in the model.\"\"\"\n",
    "        return sum(p.numel() for p in model.parameters() if p.requires_grad)\n",
    "\n",
    "    def print_shape_info(layer, input_tensor):\n",
    "        \"\"\"Helper function to print the shape of each layer output.\"\"\"\n",
    "        output = layer(input_tensor)\n",
    "        print(f\"{layer.__class__.__name__.ljust(25)} | \"\n",
    "              f\"Input Shape: {str(input_tensor.shape).ljust(25)} | \"\n",
    "              f\"Output Shape: {str(output.shape).ljust(25)}\")\n",
    "\n",
    "    print(f\"Model Summary for {model.__class__.__name__}:\")\n",
    "    print(\"=\" * 50)\n",
    "    \n",
    "    # Print the architecture summary for each layer\n",
    "    for name, layer in model.named_children():\n",
    "        print_shape_info(layer, input_tensor)\n",
    "        input_tensor = layer(input_tensor)  # Pass through the layer to get the new input tensor\n",
    "\n",
    "    # Print the total number of parameters\n",
    "    num_params = count_parameters(model)\n",
    "    print(\"=\" * 50)\n",
    "    print(f\"Total Parameters: {num_params}\")\n",
    "    print(\"=\" * 50)\n",
    "\n",
    "# Example usage\n",
    "x1 = torch.randn(1, 14, 384)  # Example input shape\n",
    "model = SiameseEEGNet2(input_channels=14, window_length=384)\n",
    "custom_summary(model, x1)\n"
   ]
  },
  {
   "cell_type": "markdown",
   "metadata": {},
   "source": [
    "Model3"
   ]
  },
  {
   "cell_type": "code",
   "execution_count": 13,
   "metadata": {},
   "outputs": [],
   "source": [
    "class ResidualBlock2(nn.Module):\n",
    "    def __init__(self, in_channels, out_channels):\n",
    "        super(ResidualBlock2, self).__init__()\n",
    "        self.conv1 = nn.Conv1d(in_channels, out_channels, kernel_size=3, padding=1)\n",
    "        self.bn1 = nn.BatchNorm1d(out_channels)\n",
    "        self.relu = nn.ReLU(inplace=True)\n",
    "        self.conv2 = nn.Conv1d(out_channels, out_channels, kernel_size=3, padding=1)\n",
    "        self.bn2 = nn.BatchNorm1d(out_channels)\n",
    "        self.skip_connection = nn.Conv1d(in_channels, out_channels, kernel_size=1)\n",
    "\n",
    "    def forward(self, x):\n",
    "        out = self.relu(self.bn1(self.conv1(x)))  # First convolution and ReLU\n",
    "        out = self.bn2(self.conv2(out))  # Second convolution\n",
    "        skip = self.skip_connection(x)  # Skip connection\n",
    "        return self.relu(out + skip)  # Output with residual connection\n",
    "\n",
    "class SiameseEEGNetWithResidualAndLSTM(nn.Module):\n",
    "    def __init__(self, input_channels, window_length, lstm_hidden_size=16, feature_dim=128):\n",
    "        super(SiameseEEGNetWithResidualAndLSTM, self).__init__()\n",
    "\n",
    "        # Residual blocks for feature extraction\n",
    "        self.res_block1 = ResidualBlock2(input_channels, 32)\n",
    "        self.res_block2 = ResidualBlock2(32, 64)\n",
    "        self.res_block3 = ResidualBlock2(64, 128)\n",
    "\n",
    "        # LSTM layer to process sequential features\n",
    "        self.lstm = nn.LSTM(input_size=128, hidden_size=lstm_hidden_size, batch_first=True)\n",
    "\n",
    "        # Fully connected layer to output feature vector\n",
    "        self.fc = nn.Linear(lstm_hidden_size, feature_dim)\n",
    "\n",
    "    def forward_one_branch(self, x):\n",
    "        # Pass through residual blocks\n",
    "        x = self.res_block1(x)\n",
    "        x = self.res_block2(x)\n",
    "        x = self.res_block3(x)\n",
    "\n",
    "        # Prepare for LSTM by transposing the shape (batch_size, seq_len, input_size)\n",
    "        x = x.transpose(1, 2)  # Shape becomes (batch_size, seq_len, input_size)\n",
    "\n",
    "        # Pass through LSTM layer\n",
    "        lstm_out, _ = self.lstm(x)\n",
    "\n",
    "        # Use the output of the last time step (or use mean, depending on your design)\n",
    "        x = lstm_out[:, -1, :]  # Last time step output\n",
    "\n",
    "        # Fully connected layer to produce feature vector\n",
    "        x = self.fc(x)\n",
    "        return x\n",
    "\n",
    "    def forward(self, input1, input2):\n",
    "        # Forward pass through both branches\n",
    "        output1 = self.forward_one_branch(input1)\n",
    "        output2 = self.forward_one_branch(input2)\n",
    "        \n",
    "        return output1, output2\n"
   ]
  },
  {
   "cell_type": "code",
   "execution_count": 14,
   "metadata": {},
   "outputs": [
    {
     "name": "stdout",
     "output_type": "stream",
     "text": [
      "Model Summary for SiameseEEGNetWithResidualAndLSTM:\n",
      "==================================================\n",
      "Layer: res_block1\n",
      "ResidualBlock2            | Input Shape: torch.Size([1, 14, 384])  | Output Shape: torch.Size([1, 32, 384]) \n",
      "Layer: res_block2\n",
      "ResidualBlock2            | Input Shape: torch.Size([1, 32, 384])  | Output Shape: torch.Size([1, 64, 384]) \n",
      "Layer: res_block3\n",
      "ResidualBlock2            | Input Shape: torch.Size([1, 64, 384])  | Output Shape: torch.Size([1, 128, 384])\n",
      "Layer: lstm\n",
      "LSTM                      | Input Shape: torch.Size([1, 384, 128]) | Output Shape: torch.Size([1, 384, 16]) \n",
      "Layer: fc\n",
      "Linear                    | Input Shape: torch.Size([1, 384, 16])  | Output Shape: torch.Size([1, 384, 128])\n",
      "==================================================\n",
      "Total Parameters: 120352\n",
      "==================================================\n"
     ]
    }
   ],
   "source": [
    "def custom_summary(model, input_tensor):\n",
    "    \"\"\"\n",
    "    Custom function to summarize the model architecture, including the shapes of layers and number of parameters.\n",
    "    \"\"\"\n",
    "    def count_parameters(model):\n",
    "        \"\"\"Count the number of parameters in the model.\"\"\"\n",
    "        return sum(p.numel() for p in model.parameters() if p.requires_grad)\n",
    "\n",
    "    def print_shape_info(layer, input_tensor):\n",
    "        \"\"\"Helper function to print the shape of each layer output.\"\"\"\n",
    "        # Handle special case for LSTM (requires transposition before forward)\n",
    "        if isinstance(layer, nn.LSTM):\n",
    "            # Transpose the input for LSTM (it expects input of shape [batch_size, seq_len, input_size])\n",
    "            input_tensor = input_tensor.transpose(1, 2)\n",
    "        \n",
    "        try:\n",
    "            output = layer(input_tensor)\n",
    "            \n",
    "            # If the output is a tuple (as in the case of LSTM), extract the first element\n",
    "            if isinstance(output, tuple):\n",
    "                output = output[0]\n",
    "            \n",
    "            print(f\"{layer.__class__.__name__.ljust(25)} | \"\n",
    "                  f\"Input Shape: {str(input_tensor.shape).ljust(25)} | \"\n",
    "                  f\"Output Shape: {str(output.shape).ljust(25)}\")\n",
    "        except Exception as e:\n",
    "            print(f\"{layer.__class__.__name__.ljust(25)} | \"\n",
    "                  f\"Error: {str(e)}\")\n",
    "\n",
    "        # Return the output shape\n",
    "        return output\n",
    "\n",
    "    print(f\"Model Summary for {model.__class__.__name__}:\")\n",
    "    print(\"=\" * 50)\n",
    "    \n",
    "    # Print the architecture summary for each layer\n",
    "    for name, layer in model.named_children():\n",
    "        print(f\"Layer: {name}\")\n",
    "        input_tensor = print_shape_info(layer, input_tensor)\n",
    "    \n",
    "    # Print the total number of parameters\n",
    "    num_params = count_parameters(model)\n",
    "    print(\"=\" * 50)\n",
    "    print(f\"Total Parameters: {num_params}\")\n",
    "    print(\"=\" * 50)\n",
    "\n",
    "# Example usage\n",
    "input_tensor1 = torch.randn(1, 14, 384)  # First input tensor\n",
    "model = SiameseEEGNetWithResidualAndLSTM(input_channels=14, window_length=384, feature_dim=128)\n",
    "\n",
    "# Print the summary for the model\n",
    "custom_summary(model, input_tensor1)\n"
   ]
  },
  {
   "cell_type": "code",
   "execution_count": 15,
   "metadata": {},
   "outputs": [
    {
     "name": "stdout",
     "output_type": "stream",
     "text": [
      "torch.Size([1, 128])\n",
      "torch.Size([1, 128])\n"
     ]
    }
   ],
   "source": [
    "# Example input tensors\n",
    "input_tensor1 = torch.randn(1, 14, 384)  # First input tensor\n",
    "input_tensor2 = torch.randn(1, 14, 384)  # Second input tensor\n",
    "\n",
    "# Initialize the model\n",
    "model = SiameseEEGNetWithResidualAndLSTM(input_channels=14, window_length=384, feature_dim=128)\n",
    "\n",
    "# Forward pass through the model\n",
    "output1, output2 = model(input_tensor1, input_tensor2)\n",
    "\n",
    "# Print the output shapes (feature vectors)\n",
    "print(output1.shape)  # Should be [1, 128]\n",
    "print(output2.shape)  # Should be [1, 128]\n"
   ]
  },
  {
   "cell_type": "markdown",
   "metadata": {},
   "source": [
    "Taki model uczymy w specyficzny sposób: Dostarczamy danych treningowych od osoby właściwej, a także dane niewłaściwe od innych oraz udające osobę właściwą inne osoby."
   ]
  },
  {
   "cell_type": "markdown",
   "metadata": {},
   "source": [
    "Loss function for this network"
   ]
  },
  {
   "cell_type": "code",
   "execution_count": 16,
   "metadata": {},
   "outputs": [],
   "source": [
    "class ContrastiveLoss(nn.Module):\n",
    "    def __init__(self, margin=1.0):\n",
    "        super(ContrastiveLoss, self).__init__()\n",
    "        self.margin = margin\n",
    "\n",
    "    def forward(self, embedding1, embedding2, label):\n",
    "        \"\"\"\n",
    "        Contrastive Loss\n",
    "        :param embedding1: Embedding from branch 1\n",
    "        :param embedding2: Embedding from branch 2\n",
    "        :param label: 1 if same class, 0 if different class\n",
    "        :return: Loss value\n",
    "        \"\"\"\n",
    "        euclidean_distance = F.pairwise_distance(embedding1, embedding2)\n",
    "        loss = label * torch.pow(euclidean_distance, 2) + \\\n",
    "               (1 - label) * torch.pow(torch.clamp(self.margin - euclidean_distance, min=0.0), 2)\n",
    "        return loss.mean()"
   ]
  },
  {
   "cell_type": "markdown",
   "metadata": {},
   "source": [
    "Key Loss Function: Contrastive Loss\n",
    "The contrastive loss is widely used in Siamese networks. It ensures that:\n",
    "\n",
    "The embeddings of similar pairs are closer in the embedding space.\n",
    "The embeddings of dissimilar pairs are farther apart, with a margin to encourage separation.\n",
    "\n",
    "Initialization:\n",
    "\n",
    "At the start, embeddings are randomly distributed in the feature space.\n",
    "\n",
    "Forward Pass:\n",
    "\n",
    "For a given pair of inputs, the network computes embeddings\n",
    "\n",
    "𝑒1 and 𝑒2.\n",
    "\n",
    "The Euclidean distance  𝐷 is calculated.\n",
    "The contrastive loss measures how well the embeddings reflect the similarity/dissimilarity of the pair.\n",
    "\n",
    "Backward Pass:\n",
    "\n",
    "Gradients of the loss with respect to the network parameters are computed.\n",
    "For similar pairs (𝑦=1):\n",
    "The network adjusts weights to reduce 𝐷.\n",
    "For dissimilar pairs (y=0):\n",
    "\n",
    "If\n",
    "\n",
    "𝐷 < 𝑚, the network adjusts weights to increase 𝐷.\n",
    "\n",
    "If\n",
    "\n",
    "𝐷 > 𝑚, no gradient is propagated for dissimilar pairs.\n",
    "\n",
    "Optimization:\n",
    "\n",
    "Using an optimizer like Adam or SGD, the network updates weights to minimize the contrastive loss."
   ]
  },
  {
   "cell_type": "markdown",
   "metadata": {},
   "source": [
    "Embedding Separation:\n",
    "\n",
    "The network learns to position embeddings of similar inputs closer and dissimilar inputs farther apart.\n",
    "The embedding space becomes more structured, with distinct clusters for each class.\n",
    "Improved Pairwise Distinction:\n",
    "\n",
    "The Euclidean distance \n",
    "𝐷\n",
    " becomes a reliable metric for class similarity.\n",
    "Smaller \n",
    "𝐷\n",
    " for similar pairs, and larger \n",
    "𝐷\n",
    " for dissimilar pairs.\n",
    "Margin Enforcement:\n",
    "\n",
    "For dissimilar pairs, the network ensures embeddings are separated by at least the margin \n",
    "𝑚.\n",
    "Generalization:\n",
    "\n",
    "With sufficient data and training, the network generalizes to unseen pairs, correctly predicting similarity or dissimilarity."
   ]
  },
  {
   "cell_type": "markdown",
   "metadata": {},
   "source": [
    "STARY MODEL:"
   ]
  },
  {
   "cell_type": "markdown",
   "metadata": {},
   "source": [
    "class EnhancedAutoencoder(nn.Module):\n",
    "    def __init__(self, in_channels):\n",
    "        super(EnhancedAutoencoder, self).__init__()\n",
    "        \n",
    "        # Encoder\n",
    "        self.encoder = nn.Sequential(\n",
    "            nn.Conv2d(in_channels, 32, kernel_size=(1, 5), padding=(0, 2)),  # (N, 32, T, C)\n",
    "            nn.ReLU(),\n",
    "            nn.MaxPool2d((1, 2)),  # Downsample time dimension (N, 32, T/2, C)\n",
    "            nn.Conv2d(32, 64, kernel_size=(1, 5), padding=(0, 2)),  # (N, 64, T/2, C)\n",
    "            nn.ReLU(),\n",
    "            nn.MaxPool2d((1, 2)),  # Downsample time dimension further (N, 64, T/4, C)\n",
    "            nn.Conv2d(64, 128, kernel_size=(1, 5), padding=(0, 2)),  # (N, 128, T/4, C)\n",
    "            nn.ReLU(),\n",
    "            nn.MaxPool2d((1, 2)),  # Downsample time dimension further (N, 128, T/8, C)\n",
    "        )\n",
    "        \n",
    "        # Bottleneck (latent space)\n",
    "        self.bottleneck = nn.Conv2d(128, 256, kernel_size=(1, 5), padding=(0, 2))  # (N, 256, T/8, C)\n",
    "        \n",
    "        # Decoder\n",
    "        self.decoder = nn.Sequential(\n",
    "            nn.ConvTranspose2d(256, 128, kernel_size=(1, 5), padding=(0, 2)),  # (N, 128, T/4, C)\n",
    "            nn.ReLU(),\n",
    "            nn.Upsample(scale_factor=(1, 2), mode='nearest'),\n",
    "            nn.ConvTranspose2d(128, 64, kernel_size=(1, 5), padding=(0, 2)),  # (N, 64, T/2, C)\n",
    "            nn.ReLU(),\n",
    "            nn.Upsample(scale_factor=(1, 2), mode='nearest'),\n",
    "            nn.ConvTranspose2d(64, 32, kernel_size=(1, 5), padding=(0, 2)),  # (N, 32, T, C)\n",
    "            nn.ReLU(),\n",
    "            nn.Upsample(scale_factor=(1, 2), mode='nearest'),\n",
    "            nn.ConvTranspose2d(32, in_channels, kernel_size=(1, 5), padding=(0, 2)),  # (N, in_channels, T, C)\n",
    "            nn.Tanh()  # Tanh for output in range [-1, 1]\n",
    "        )\n",
    "\n",
    "    def forward(self, x):\n",
    "        x = self.encoder(x)\n",
    "        x = self.bottleneck(x)\n",
    "        x = self.decoder(x)\n",
    "        return x"
   ]
  },
  {
   "cell_type": "markdown",
   "metadata": {},
   "source": [
    "Sorting the data into training and validation datasets and folders"
   ]
  },
  {
   "cell_type": "code",
   "execution_count": 17,
   "metadata": {},
   "outputs": [
    {
     "name": "stdout",
     "output_type": "stream",
     "text": [
      "Skipping Art, data already exists.\n",
      "Skipping Oli, data already exists.\n",
      "Skipping Tym, data already exists.\n"
     ]
    }
   ],
   "source": [
    "import shutil\n",
    "import random\n",
    "\n",
    "def create_datasets(data_folder, output_folder):\n",
    "    # List of people\n",
    "    people = [\"Art\", \"Oli\", \"Tym\"]\n",
    "    \n",
    "    # Create output directories for each person\n",
    "    for person in people:\n",
    "        \n",
    "        # Define paths for one of the key folders to check for existing data\n",
    "        branch1_train_dir = os.path.join(output_folder, f\"{person}_training_branch1\")\n",
    "        \n",
    "        # Check if the folder already exists and contains files\n",
    "        if os.path.exists(branch1_train_dir) and os.listdir(branch1_train_dir):\n",
    "            print(f\"Skipping {person}, data already exists.\")\n",
    "            continue\n",
    "        \n",
    "        # Make directories for training, validation, and testing sets\n",
    "        branch1_train_dir = os.path.join(output_folder, f\"{person}_training_branch1\")\n",
    "        branch2_train_dir = os.path.join(output_folder, f\"{person}_training_branch2\")\n",
    "        branch1_val_dir = os.path.join(output_folder, f\"{person}_validation_branch1\")\n",
    "        branch2_val_dir = os.path.join(output_folder, f\"{person}_validation_branch2\")\n",
    "        branch1_test_dir = os.path.join(output_folder, f\"{person}_testing_branch1\")\n",
    "        branch2_test_dir = os.path.join(output_folder, f\"{person}_testing_branch2\")\n",
    "        branch_random_test_dir = os.path.join(output_folder, f\"{person}_testing_branch_random\")\n",
    "\n",
    "        os.makedirs(branch1_train_dir, exist_ok=True)\n",
    "        os.makedirs(branch2_train_dir, exist_ok=True)\n",
    "        os.makedirs(branch1_val_dir, exist_ok=True)\n",
    "        os.makedirs(branch2_val_dir, exist_ok=True)\n",
    "        os.makedirs(branch1_test_dir, exist_ok=True)\n",
    "        os.makedirs(branch2_test_dir, exist_ok=True)\n",
    "        os.makedirs(branch_random_test_dir, exist_ok=True)\n",
    "\n",
    "        # Get list of all recordings for the person (Art1-Art45, Oli1-Oli45, Tym1-Tym45)\n",
    "        recordings = [f\"{person}{i}\" for i in range(1, 46)]  \n",
    "        \n",
    "        # Create a list of impostor recordings (person trying to impersonate the target person)\n",
    "        impostor_recordings = []\n",
    "        for other_person in people:\n",
    "            if other_person != person:\n",
    "                for i in range(1, 4):\n",
    "                    impostor_recordings.append(f\"{other_person}log-{person}{i}\")\n",
    "        \n",
    "        # Remove non-existent files (such as Olilog-Art2 if it doesn't exist)\n",
    "        impostor_recordings = [file for file in impostor_recordings if os.path.exists(os.path.join(data_folder, f\"{file}.csv\"))]\n",
    "        \n",
    "        # Shuffle the list of impostor recordings to ensure randomness\n",
    "        random.shuffle(impostor_recordings)\n",
    "        \n",
    "        # Branch 1: Training set (randomly select 38 recordings for the person)\n",
    "        branch1_train_files = random.sample(recordings, 38)  # Select 38 random recordings for training\n",
    "        for file in branch1_train_files:\n",
    "            shutil.copy(os.path.join(data_folder, f\"{file}.csv\"), os.path.join(branch1_train_dir, f\"{file}.csv\"))\n",
    "        \n",
    "        # Branch 2: Training set (2 impostor files + 36 random recordings from other people)\n",
    "        branch2_train_files = []\n",
    "        branch2_train_files.extend(impostor_recordings[:2])  # Two impostor files\n",
    "        other_people_recordings = []\n",
    "        \n",
    "        # Collect 36 recordings from other people\n",
    "        for other_person in people:\n",
    "            if other_person != person:\n",
    "                other_people_recordings.extend([f\"{other_person}{i}\" for i in range(1, 46)])\n",
    "        random.shuffle(other_people_recordings)\n",
    "        branch2_train_files.extend(other_people_recordings[:36])\n",
    "        \n",
    "        # Copy all branch2 train files\n",
    "        for file in branch2_train_files:\n",
    "            shutil.copy(os.path.join(data_folder, f\"{file}.csv\"), os.path.join(branch2_train_dir, f\"{file}.csv\"))\n",
    "        \n",
    "        # Validation Set for Branch 1 (7 files from remaining recordings of the person, not in training set)\n",
    "        remaining_recordings = list(set(recordings) - set(branch1_train_files))  # Remaining files\n",
    "        branch1_val_files = random.sample(remaining_recordings, 7)  # Select 7 random recordings from remaining files\n",
    "        for file in branch1_val_files:\n",
    "            shutil.copy(os.path.join(data_folder, f\"{file}.csv\"), os.path.join(branch1_val_dir, f\"{file}.csv\"))\n",
    "        \n",
    "        # Validation Set for Branch 2 (7 random recordings from other people not in training set)\n",
    "        # First, collect all recordings of other people\n",
    "        other_people_recordings = []\n",
    "        for other_person in people:\n",
    "            if other_person != person:\n",
    "                other_people_recordings.extend([f\"{other_person}{i}\" for i in range(1, 46)])\n",
    "        \n",
    "        # Remove the recordings already used in training set for branch2\n",
    "        other_people_recordings = list(set(other_people_recordings) - set(branch2_train_files))\n",
    "        \n",
    "        # Select 7 random recordings from other people for branch2 validation\n",
    "        branch2_val_files = random.sample(other_people_recordings, 7)\n",
    "        \n",
    "        # Copy all branch2 val files\n",
    "        for file in branch2_val_files:\n",
    "            shutil.copy(os.path.join(data_folder, f\"{file}.csv\"), os.path.join(branch2_val_dir, f\"{file}.csv\"))\n",
    "        \n",
    "        # Test Set for Branch 1 (Test recordings like Artlog1, Olilog2, etc.)\n",
    "        branch1_test_files = [f\"{person}log{i}\" for i in range(1, 4)]\n",
    "        for file in branch1_test_files:\n",
    "            shutil.copy(os.path.join(data_folder, f\"{file}.csv\"), os.path.join(branch1_test_dir, f\"{file}.csv\"))\n",
    "        \n",
    "        # Test Set for Branch 2 (3 random impostor files that have not been used in training)\n",
    "        branch2_test_files = random.sample(impostor_recordings[2:], 3)  # Select 3 random impostor files not used in training\n",
    "        \n",
    "        # Copy all branch2 test files\n",
    "        for file in branch2_test_files:\n",
    "            shutil.copy(os.path.join(data_folder, f\"{file}.csv\"), os.path.join(branch2_test_dir, f\"{file}.csv\"))\n",
    "        \n",
    "        # Random Test Set (Olilog-random1, Tymlog-random2, etc.)\n",
    "        branch_random_test_files = [f\"{person}log-random{i}\" for i in range(1, 4)]\n",
    "        for file in branch_random_test_files:\n",
    "            shutil.copy(os.path.join(data_folder, f\"{file}.csv\"), os.path.join(branch_random_test_dir, f\"{file}.csv\"))\n",
    "        \n",
    "        print(f\"Dataset created for {person}\")\n",
    "\n",
    "# Example usage\n",
    "data_folder = \"ourdata_scaled\"  # Folder containing EEG CSV files (e.g., Art1.csv, Oli32.csv)\n",
    "output_folder = \"user_database\"  # Folder to store the new datasets\n",
    "\n",
    "create_datasets(data_folder, output_folder)\n"
   ]
  },
  {
   "cell_type": "markdown",
   "metadata": {},
   "source": [
    "Sliding Window Approach\n",
    "The sliding window approach is a method for breaking down time-series data (such as EEG recordings) into smaller, overlapping or non-overlapping segments of fixed size. It’s particularly useful for processing data with variable lengths, as it enables uniform input sizes for machine learning models."
   ]
  },
  {
   "cell_type": "markdown",
   "metadata": {},
   "source": [
    "Window Size:\n",
    "\n",
    "The number of time steps in each segment.\n",
    "For EEG data, the window size might correspond to a specific duration, e.g., 1 second (128 samples at 128 Hz).\n",
    "Step Size (Stride):\n",
    "\n",
    "The number of time steps the window moves forward for the next segment.\n",
    "If the step size is smaller than the window size, the windows overlap. If it's equal, there's no overlap.\n",
    "Overlapping vs. Non-Overlapping Windows:\n",
    "\n",
    "Overlapping: Captures more contextual information, as segments share data points.\n",
    "Non-Overlapping: Simpler, but may miss transitions or subtle patterns at window boundaries.\n",
    "\n",
    "We will use overlapping windows (the window step is smaller than window length)"
   ]
  },
  {
   "cell_type": "code",
   "execution_count": 18,
   "metadata": {},
   "outputs": [],
   "source": [
    "def apply_sliding_window(data, window_length, window_step):\n",
    "    \"\"\"\n",
    "    Applies a sliding window to the EEG data to create overlapping windows.\n",
    "    \"\"\"\n",
    "    windows = []\n",
    "    num_samples = len(data)\n",
    "    \n",
    "    for start in range(0, num_samples - window_length + 1, window_step):\n",
    "        end = start + window_length\n",
    "        window = data[start:end]\n",
    "        windows.append(window)\n",
    "    \n",
    "    return np.array(windows)\n"
   ]
  },
  {
   "cell_type": "code",
   "execution_count": 19,
   "metadata": {},
   "outputs": [
    {
     "name": "stdout",
     "output_type": "stream",
     "text": [
      "Sliding windows created for Art\n",
      "Sliding windows created for Oli\n",
      "Sliding windows created for Tym\n"
     ]
    }
   ],
   "source": [
    "def create_sliding_window_dataset_from_folders(input_folder, output_folder, window_length=128, window_step=64):\n",
    "    \"\"\"\n",
    "    Processes the dataset using a sliding window approach for EEG data.\n",
    "    The input_folder contains subfolders for each person's training, validation, and testing data.\n",
    "    \"\"\"\n",
    "    # List of people\n",
    "    people = [\"Art\", \"Oli\", \"Tym\"]\n",
    "    \n",
    "    # Iterate through each person\n",
    "    for person in people:\n",
    "        # Folders where the data for each person is stored\n",
    "        branch1_train_dir = os.path.join(input_folder, f\"{person}_training_branch1\")\n",
    "        branch2_train_dir = os.path.join(input_folder, f\"{person}_training_branch2\")\n",
    "        branch1_val_dir = os.path.join(input_folder, f\"{person}_validation_branch1\")\n",
    "        branch2_val_dir = os.path.join(input_folder, f\"{person}_validation_branch2\")\n",
    "        \n",
    "        # Test data folders\n",
    "        branch1_test_dir = os.path.join(input_folder, f\"{person}_testing_branch1\")\n",
    "        branch2_test_dir = os.path.join(input_folder, f\"{person}_testing_branch2\")\n",
    "        branch_random_test_dir = os.path.join(input_folder, f\"{person}_testing_branch_random\")\n",
    "        \n",
    "        # Create output directories for storing sliding windows with -datawindow suffix\n",
    "        person_window_dir = os.path.join(output_folder, f\"{person}_datawindow\")\n",
    "        \n",
    "        # Check if the folder already exists and contains files\n",
    "        if os.path.exists(person_window_dir) and os.listdir(person_window_dir):\n",
    "            print(f\"Skipping {person}, data already exists.\")\n",
    "            continue\n",
    "        os.makedirs(person_window_dir, exist_ok=True)\n",
    "        \n",
    "        # Process the branch1 training files\n",
    "        process_directory(branch1_train_dir, person_window_dir, window_length, window_step, f\"{person}_training_branch1\")\n",
    "        \n",
    "        # Process the branch2 training files\n",
    "        process_directory(branch2_train_dir, person_window_dir, window_length, window_step, f\"{person}_training_branch2\")\n",
    "        \n",
    "        # Process the branch1 validation files\n",
    "        process_directory(branch1_val_dir, person_window_dir, window_length, window_step, f\"{person}_validation_branch1\")\n",
    "        \n",
    "        # Process the branch2 validation files\n",
    "        process_directory(branch2_val_dir, person_window_dir, window_length, window_step, f\"{person}_validation_branch2\")\n",
    "        \n",
    "        # Process the branch1 test files\n",
    "        process_directory(branch1_test_dir, person_window_dir, window_length, window_step, f\"{person}_testing_branch1\")\n",
    "        \n",
    "        # Process the branch2 test files\n",
    "        process_directory(branch2_test_dir, person_window_dir, window_length, window_step, f\"{person}_testing_branch2\")\n",
    "        \n",
    "        # Process the random test files\n",
    "        process_directory(branch_random_test_dir, person_window_dir, window_length, window_step, f\"{person}_testing_branch_random\")\n",
    "\n",
    "        print(f\"Sliding windows created for {person}\")\n",
    "\n",
    "def process_directory(input_dir, output_dir, window_length, window_step, label_prefix):\n",
    "    \"\"\"\n",
    "    Processes the files in a directory, applying the sliding window approach and saving the windows.\n",
    "    \"\"\"\n",
    "    # Get all files in the directory\n",
    "    files = sorted(os.listdir(input_dir))\n",
    "    \n",
    "    for file_name in files:\n",
    "        # Ensure that the file is a CSV\n",
    "        if file_name.endswith(\".csv\"):\n",
    "            file_path = os.path.join(input_dir, file_name)\n",
    "            \n",
    "            # Load EEG data from the CSV file\n",
    "            df = pd.read_csv(file_path)\n",
    "            eeg_data = df.to_numpy()  # Convert to numpy array\n",
    "            \n",
    "            # Apply sliding window to create smaller chunks\n",
    "            windows = apply_sliding_window(eeg_data, window_length, window_step)\n",
    "            \n",
    "            # Create a new directory for this file with -datawindow suffix\n",
    "            file_datawindow_dir = os.path.join(output_dir, f\"{label_prefix}_datawindow\")\n",
    "            os.makedirs(file_datawindow_dir, exist_ok=True)\n",
    "            \n",
    "            # Save the windows to new files with the -datawindow{i} suffix\n",
    "            for i, window in enumerate(windows):\n",
    "                window_filename = f\"{file_name.replace('.csv', '')}_datawindow{i}.csv\"\n",
    "                window_file_path = os.path.join(file_datawindow_dir, window_filename)\n",
    "                window_df = pd.DataFrame(window)  # Convert window to DataFrame for saving\n",
    "                window_df.to_csv(window_file_path, index=False)\n",
    "\n",
    "# Example usage\n",
    "input_folder = \"user_database\"  # Folder containing the training/validation directories (e.g., Art_training_branch1)\n",
    "output_folder = \"user_database_windowed/length256_step64\"  # Folder to store the new sliding window datasets\n",
    "\n",
    "#Tniemy dane w okienka i tworzymy okienka danych o dlugosci i skoku, 128-1 sekunda\n",
    "create_sliding_window_dataset_from_folders(input_folder, output_folder, window_length=256, window_step=64)"
   ]
  },
  {
   "cell_type": "markdown",
   "metadata": {},
   "source": [
    "Przekształciliśmy wszystkie dane w okienka danych o równej długości."
   ]
  },
  {
   "cell_type": "code",
   "execution_count": 20,
   "metadata": {},
   "outputs": [],
   "source": [
    "class SiameseEEGDataset(Dataset):\n",
    "    def __init__(self, folder_path, input_channels=14):\n",
    "        \"\"\"\n",
    "        Args:\n",
    "            folder_path (str): Path to the folder containing the processed data (CSV files).\n",
    "            input_channels (int): Number of EEG channels (e.g., 14).\n",
    "        \"\"\"\n",
    "        self.folder_path = folder_path\n",
    "        self.file_paths = [os.path.join(folder_path, file) for file in os.listdir(folder_path) if file.endswith('.csv')]\n",
    "        self.data = []  # To store loaded data\n",
    "        self.labels = []  # To store corresponding labels\n",
    "\n",
    "        # Extract the label from the folder name\n",
    "        self.label = self.extract_label_from_folder(folder_path)\n",
    "\n",
    "        # Load all files into memory (optional, depending on dataset size)\n",
    "        for file_path in self.file_paths:\n",
    "            df = pd.read_csv(file_path)\n",
    "            # Assuming the data needs reshaping (e.g., reshaping into (channels, time_steps))\n",
    "            data = df.values.T  # Transpose if necessary to match (channels, time_steps)\n",
    "            self.data.append(data)  # (input_channels, time_steps) shape\n",
    "            self.labels.append(self.label)  # Assign the same label to all files in the folder\n",
    "\n",
    "    @staticmethod\n",
    "    def extract_label_from_folder(folder_path):\n",
    "        \"\"\"\n",
    "        Extracts the label based on the folder name.\n",
    "        Args:\n",
    "            folder_path (str): Path to the folder containing the data.\n",
    "        Returns:\n",
    "            int: Label corresponding to the folder type.\n",
    "        \"\"\"\n",
    "        folder_name = os.path.basename(folder_path)\n",
    "        if \"branch2\" in folder_name:\n",
    "            return 1  # Impostor\n",
    "        else:\n",
    "            return 0  # Genuine\n",
    "\n",
    "    def __len__(self):\n",
    "        return len(self.data)\n",
    "\n",
    "    def __getitem__(self, idx):\n",
    "        \"\"\"\n",
    "        Returns a single EEG sample and its label.\n",
    "        \"\"\"\n",
    "        data = torch.tensor(self.data[idx], dtype=torch.float32)\n",
    "        label = self.labels[idx]\n",
    "        return data, label\n"
   ]
  },
  {
   "cell_type": "code",
   "execution_count": 21,
   "metadata": {},
   "outputs": [],
   "source": [
    "class SiamesePairDataset(Dataset):\n",
    "    def __init__(self, dataloaders):\n",
    "        \"\"\"\n",
    "        Args:\n",
    "            dataloaders (dict): Dictionary containing train, validation, and test dataloaders.\n",
    "        \"\"\"\n",
    "        self.dataloaders = dataloaders\n",
    "        self.pairs = []\n",
    "        self.labels = []\n",
    "        self.create_pairs()\n",
    "\n",
    "    def create_pairs(self):\n",
    "        branches = list(self.dataloaders.keys())\n",
    "        \n",
    "        # Loop over all pairs of branches (including same and different branches)\n",
    "        for i, branch1 in enumerate(branches):\n",
    "            for j, branch2 in enumerate(branches):\n",
    "                dataloader1 = self.dataloaders[branch1]\n",
    "                dataloader2 = self.dataloaders[branch2]\n",
    "                \n",
    "                for x_batch1, y_batch1 in dataloader1:\n",
    "                    for x_batch2, y_batch2 in dataloader2:\n",
    "                        # Ensure x_batch and y_batch are tensors\n",
    "                        x_batch1 = torch.tensor(x_batch1) if not isinstance(x_batch1, torch.Tensor) else x_batch1\n",
    "                        x_batch2 = torch.tensor(x_batch2) if not isinstance(x_batch2, torch.Tensor) else x_batch2\n",
    "                        y_batch1 = torch.tensor(y_batch1) if not isinstance(y_batch1, torch.Tensor) else y_batch1\n",
    "                        y_batch2 = torch.tensor(y_batch2) if not isinstance(y_batch2, torch.Tensor) else y_batch2\n",
    "\n",
    "                        # Check for matching batch sizes\n",
    "                        min_len = min(len(x_batch1), len(x_batch2))  # Use the smallest batch size to avoid index out of range\n",
    "                        \n",
    "                        # Generate positive pairs (same class within the same branch)\n",
    "                        if i == j:  # Same branch\n",
    "                            for k in range(min_len):\n",
    "                                for l in range(k + 1, min_len):\n",
    "                                    if y_batch1[k] == y_batch1[l]:\n",
    "                                        self.pairs.append((x_batch1[k], x_batch2[l]))  # Same data within the branch\n",
    "                                        self.labels.append(1)  # Same class (genuine)\n",
    "                        else:  # Different branches\n",
    "                            for k in range(min_len):\n",
    "                                for l in range(min_len):\n",
    "                                    self.pairs.append((x_batch1[k], x_batch2[l]))  # Different branch pair\n",
    "                                    self.labels.append(0)  # Different class (impostor)\n",
    "\n",
    "    def __len__(self):\n",
    "        return len(self.pairs)\n",
    "\n",
    "    def __getitem__(self, idx):\n",
    "        x1, x2 = self.pairs[idx]\n",
    "        label = torch.tensor(self.labels[idx], dtype=torch.long)\n",
    "        return x1, x2, label\n"
   ]
  },
  {
   "cell_type": "code",
   "execution_count": 22,
   "metadata": {},
   "outputs": [],
   "source": [
    "# Function to create DataLoaders for training, validation, and testing\n",
    "def create_dataloaders(base_dir, person, input_channels=14, batch_size=96, shuffle=True):\n",
    "    \"\"\"\n",
    "    Args:\n",
    "        base_dir (str): Base directory containing all processed data folders.\n",
    "        person (str): Person whose data we are loading.\n",
    "        input_channels (int): Number of EEG channels (e.g., 14).\n",
    "        batch_size (int): Batch size for DataLoader.\n",
    "        shuffle (bool): Whether to shuffle the data.\n",
    "\n",
    "    Returns:\n",
    "        dict: A dictionary containing DataLoaders for training, validation, and testing.\n",
    "    \"\"\"\n",
    "    dataloaders = {}\n",
    "\n",
    "    # Define subdirectories for training, validation, and testing\n",
    "    subdirs = {\n",
    "        \"train_branch1\": f\"{person}_training_branch1_datawindow\",\n",
    "        \"train_branch2\": f\"{person}_training_branch2_datawindow\",\n",
    "        \"val_branch1\": f\"{person}_validation_branch1_datawindow\",\n",
    "        \"val_branch2\": f\"{person}_validation_branch2_datawindow\",\n",
    "        \"test_branch1\": f\"{person}_testing_branch1_datawindow\",\n",
    "        \"test_branch2\": f\"{person}_testing_branch2_datawindow\",\n",
    "        \"test_random\": f\"{person}_testing_branch_random_datawindow\",\n",
    "    }\n",
    "\n",
    "    # Create DataLoaders for each branch\n",
    "    for key, subdir in subdirs.items():\n",
    "        folder_path = os.path.join(base_dir, f\"{person}_datawindow\", subdir)\n",
    "        if os.path.exists(folder_path):\n",
    "            dataset = SiameseEEGDataset(folder_path, input_channels=input_channels)  # Use the modified dataset for EEG data\n",
    "            dataloaders[key] = DataLoader(dataset, batch_size=batch_size, shuffle=shuffle)\n",
    "        else:\n",
    "            print(f\"Warning: Folder {folder_path} does not exist. Skipping {key}.\")\n",
    "\n",
    "    return dataloaders\n"
   ]
  },
  {
   "cell_type": "code",
   "execution_count": 23,
   "metadata": {},
   "outputs": [],
   "source": [
    "# Check the alignment of the number of files and samples in the dataloaders\n",
    "def check_dataloader_alignment(dataloaders, base_dir, person):\n",
    "    \"\"\"\n",
    "    Function to check that the number of samples in the dataloaders aligns with the number of files in the directories.\n",
    "    Args:\n",
    "        dataloaders (dict): Dictionary containing DataLoader objects.\n",
    "        base_dir (str): Base directory where data is stored.\n",
    "        person (str): Person whose data we are loading.\n",
    "    \"\"\"\n",
    "    subdirs = {\n",
    "        \"train_branch1\": f\"{person}_training_branch1_datawindow\",\n",
    "        \"train_branch2\": f\"{person}_training_branch2_datawindow\",\n",
    "        \"val_branch1\": f\"{person}_validation_branch1_datawindow\",\n",
    "        \"val_branch2\": f\"{person}_validation_branch2_datawindow\",\n",
    "        \"test_branch1\": f\"{person}_testing_branch1_datawindow\",\n",
    "        \"test_branch2\": f\"{person}_testing_branch2_datawindow\",\n",
    "        \"test_random\": f\"{person}_testing_branch_random_datawindow\",\n",
    "    }\n",
    "\n",
    "    # For each DataLoader, verify the number of samples against the number of files in the folder\n",
    "    for key, subdir in subdirs.items():\n",
    "        folder_path = os.path.join(base_dir, f\"{person}_datawindow\", subdir)\n",
    "        if os.path.exists(folder_path):\n",
    "            # Get the number of files in the folder\n",
    "            num_files = len([file for file in os.listdir(folder_path) if file.endswith('.csv')])\n",
    "            \n",
    "            # Get the number of samples in the DataLoader\n",
    "            num_samples = len(dataloaders[key].dataset)  # Length of the dataset\n",
    "            \n",
    "            # Compare the two\n",
    "            print(f\"Checking {key}:\")\n",
    "            print(f\"  - Files in folder: {num_files}\")\n",
    "            print(f\"  - Samples in DataLoader: {num_samples}\")\n",
    "            print(f\"  - Alignment: {'MATCH' if num_files == num_samples else 'MISMATCH'}\\n\")\n",
    "        else:\n",
    "            print(f\"Warning: Folder {folder_path} does not exist. Skipping {key}.\\n\")\n",
    "\n"
   ]
  },
  {
   "cell_type": "markdown",
   "metadata": {},
   "source": [
    "This output confirms that the SiameseEEGDataset is functioning correctly, and the DataLoader is successfully creating batches of data. Here’s what the output means:\n",
    "\n",
    "Batch Shapes:\n",
    "\n",
    "x=torch.Size([64, 14, 128]) indicates that each batch contains 64 EEG samples, each with 14 channels and {window_step} time steps. The batch size matches the batch_size parameter you passed during DataLoader creation.\n",
    "labels=torch.Size([64]) shows that there are 64 corresponding labels for these EEG samples, which align with the batch size.\n",
    "Branches:\n",
    "\n",
    "All branches (train_branch1, train_branch2, etc.) have at least one batch. This confirms that data exists in the respective directories and the dataset is being loaded correctly.\n",
    "The batch sizes for test_branch1, test_branch2, and test_random are smaller (43, 42, and 43), likely because the dataset size for these branches is not divisible by the batch size (64). This is expected behavior."
   ]
  },
  {
   "cell_type": "code",
   "execution_count": 24,
   "metadata": {},
   "outputs": [],
   "source": [
    "def create_pair_datasets(dataloaders, batch_size=96):\n",
    "    \"\"\"\n",
    "    Create separate pair datasets for training, validation, and testing.\n",
    "    Args:\n",
    "        dataloaders (dict): Dictionary containing train, validation, and test DataLoaders.\n",
    "        batch_size (int): Batch size for DataLoader.\n",
    "    \n",
    "    Returns:\n",
    "        dict: A dictionary containing separate DataLoader objects for training, validation, and testing.\n",
    "    \"\"\"\n",
    "    pair_datasets = {}\n",
    "\n",
    "    # Define subsets of dataloaders for each category\n",
    "    subsets = {\n",
    "        \"train\": [\"train_branch1\", \"train_branch2\"],\n",
    "        \"val\": [\"val_branch1\", \"val_branch2\"],\n",
    "        \"test\": [\"test_branch1\", \"test_branch2\", \"test_random\"],\n",
    "    }\n",
    "\n",
    "    for key, branches in subsets.items():\n",
    "        # Filter dataloaders to include only the branches for this subset\n",
    "        filtered_dataloaders = {branch: dataloaders[branch] for branch in branches if branch in dataloaders}\n",
    "        \n",
    "        # Create a SiamesePairDataset using only the filtered dataloaders\n",
    "        pair_dataset = SiamesePairDataset(filtered_dataloaders)\n",
    "        \n",
    "        # Wrap the SiamesePairDataset with DataLoader for batching\n",
    "        pair_datasets[key] = DataLoader(pair_dataset, batch_size=batch_size, shuffle=True)\n",
    "\n",
    "    return pair_datasets\n"
   ]
  },
  {
   "cell_type": "markdown",
   "metadata": {},
   "source": [
    "Batch Shapes:\n",
    "\n",
    "x1 Shape: torch.Size([64, 14, 128]) and x2 Shape: torch.Size([64, 14, 128]) indicate that each batch contains 64 pairs of EEG data samples. Each sample has 14 channels and 128 time steps.\n",
    "Labels Shape: torch.Size([64]) shows that there are 64 labels corresponding to the 64 pairs. Each label specifies whether the pair is from the same class (1) or different classes (0).\n",
    "\n",
    "Consistent Batch Size:\n",
    "\n",
    "All batches have the same number of pairs (64), which matches the batch_size you specified when creating the DataLoader for SiamesePairDataset.\n",
    "\n",
    "Multiple Batches:\n",
    "\n",
    "The presence of multiple batches (e.g., Batch 1 and Batch 2) confirms that your SiamesePairDataset and its DataLoader are properly generating and iterating through the data pairs."
   ]
  },
  {
   "cell_type": "markdown",
   "metadata": {},
   "source": [
    "Ostatnie Sprawdzenie:"
   ]
  },
  {
   "cell_type": "markdown",
   "metadata": {},
   "source": [
    "The pair_dataset contains pairs of EEG samples and corresponding labels, which are generated based on the original EEG data from the dataloaders for each branch (train_branch1, train_branch2, etc.). Here's how the pair_dataset is constructed:\n",
    "\n",
    "Contents of pair_dataset\n",
    "\n",
    "Pairs of EEG Samples (x1 and x2):\n",
    "\n",
    "Each pair consists of two EEG samples (x1 and x2).\n",
    "\n",
    "These samples are extracted from the original data loaded via the SiameseEEGDataset for each branch.\n",
    "\n",
    "For example, if branch1 contains EEG sample A and branch2 contains EEG sample B, a positive pair would be (A, A) with a label 1, and a negative pair could be (A, B) with a label 0.\n",
    "\n",
    "Labels (0 or 1):\n",
    "\n",
    "Label 1: Indicates that the two samples in the pair belong to the same class (e.g., both from \"genuine\" data or the same person).\n",
    "\n",
    "Label 0: Indicates that the two samples in the pair belong to different classes (e.g., one from \"genuine\" data and the other from \"impostor\" data).\n",
    "\n",
    "How Is pair_dataset Created?\n",
    "\n",
    "The SiamesePairDataset generates pairs by iterating through each branch's DataLoader:\n",
    "\n",
    "It takes batches of EEG data (x_batch) and their labels (y_batch) from each branch.\n",
    "\n",
    "For each batch:\n",
    "\n",
    "Positive pairs: Pairs are created from samples with the same label in the batch.\n",
    "\n",
    "Negative pairs: Pairs are created from samples with different labels in the batch.\n",
    "\n",
    "For example:\n",
    "\n",
    "Pairs generated:\n",
    "\n",
    "Positive: (A1, A2), (B1, B2) with label 1\n",
    "Negative: (A1, B1), (A2, B3) with label 0"
   ]
  },
  {
   "cell_type": "markdown",
   "metadata": {},
   "source": [
    "Załadowaliśmy dane do pamięci"
   ]
  },
  {
   "cell_type": "markdown",
   "metadata": {},
   "source": [
    "Initialize the model"
   ]
  },
  {
   "cell_type": "markdown",
   "metadata": {},
   "source": [
    "Training loop"
   ]
  },
  {
   "cell_type": "code",
   "execution_count": 26,
   "metadata": {},
   "outputs": [],
   "source": [
    "def train(model, model_name, pair_datasets, criterion, optimizer, scheduler, device, person, window_length, step_size, patience=3, min_delta=0.0):\n",
    "    \"\"\"\n",
    "    Train the Siamese network with early stopping based on validation loss, dynamic filenames, and a minimum delta.\n",
    "    \"\"\"\n",
    "    model.to(device)\n",
    "    train_losses = []\n",
    "    val_losses = []\n",
    "\n",
    "    best_val_loss = float('inf')\n",
    "    patience_counter = 0\n",
    "\n",
    "    try:\n",
    "        for epoch in range(400):  # Large upper limit since stopping is based on validation loss\n",
    "            model.train()\n",
    "            running_train_loss = 0.0\n",
    "\n",
    "            # Training loop\n",
    "            with tqdm(total=len(pair_datasets['train']), desc=f\"Epoch {epoch + 1} Train\") as pbar:\n",
    "                for x1, x2, label in pair_datasets['train']:\n",
    "                    x1, x2, label = x1.to(device), x2.to(device), label.to(device)\n",
    "                    optimizer.zero_grad()\n",
    "                    embedding1, embedding2 = model(x1, x2)\n",
    "                    loss = criterion(embedding1, embedding2, label)\n",
    "                    loss.backward()\n",
    "                    optimizer.step()\n",
    "                    running_train_loss += loss.item()\n",
    "                    pbar.set_postfix({'Loss': loss.item()})\n",
    "                    pbar.update(1)\n",
    "\n",
    "            avg_train_loss = running_train_loss / len(pair_datasets['train'])\n",
    "            train_losses.append(avg_train_loss)\n",
    "\n",
    "            # Validation loop\n",
    "            model.eval()\n",
    "            running_val_loss = 0.0\n",
    "            with torch.no_grad():\n",
    "                with tqdm(total=len(pair_datasets['val']), desc=f\"Epoch {epoch + 1} Val\") as pbar_val:\n",
    "                    for x1, x2, label in pair_datasets['val']:\n",
    "                        x1, x2, label = x1.to(device), x2.to(device), label.to(device)\n",
    "                        embedding1, embedding2 = model(x1, x2)\n",
    "                        loss = criterion(embedding1, embedding2, label)\n",
    "                        running_val_loss += loss.item()\n",
    "                        pbar_val.set_postfix({'Loss': loss.item()})\n",
    "                        pbar_val.update(1)\n",
    "\n",
    "            avg_val_loss = running_val_loss / len(pair_datasets['val'])\n",
    "            val_losses.append(avg_val_loss)\n",
    "\n",
    "            print(f\"Epoch {epoch + 1} - Train Loss: {avg_train_loss:.4f}, Val Loss: {avg_val_loss:.4f}\")\n",
    "            scheduler.step(avg_val_loss)\n",
    "\n",
    "            # Early stopping logic\n",
    "            if avg_val_loss < best_val_loss - min_delta:\n",
    "                best_val_loss = avg_val_loss\n",
    "                patience_counter = 0\n",
    "                model_filename = f\"{person}_{model_name}_best_length{window_length}_step{step_size}.pth\"\n",
    "                torch.save(model.state_dict(), model_filename)\n",
    "                print(f\"New best model saved: {model_filename}\")\n",
    "            else:\n",
    "                patience_counter += 1\n",
    "                if patience_counter >= patience:\n",
    "                    print(f\"Early stopping triggered. Best Val Loss: {best_val_loss:.4f}\")\n",
    "                    break\n",
    "\n",
    "    except KeyboardInterrupt:\n",
    "        print(\"Training interrupted. Saving last model...\")\n",
    "        model_filename = f\"{person}_{model_name}_interrupted_length{window_length}_step{step_size}.pth\"\n",
    "        torch.save(model.state_dict(), model_filename)\n",
    "        print(f\"Model saved: {model_filename}\")\n",
    "\n",
    "    return train_losses, val_losses\n"
   ]
  },
  {
   "cell_type": "code",
   "execution_count": 27,
   "metadata": {},
   "outputs": [
    {
     "name": "stdout",
     "output_type": "stream",
     "text": [
      "CUDA Available: True\n",
      "GPU Name: NVIDIA GeForce RTX 2060 SUPER\n"
     ]
    }
   ],
   "source": [
    "print(\"CUDA Available:\", torch.cuda.is_available())\n",
    "if torch.cuda.is_available():\n",
    "    print(\"GPU Name:\", torch.cuda.get_device_name(0))\n",
    "\n"
   ]
  },
  {
   "cell_type": "code",
   "execution_count": 28,
   "metadata": {},
   "outputs": [
    {
     "name": "stdout",
     "output_type": "stream",
     "text": [
      "\n",
      "Starting training for Art...\n",
      "\n",
      "\n",
      "Training ModelBasic for Art...\n",
      "\n"
     ]
    },
    {
     "name": "stderr",
     "output_type": "stream",
     "text": [
      "Epoch 1 Train: 100%|██████████| 2872/2872 [00:41<00:00, 69.10it/s, Loss=0.232]\n",
      "Epoch 1 Val: 100%|██████████| 88/88 [00:00<00:00, 122.17it/s, Loss=0.245]\n"
     ]
    },
    {
     "name": "stdout",
     "output_type": "stream",
     "text": [
      "Epoch 1 - Train Loss: 0.2966, Val Loss: 0.2345\n",
      "New best model saved: Art_ModelBasic_best_length384_step64.pth\n"
     ]
    },
    {
     "name": "stderr",
     "output_type": "stream",
     "text": [
      "Epoch 2 Train: 100%|██████████| 2872/2872 [00:41<00:00, 69.57it/s, Loss=0.193]\n",
      "Epoch 2 Val: 100%|██████████| 88/88 [00:00<00:00, 137.21it/s, Loss=0.23] \n"
     ]
    },
    {
     "name": "stdout",
     "output_type": "stream",
     "text": [
      "Epoch 2 - Train Loss: 0.2308, Val Loss: 0.2180\n",
      "New best model saved: Art_ModelBasic_best_length384_step64.pth\n"
     ]
    },
    {
     "name": "stderr",
     "output_type": "stream",
     "text": [
      "Epoch 3 Train: 100%|██████████| 2872/2872 [00:40<00:00, 70.40it/s, Loss=0.137]\n",
      "Epoch 3 Val: 100%|██████████| 88/88 [00:00<00:00, 133.19it/s, Loss=0.184]\n"
     ]
    },
    {
     "name": "stdout",
     "output_type": "stream",
     "text": [
      "Epoch 3 - Train Loss: 0.1941, Val Loss: 0.1876\n",
      "New best model saved: Art_ModelBasic_best_length384_step64.pth\n"
     ]
    },
    {
     "name": "stderr",
     "output_type": "stream",
     "text": [
      "Epoch 4 Train: 100%|██████████| 2872/2872 [00:41<00:00, 68.43it/s, Loss=0.121] \n",
      "Epoch 4 Val: 100%|██████████| 88/88 [00:00<00:00, 126.26it/s, Loss=0.16] \n"
     ]
    },
    {
     "name": "stdout",
     "output_type": "stream",
     "text": [
      "Epoch 4 - Train Loss: 0.1459, Val Loss: 0.1557\n",
      "New best model saved: Art_ModelBasic_best_length384_step64.pth\n"
     ]
    },
    {
     "name": "stderr",
     "output_type": "stream",
     "text": [
      "Epoch 5 Train: 100%|██████████| 2872/2872 [00:41<00:00, 69.00it/s, Loss=0.1]   \n",
      "Epoch 5 Val: 100%|██████████| 88/88 [00:00<00:00, 131.63it/s, Loss=0.156]\n"
     ]
    },
    {
     "name": "stdout",
     "output_type": "stream",
     "text": [
      "Epoch 5 - Train Loss: 0.1020, Val Loss: 0.1353\n",
      "New best model saved: Art_ModelBasic_best_length384_step64.pth\n"
     ]
    },
    {
     "name": "stderr",
     "output_type": "stream",
     "text": [
      "Epoch 6 Train: 100%|██████████| 2872/2872 [00:41<00:00, 69.81it/s, Loss=0.0483]\n",
      "Epoch 6 Val: 100%|██████████| 88/88 [00:00<00:00, 133.36it/s, Loss=0.136] \n"
     ]
    },
    {
     "name": "stdout",
     "output_type": "stream",
     "text": [
      "Epoch 6 - Train Loss: 0.0659, Val Loss: 0.1216\n",
      "New best model saved: Art_ModelBasic_best_length384_step64.pth\n"
     ]
    },
    {
     "name": "stderr",
     "output_type": "stream",
     "text": [
      "Epoch 7 Train: 100%|██████████| 2872/2872 [00:41<00:00, 69.07it/s, Loss=0.0243]\n",
      "Epoch 7 Val: 100%|██████████| 88/88 [00:00<00:00, 137.78it/s, Loss=0.133] \n"
     ]
    },
    {
     "name": "stdout",
     "output_type": "stream",
     "text": [
      "Epoch 7 - Train Loss: 0.0381, Val Loss: 0.1114\n",
      "New best model saved: Art_ModelBasic_best_length384_step64.pth\n"
     ]
    },
    {
     "name": "stderr",
     "output_type": "stream",
     "text": [
      "Epoch 8 Train: 100%|██████████| 2872/2872 [00:40<00:00, 70.58it/s, Loss=0.0128] \n",
      "Epoch 8 Val: 100%|██████████| 88/88 [00:00<00:00, 140.84it/s, Loss=0.104] \n"
     ]
    },
    {
     "name": "stdout",
     "output_type": "stream",
     "text": [
      "Epoch 8 - Train Loss: 0.0199, Val Loss: 0.1044\n",
      "New best model saved: Art_ModelBasic_best_length384_step64.pth\n"
     ]
    },
    {
     "name": "stderr",
     "output_type": "stream",
     "text": [
      "Epoch 9 Train: 100%|██████████| 2872/2872 [00:40<00:00, 71.54it/s, Loss=0.00503]\n",
      "Epoch 9 Val: 100%|██████████| 88/88 [00:00<00:00, 119.95it/s, Loss=0.0899]\n"
     ]
    },
    {
     "name": "stdout",
     "output_type": "stream",
     "text": [
      "Epoch 9 - Train Loss: 0.0099, Val Loss: 0.0993\n",
      "New best model saved: Art_ModelBasic_best_length384_step64.pth\n"
     ]
    },
    {
     "name": "stderr",
     "output_type": "stream",
     "text": [
      "Epoch 10 Train: 100%|██████████| 2872/2872 [00:42<00:00, 67.94it/s, Loss=0.00421]\n",
      "Epoch 10 Val: 100%|██████████| 88/88 [00:00<00:00, 140.68it/s, Loss=0.0646]\n"
     ]
    },
    {
     "name": "stdout",
     "output_type": "stream",
     "text": [
      "Epoch 10 - Train Loss: 0.0050, Val Loss: 0.0961\n",
      "New best model saved: Art_ModelBasic_best_length384_step64.pth\n"
     ]
    },
    {
     "name": "stderr",
     "output_type": "stream",
     "text": [
      "Epoch 11 Train: 100%|██████████| 2872/2872 [00:39<00:00, 71.95it/s, Loss=0.00236]\n",
      "Epoch 11 Val: 100%|██████████| 88/88 [00:00<00:00, 134.63it/s, Loss=0.1]   \n"
     ]
    },
    {
     "name": "stdout",
     "output_type": "stream",
     "text": [
      "Epoch 11 - Train Loss: 0.0027, Val Loss: 0.0942\n",
      "New best model saved: Art_ModelBasic_best_length384_step64.pth\n"
     ]
    },
    {
     "name": "stderr",
     "output_type": "stream",
     "text": [
      "Epoch 12 Train: 100%|██████████| 2872/2872 [00:41<00:00, 69.95it/s, Loss=0.0011]  \n",
      "Epoch 12 Val: 100%|██████████| 88/88 [00:00<00:00, 130.75it/s, Loss=0.126] \n"
     ]
    },
    {
     "name": "stdout",
     "output_type": "stream",
     "text": [
      "Epoch 12 - Train Loss: 0.0015, Val Loss: 0.0932\n",
      "New best model saved: Art_ModelBasic_best_length384_step64.pth\n"
     ]
    },
    {
     "name": "stderr",
     "output_type": "stream",
     "text": [
      "Epoch 13 Train: 100%|██████████| 2872/2872 [00:39<00:00, 71.86it/s, Loss=0.000741]\n",
      "Epoch 13 Val: 100%|██████████| 88/88 [00:00<00:00, 134.76it/s, Loss=0.0631]\n"
     ]
    },
    {
     "name": "stdout",
     "output_type": "stream",
     "text": [
      "Epoch 13 - Train Loss: 0.0009, Val Loss: 0.0931\n"
     ]
    },
    {
     "name": "stderr",
     "output_type": "stream",
     "text": [
      "Epoch 14 Train: 100%|██████████| 2872/2872 [00:39<00:00, 71.96it/s, Loss=0.000497]\n",
      "Epoch 14 Val: 100%|██████████| 88/88 [00:00<00:00, 131.70it/s, Loss=0.0899]\n"
     ]
    },
    {
     "name": "stdout",
     "output_type": "stream",
     "text": [
      "Epoch 14 - Train Loss: 0.0005, Val Loss: 0.0932\n"
     ]
    },
    {
     "name": "stderr",
     "output_type": "stream",
     "text": [
      "Epoch 15 Train: 100%|██████████| 2872/2872 [00:39<00:00, 72.50it/s, Loss=0.000278]\n",
      "Epoch 15 Val: 100%|██████████| 88/88 [00:00<00:00, 144.77it/s, Loss=0.113] \n"
     ]
    },
    {
     "name": "stdout",
     "output_type": "stream",
     "text": [
      "Epoch 15 - Train Loss: 0.0003, Val Loss: 0.0933\n"
     ]
    },
    {
     "name": "stderr",
     "output_type": "stream",
     "text": [
      "Epoch 16 Train: 100%|██████████| 2872/2872 [00:41<00:00, 69.68it/s, Loss=0.000139]\n",
      "Epoch 16 Val: 100%|██████████| 88/88 [00:00<00:00, 145.72it/s, Loss=0.0808]\n"
     ]
    },
    {
     "name": "stdout",
     "output_type": "stream",
     "text": [
      "Epoch 16 - Train Loss: 0.0002, Val Loss: 0.0933\n"
     ]
    },
    {
     "name": "stderr",
     "output_type": "stream",
     "text": [
      "Epoch 17 Train: 100%|██████████| 2872/2872 [00:40<00:00, 71.03it/s, Loss=0.000115]\n",
      "Epoch 17 Val: 100%|██████████| 88/88 [00:00<00:00, 132.07it/s, Loss=0.103] \n"
     ]
    },
    {
     "name": "stdout",
     "output_type": "stream",
     "text": [
      "Epoch 17 - Train Loss: 0.0001, Val Loss: 0.0933\n"
     ]
    },
    {
     "name": "stderr",
     "output_type": "stream",
     "text": [
      "Epoch 18 Train: 100%|██████████| 2872/2872 [00:40<00:00, 70.59it/s, Loss=9.21e-5] \n",
      "Epoch 18 Val: 100%|██████████| 88/88 [00:00<00:00, 138.01it/s, Loss=0.084] \n"
     ]
    },
    {
     "name": "stdout",
     "output_type": "stream",
     "text": [
      "Epoch 18 - Train Loss: 0.0001, Val Loss: 0.0933\n"
     ]
    },
    {
     "name": "stderr",
     "output_type": "stream",
     "text": [
      "Epoch 19 Train: 100%|██████████| 2872/2872 [00:40<00:00, 71.35it/s, Loss=0.000109]\n",
      "Epoch 19 Val: 100%|██████████| 88/88 [00:00<00:00, 132.06it/s, Loss=0.105] \n"
     ]
    },
    {
     "name": "stdout",
     "output_type": "stream",
     "text": [
      "Epoch 19 - Train Loss: 0.0001, Val Loss: 0.0933\n"
     ]
    },
    {
     "name": "stderr",
     "output_type": "stream",
     "text": [
      "Epoch 20 Train: 100%|██████████| 2872/2872 [00:40<00:00, 71.78it/s, Loss=0.0001]  \n",
      "Epoch 20 Val: 100%|██████████| 88/88 [00:00<00:00, 143.89it/s, Loss=0.0707]\n"
     ]
    },
    {
     "name": "stdout",
     "output_type": "stream",
     "text": [
      "Epoch 20 - Train Loss: 0.0001, Val Loss: 0.0932\n"
     ]
    },
    {
     "name": "stderr",
     "output_type": "stream",
     "text": [
      "Epoch 21 Train: 100%|██████████| 2872/2872 [00:40<00:00, 70.63it/s, Loss=6.85e-5] \n",
      "Epoch 21 Val: 100%|██████████| 88/88 [00:00<00:00, 132.58it/s, Loss=0.0986]\n"
     ]
    },
    {
     "name": "stdout",
     "output_type": "stream",
     "text": [
      "Epoch 21 - Train Loss: 0.0001, Val Loss: 0.0933\n"
     ]
    },
    {
     "name": "stderr",
     "output_type": "stream",
     "text": [
      "Epoch 22 Train: 100%|██████████| 2872/2872 [00:41<00:00, 69.69it/s, Loss=6.88e-5] \n",
      "Epoch 22 Val: 100%|██████████| 88/88 [00:00<00:00, 133.65it/s, Loss=0.102] \n"
     ]
    },
    {
     "name": "stdout",
     "output_type": "stream",
     "text": [
      "Epoch 22 - Train Loss: 0.0001, Val Loss: 0.0933\n",
      "Early stopping triggered. Best Val Loss: 0.0932\n"
     ]
    },
    {
     "data": {
      "image/png": "[encoded data removed]",
      "text/plain": [
       "<Figure size 1000x600 with 1 Axes>"
      ]
     },
     "metadata": {},
     "output_type": "display_data"
    },
    {
     "name": "stdout",
     "output_type": "stream",
     "text": [
      "Finished training for Art.\n",
      "\n",
      "\n",
      "Starting training for Oli...\n",
      "\n",
      "\n",
      "Training ModelBasic for Oli...\n",
      "\n"
     ]
    },
    {
     "name": "stderr",
     "output_type": "stream",
     "text": [
      "Epoch 1 Train: 100%|██████████| 3079/3079 [00:43<00:00, 70.06it/s, Loss=0.229]\n",
      "Epoch 1 Val: 100%|██████████| 88/88 [00:00<00:00, 141.52it/s, Loss=0.199]\n"
     ]
    },
    {
     "name": "stdout",
     "output_type": "stream",
     "text": [
      "Epoch 1 - Train Loss: 0.2413, Val Loss: 0.1729\n",
      "New best model saved: Oli_ModelBasic_best_length384_step64.pth\n"
     ]
    },
    {
     "name": "stderr",
     "output_type": "stream",
     "text": [
      "Epoch 2 Train: 100%|██████████| 3079/3079 [00:40<00:00, 75.24it/s, Loss=0.105] \n",
      "Epoch 2 Val: 100%|██████████| 88/88 [00:00<00:00, 146.51it/s, Loss=0.116] \n"
     ]
    },
    {
     "name": "stdout",
     "output_type": "stream",
     "text": [
      "Epoch 2 - Train Loss: 0.1338, Val Loss: 0.1097\n",
      "New best model saved: Oli_ModelBasic_best_length384_step64.pth\n"
     ]
    },
    {
     "name": "stderr",
     "output_type": "stream",
     "text": [
      "Epoch 3 Train: 100%|██████████| 3079/3079 [00:40<00:00, 75.19it/s, Loss=0.0445]\n",
      "Epoch 3 Val: 100%|██████████| 88/88 [00:00<00:00, 142.21it/s, Loss=0.0681]\n"
     ]
    },
    {
     "name": "stdout",
     "output_type": "stream",
     "text": [
      "Epoch 3 - Train Loss: 0.0730, Val Loss: 0.0734\n",
      "New best model saved: Oli_ModelBasic_best_length384_step64.pth\n"
     ]
    },
    {
     "name": "stderr",
     "output_type": "stream",
     "text": [
      "Epoch 4 Train: 100%|██████████| 3079/3079 [00:40<00:00, 75.51it/s, Loss=0.033] \n",
      "Epoch 4 Val: 100%|██████████| 88/88 [00:00<00:00, 138.38it/s, Loss=0.0462]\n"
     ]
    },
    {
     "name": "stdout",
     "output_type": "stream",
     "text": [
      "Epoch 4 - Train Loss: 0.0403, Val Loss: 0.0563\n",
      "New best model saved: Oli_ModelBasic_best_length384_step64.pth\n"
     ]
    },
    {
     "name": "stderr",
     "output_type": "stream",
     "text": [
      "Epoch 5 Train: 100%|██████████| 3079/3079 [00:41<00:00, 74.37it/s, Loss=0.0147] \n",
      "Epoch 5 Val: 100%|██████████| 88/88 [00:00<00:00, 146.54it/s, Loss=0.0392]\n"
     ]
    },
    {
     "name": "stdout",
     "output_type": "stream",
     "text": [
      "Epoch 5 - Train Loss: 0.0213, Val Loss: 0.0498\n",
      "New best model saved: Oli_ModelBasic_best_length384_step64.pth\n"
     ]
    },
    {
     "name": "stderr",
     "output_type": "stream",
     "text": [
      "Epoch 6 Train: 100%|██████████| 3079/3079 [00:41<00:00, 73.94it/s, Loss=0.00609]\n",
      "Epoch 6 Val: 100%|██████████| 88/88 [00:00<00:00, 149.40it/s, Loss=0.0444]\n"
     ]
    },
    {
     "name": "stdout",
     "output_type": "stream",
     "text": [
      "Epoch 6 - Train Loss: 0.0105, Val Loss: 0.0474\n",
      "New best model saved: Oli_ModelBasic_best_length384_step64.pth\n"
     ]
    },
    {
     "name": "stderr",
     "output_type": "stream",
     "text": [
      "Epoch 7 Train: 100%|██████████| 3079/3079 [00:41<00:00, 74.50it/s, Loss=0.00257]\n",
      "Epoch 7 Val: 100%|██████████| 88/88 [00:00<00:00, 117.13it/s, Loss=0.0737]\n"
     ]
    },
    {
     "name": "stdout",
     "output_type": "stream",
     "text": [
      "Epoch 7 - Train Loss: 0.0050, Val Loss: 0.0465\n"
     ]
    },
    {
     "name": "stderr",
     "output_type": "stream",
     "text": [
      "Epoch 8 Train: 100%|██████████| 3079/3079 [00:41<00:00, 74.30it/s, Loss=0.00194] \n",
      "Epoch 8 Val: 100%|██████████| 88/88 [00:00<00:00, 139.81it/s, Loss=0.0496]\n"
     ]
    },
    {
     "name": "stdout",
     "output_type": "stream",
     "text": [
      "Epoch 8 - Train Loss: 0.0024, Val Loss: 0.0469\n"
     ]
    },
    {
     "name": "stderr",
     "output_type": "stream",
     "text": [
      "Epoch 9 Train: 100%|██████████| 3079/3079 [00:40<00:00, 75.70it/s, Loss=0.000925]\n",
      "Epoch 9 Val: 100%|██████████| 88/88 [00:00<00:00, 145.50it/s, Loss=0.0586]\n"
     ]
    },
    {
     "name": "stdout",
     "output_type": "stream",
     "text": [
      "Epoch 9 - Train Loss: 0.0012, Val Loss: 0.0479\n"
     ]
    },
    {
     "name": "stderr",
     "output_type": "stream",
     "text": [
      "Epoch 10 Train: 100%|██████████| 3079/3079 [00:40<00:00, 75.18it/s, Loss=0.000403]\n",
      "Epoch 10 Val: 100%|██████████| 88/88 [00:00<00:00, 139.94it/s, Loss=0.0245]\n"
     ]
    },
    {
     "name": "stdout",
     "output_type": "stream",
     "text": [
      "Epoch 10 - Train Loss: 0.0006, Val Loss: 0.0479\n"
     ]
    },
    {
     "name": "stderr",
     "output_type": "stream",
     "text": [
      "Epoch 11 Train: 100%|██████████| 3079/3079 [00:42<00:00, 72.94it/s, Loss=0.000154]\n",
      "Epoch 11 Val: 100%|██████████| 88/88 [00:00<00:00, 134.85it/s, Loss=0.0342]\n"
     ]
    },
    {
     "name": "stdout",
     "output_type": "stream",
     "text": [
      "Epoch 11 - Train Loss: 0.0003, Val Loss: 0.0483\n"
     ]
    },
    {
     "name": "stderr",
     "output_type": "stream",
     "text": [
      "Epoch 12 Train: 100%|██████████| 3079/3079 [00:42<00:00, 72.88it/s, Loss=0.000233]\n",
      "Epoch 12 Val: 100%|██████████| 88/88 [00:00<00:00, 142.60it/s, Loss=0.0389]\n"
     ]
    },
    {
     "name": "stdout",
     "output_type": "stream",
     "text": [
      "Epoch 12 - Train Loss: 0.0002, Val Loss: 0.0483\n"
     ]
    },
    {
     "name": "stderr",
     "output_type": "stream",
     "text": [
      "Epoch 13 Train: 100%|██████████| 3079/3079 [00:41<00:00, 74.52it/s, Loss=0.000154]\n",
      "Epoch 13 Val: 100%|██████████| 88/88 [00:00<00:00, 152.18it/s, Loss=0.0501]\n"
     ]
    },
    {
     "name": "stdout",
     "output_type": "stream",
     "text": [
      "Epoch 13 - Train Loss: 0.0002, Val Loss: 0.0484\n"
     ]
    },
    {
     "name": "stderr",
     "output_type": "stream",
     "text": [
      "Epoch 14 Train: 100%|██████████| 3079/3079 [00:41<00:00, 74.67it/s, Loss=0.000198]\n",
      "Epoch 14 Val: 100%|██████████| 88/88 [00:00<00:00, 141.19it/s, Loss=0.0389]\n"
     ]
    },
    {
     "name": "stdout",
     "output_type": "stream",
     "text": [
      "Epoch 14 - Train Loss: 0.0002, Val Loss: 0.0483\n"
     ]
    },
    {
     "name": "stderr",
     "output_type": "stream",
     "text": [
      "Epoch 15 Train: 100%|██████████| 3079/3079 [00:41<00:00, 75.06it/s, Loss=0.000115]\n",
      "Epoch 15 Val: 100%|██████████| 88/88 [00:00<00:00, 153.00it/s, Loss=0.0513]\n"
     ]
    },
    {
     "name": "stdout",
     "output_type": "stream",
     "text": [
      "Epoch 15 - Train Loss: 0.0002, Val Loss: 0.0485\n"
     ]
    },
    {
     "name": "stderr",
     "output_type": "stream",
     "text": [
      "Epoch 16 Train: 100%|██████████| 3079/3079 [00:41<00:00, 74.84it/s, Loss=0.000154]\n",
      "Epoch 16 Val: 100%|██████████| 88/88 [00:00<00:00, 142.82it/s, Loss=0.0452]\n"
     ]
    },
    {
     "name": "stdout",
     "output_type": "stream",
     "text": [
      "Epoch 16 - Train Loss: 0.0002, Val Loss: 0.0484\n",
      "Early stopping triggered. Best Val Loss: 0.0474\n"
     ]
    },
    {
     "data": {
      "image/png": "[encoded data removed]",
      "text/plain": [
       "<Figure size 1000x600 with 1 Axes>"
      ]
     },
     "metadata": {},
     "output_type": "display_data"
    },
    {
     "name": "stdout",
     "output_type": "stream",
     "text": [
      "Finished training for Oli.\n",
      "\n",
      "\n",
      "Starting training for Tym...\n",
      "\n",
      "\n",
      "Training ModelBasic for Tym...\n",
      "\n"
     ]
    },
    {
     "name": "stderr",
     "output_type": "stream",
     "text": [
      "Epoch 1 Train: 100%|██████████| 3227/3227 [00:43<00:00, 73.56it/s, Loss=0.213]\n",
      "Epoch 1 Val: 100%|██████████| 98/98 [00:00<00:00, 138.90it/s, Loss=0.184]\n"
     ]
    },
    {
     "name": "stdout",
     "output_type": "stream",
     "text": [
      "Epoch 1 - Train Loss: 0.2747, Val Loss: 0.2403\n",
      "New best model saved: Tym_ModelBasic_best_length384_step64.pth\n"
     ]
    },
    {
     "name": "stderr",
     "output_type": "stream",
     "text": [
      "Epoch 2 Train: 100%|██████████| 3227/3227 [00:43<00:00, 74.66it/s, Loss=0.148]\n",
      "Epoch 2 Val: 100%|██████████| 98/98 [00:00<00:00, 140.72it/s, Loss=0.238]\n"
     ]
    },
    {
     "name": "stdout",
     "output_type": "stream",
     "text": [
      "Epoch 2 - Train Loss: 0.1897, Val Loss: 0.2122\n",
      "New best model saved: Tym_ModelBasic_best_length384_step64.pth\n"
     ]
    },
    {
     "name": "stderr",
     "output_type": "stream",
     "text": [
      "Epoch 3 Train: 100%|██████████| 3227/3227 [00:43<00:00, 74.16it/s, Loss=0.0749]\n",
      "Epoch 3 Val: 100%|██████████| 98/98 [00:00<00:00, 135.69it/s, Loss=0.0732]\n"
     ]
    },
    {
     "name": "stdout",
     "output_type": "stream",
     "text": [
      "Epoch 3 - Train Loss: 0.1167, Val Loss: 0.1799\n",
      "New best model saved: Tym_ModelBasic_best_length384_step64.pth\n"
     ]
    },
    {
     "name": "stderr",
     "output_type": "stream",
     "text": [
      "Epoch 4 Train: 100%|██████████| 3227/3227 [00:44<00:00, 72.81it/s, Loss=0.0305]\n",
      "Epoch 4 Val: 100%|██████████| 98/98 [00:00<00:00, 140.84it/s, Loss=0.209]\n"
     ]
    },
    {
     "name": "stdout",
     "output_type": "stream",
     "text": [
      "Epoch 4 - Train Loss: 0.0569, Val Loss: 0.1600\n",
      "New best model saved: Tym_ModelBasic_best_length384_step64.pth\n"
     ]
    },
    {
     "name": "stderr",
     "output_type": "stream",
     "text": [
      "Epoch 5 Train: 100%|██████████| 3227/3227 [00:44<00:00, 73.25it/s, Loss=0.0189]\n",
      "Epoch 5 Val: 100%|██████████| 98/98 [00:00<00:00, 143.82it/s, Loss=0.0713]\n"
     ]
    },
    {
     "name": "stdout",
     "output_type": "stream",
     "text": [
      "Epoch 5 - Train Loss: 0.0263, Val Loss: 0.1400\n",
      "New best model saved: Tym_ModelBasic_best_length384_step64.pth\n"
     ]
    },
    {
     "name": "stderr",
     "output_type": "stream",
     "text": [
      "Epoch 6 Train: 100%|██████████| 3227/3227 [00:43<00:00, 74.92it/s, Loss=0.00529]\n",
      "Epoch 6 Val: 100%|██████████| 98/98 [00:00<00:00, 133.77it/s, Loss=0.232] \n"
     ]
    },
    {
     "name": "stdout",
     "output_type": "stream",
     "text": [
      "Epoch 6 - Train Loss: 0.0119, Val Loss: 0.1317\n",
      "New best model saved: Tym_ModelBasic_best_length384_step64.pth\n"
     ]
    },
    {
     "name": "stderr",
     "output_type": "stream",
     "text": [
      "Epoch 7 Train: 100%|██████████| 3227/3227 [00:43<00:00, 74.10it/s, Loss=0.00283]\n",
      "Epoch 7 Val: 100%|██████████| 98/98 [00:00<00:00, 143.29it/s, Loss=0.255] \n"
     ]
    },
    {
     "name": "stdout",
     "output_type": "stream",
     "text": [
      "Epoch 7 - Train Loss: 0.0053, Val Loss: 0.1267\n",
      "New best model saved: Tym_ModelBasic_best_length384_step64.pth\n"
     ]
    },
    {
     "name": "stderr",
     "output_type": "stream",
     "text": [
      "Epoch 8 Train: 100%|██████████| 3227/3227 [00:43<00:00, 74.37it/s, Loss=0.00173]\n",
      "Epoch 8 Val: 100%|██████████| 98/98 [00:00<00:00, 136.16it/s, Loss=0.16]  \n"
     ]
    },
    {
     "name": "stdout",
     "output_type": "stream",
     "text": [
      "Epoch 8 - Train Loss: 0.0024, Val Loss: 0.1247\n",
      "New best model saved: Tym_ModelBasic_best_length384_step64.pth\n"
     ]
    },
    {
     "name": "stderr",
     "output_type": "stream",
     "text": [
      "Epoch 9 Train: 100%|██████████| 3227/3227 [00:45<00:00, 71.66it/s, Loss=0.000999]\n",
      "Epoch 9 Val: 100%|██████████| 98/98 [00:00<00:00, 132.50it/s, Loss=0.0561]\n"
     ]
    },
    {
     "name": "stdout",
     "output_type": "stream",
     "text": [
      "Epoch 9 - Train Loss: 0.0012, Val Loss: 0.1251\n"
     ]
    },
    {
     "name": "stderr",
     "output_type": "stream",
     "text": [
      "Epoch 10 Train: 100%|██████████| 3227/3227 [00:44<00:00, 72.91it/s, Loss=0.000318]\n",
      "Epoch 10 Val: 100%|██████████| 98/98 [00:00<00:00, 144.77it/s, Loss=0.0681]\n"
     ]
    },
    {
     "name": "stdout",
     "output_type": "stream",
     "text": [
      "Epoch 10 - Train Loss: 0.0006, Val Loss: 0.1261\n"
     ]
    },
    {
     "name": "stderr",
     "output_type": "stream",
     "text": [
      "Epoch 11 Train: 100%|██████████| 3227/3227 [00:42<00:00, 75.38it/s, Loss=0.000215]\n",
      "Epoch 11 Val: 100%|██████████| 98/98 [00:00<00:00, 142.04it/s, Loss=0.102] \n"
     ]
    },
    {
     "name": "stdout",
     "output_type": "stream",
     "text": [
      "Epoch 11 - Train Loss: 0.0003, Val Loss: 0.1271\n"
     ]
    },
    {
     "name": "stderr",
     "output_type": "stream",
     "text": [
      "Epoch 12 Train: 100%|██████████| 3227/3227 [00:43<00:00, 74.10it/s, Loss=0.000108]\n",
      "Epoch 12 Val: 100%|██████████| 98/98 [00:00<00:00, 147.13it/s, Loss=0.0773]\n"
     ]
    },
    {
     "name": "stdout",
     "output_type": "stream",
     "text": [
      "Epoch 12 - Train Loss: 0.0002, Val Loss: 0.1270\n"
     ]
    },
    {
     "name": "stderr",
     "output_type": "stream",
     "text": [
      "Epoch 13 Train: 100%|██████████| 3227/3227 [00:43<00:00, 74.47it/s, Loss=7.63e-5] \n",
      "Epoch 13 Val: 100%|██████████| 98/98 [00:00<00:00, 141.75it/s, Loss=0.182] \n"
     ]
    },
    {
     "name": "stdout",
     "output_type": "stream",
     "text": [
      "Epoch 13 - Train Loss: 0.0001, Val Loss: 0.1280\n"
     ]
    },
    {
     "name": "stderr",
     "output_type": "stream",
     "text": [
      "Epoch 14 Train: 100%|██████████| 3227/3227 [00:43<00:00, 73.40it/s, Loss=6.78e-5] \n",
      "Epoch 14 Val: 100%|██████████| 98/98 [00:00<00:00, 142.82it/s, Loss=0.143] \n"
     ]
    },
    {
     "name": "stdout",
     "output_type": "stream",
     "text": [
      "Epoch 14 - Train Loss: 0.0001, Val Loss: 0.1277\n"
     ]
    },
    {
     "name": "stderr",
     "output_type": "stream",
     "text": [
      "Epoch 15 Train: 100%|██████████| 3227/3227 [00:42<00:00, 75.06it/s, Loss=4.71e-5] \n",
      "Epoch 15 Val: 100%|██████████| 98/98 [00:00<00:00, 151.41it/s, Loss=0.18]  \n"
     ]
    },
    {
     "name": "stdout",
     "output_type": "stream",
     "text": [
      "Epoch 15 - Train Loss: 0.0001, Val Loss: 0.1281\n"
     ]
    },
    {
     "name": "stderr",
     "output_type": "stream",
     "text": [
      "Epoch 16 Train: 100%|██████████| 3227/3227 [00:43<00:00, 74.22it/s, Loss=6.28e-5] \n",
      "Epoch 16 Val: 100%|██████████| 98/98 [00:00<00:00, 142.20it/s, Loss=0.262] \n"
     ]
    },
    {
     "name": "stdout",
     "output_type": "stream",
     "text": [
      "Epoch 16 - Train Loss: 0.0001, Val Loss: 0.1289\n"
     ]
    },
    {
     "name": "stderr",
     "output_type": "stream",
     "text": [
      "Epoch 17 Train: 100%|██████████| 3227/3227 [00:42<00:00, 75.35it/s, Loss=6.42e-5] \n",
      "Epoch 17 Val: 100%|██████████| 98/98 [00:00<00:00, 140.23it/s, Loss=0.236] \n"
     ]
    },
    {
     "name": "stdout",
     "output_type": "stream",
     "text": [
      "Epoch 17 - Train Loss: 0.0001, Val Loss: 0.1286\n"
     ]
    },
    {
     "name": "stderr",
     "output_type": "stream",
     "text": [
      "Epoch 18 Train: 100%|██████████| 3227/3227 [00:44<00:00, 72.23it/s, Loss=6.27e-5] \n",
      "Epoch 18 Val: 100%|██████████| 98/98 [00:00<00:00, 139.07it/s, Loss=0.191] \n"
     ]
    },
    {
     "name": "stdout",
     "output_type": "stream",
     "text": [
      "Epoch 18 - Train Loss: 0.0001, Val Loss: 0.1282\n",
      "Early stopping triggered. Best Val Loss: 0.1247\n"
     ]
    },
    {
     "data": {
      "image/png": "[encoded data removed]",
      "text/plain": [
       "<Figure size 1000x600 with 1 Axes>"
      ]
     },
     "metadata": {},
     "output_type": "display_data"
    },
    {
     "name": "stdout",
     "output_type": "stream",
     "text": [
      "Finished training for Tym.\n",
      "\n"
     ]
    }
   ],
   "source": [
    "persons = [\"Art\", \"Oli\", \"Tym\"]  # Replace with your list of persons\n",
    "window_length = 384\n",
    "step_size = 64\n",
    "input_channels = 14  # Adjust based on your dataset\n",
    "base_dir = \"user_database_windowed/length384_step64\"\n",
    "\n",
    "# Device setup\n",
    "device = torch.device(\"cuda\" if torch.cuda.is_available() else \"cpu\")\n",
    "\n",
    "# Iterate over each person\n",
    "for person in persons:\n",
    "    print(f\"\\nStarting training for {person}...\\n\")\n",
    "\n",
    "    # Step 1: Create dataloaders for the person\n",
    "    dataloaders = create_dataloaders(base_dir, person, input_channels=input_channels, batch_size=128)\n",
    "    pair_datasets = create_pair_datasets(dataloaders, batch_size=128)\n",
    "\n",
    "    # Step 2: Define models, loss function, and optimizer\n",
    "    for model_type in [\"ModelBasic\", \"ModelRes\", \"ModelResRNN\"]:  # Replace with actual model names/initializations\n",
    "        if model_type == \"ModelBasic\":\n",
    "            model = SiameseEEGNet(input_channels=input_channels, window_length=window_length).to(device)\n",
    "            #continue #bugged batch size?? needs to be 128 max\n",
    "        elif model_type == \"ModelRes\":\n",
    "            #model = SiameseEEGNet2(input_channels=input_channels, window_length=window_length).to(device)\n",
    "            continue\n",
    "        elif model_type == \"ModelResRNN\":\n",
    "            #model = SiameseEEGNetWithResidualAndLSTM(input_channels=input_channels, window_length=window_length).to(device)\n",
    "            continue\n",
    "\n",
    "        criterion = ContrastiveLoss(margin=1.0).to(device)\n",
    "        optimizer = torch.optim.Adam(model.parameters(), lr=5e-7)\n",
    "        #Decrease LR if no improvement for 3 epochs\n",
    "        scheduler = torch.optim.lr_scheduler.ReduceLROnPlateau(optimizer, mode='min', factor=0.1, patience=3)\n",
    "\n",
    "        print(f\"\\nTraining {model_type} for {person}...\\n\")\n",
    "\n",
    "        # Step 3: Train the model using the provided training loop\n",
    "        train_losses, val_losses = train(\n",
    "            model=model,\n",
    "            model_name=model_type,\n",
    "            scheduler=scheduler,\n",
    "            pair_datasets=pair_datasets,\n",
    "            criterion=criterion,\n",
    "            optimizer=optimizer,\n",
    "            patience=10,  # Stop if no improvement for 10 epochs\n",
    "            min_delta=0.001,  # Require at least 0.001 improvement in validation loss\n",
    "            device=device,\n",
    "            person=person,\n",
    "            window_length=window_length,\n",
    "            step_size=step_size,\n",
    "        )\n",
    "\n",
    "        # Step 4: Plot and save the loss curve\n",
    "        epochs = range(1, len(train_losses) + 1)\n",
    "        plt.figure(figsize=(10, 6))\n",
    "        plt.plot(epochs, train_losses, label='Train Loss', color='blue', marker='o')\n",
    "        plt.plot(epochs, val_losses, label='Validation Loss', color='red', marker='x')\n",
    "        plt.xlabel('Epochs')\n",
    "        plt.ylabel('Loss')\n",
    "        plt.title(f'Training and Validation Loss Curves for {model_type} ({person})')\n",
    "        plt.legend()\n",
    "        plt.grid(True)\n",
    "        model_name = f\"{person}_{model_type}_final_length{window_length}_step{step_size}\"\n",
    "        filename = f\"loss_curve_{model_name}.png\"\n",
    "        plt.savefig(filename)\n",
    "        plt.show()\n",
    "\n",
    "    print(f\"Finished training for {person}.\\n\")\n"
   ]
  },
  {
   "cell_type": "markdown",
   "metadata": {},
   "source": [
    "Authentication Process\n",
    "\n",
    "Generate Embeddings for the Genuine Person\n",
    "\n",
    "Take all available samples (or a representative subset) from the genuine person (user to authenticate).\n",
    "\n",
    "Pass these samples through the feature extractor of the Siamese network to generate reference embeddings.\n",
    "\n",
    "Test Authentication Pairs\n",
    "\n",
    "Take samples from the second dataset (test dataset).\n",
    "\n",
    "Pair each sample with the genuine person's data (from step 1).\n",
    "\n",
    "Compute similarity scores for these pairs.\n",
    "\n",
    "Apply a Threshold\n",
    "\n",
    "Compare the similarity scores against a predefined threshold.\n",
    "\n",
    "If the similarity score exceeds the threshold, classify the pair as \"similar\" (authenticated).\n",
    "\n",
    "Otherwise, classify as \"not similar\" (not authenticated)."
   ]
  },
  {
   "cell_type": "markdown",
   "metadata": {},
   "source": [
    "Key Considerations\n",
    "\n",
    "Threshold Tuning:\n",
    "\n",
    "The threshold is crucial for deciding similarity.\n",
    "\n",
    "Use a validation dataset to tune the threshold for balancing false positives (accepting impostors) and false negatives (rejecting genuine users).\n",
    "\n",
    "Handling Variability in Genuine Samples:\n",
    "\n",
    "If the genuine person's data is noisy or has significant variation, consider averaging the embeddings from multiple samples to form a single, robust reference embedding.\n",
    "\n",
    "Testing on Impostor Data:\n",
    "\n",
    "To evaluate the system's robustness, include test pairs with genuine samples paired against impostor samples.\n",
    "\n",
    "Measure false acceptance rate (FAR) and false rejection rate (FRR).\n"
   ]
  },
  {
   "cell_type": "markdown",
   "metadata": {},
   "source": [
    "TODO: Euclidean distance"
   ]
  },
  {
   "cell_type": "code",
   "execution_count": 25,
   "metadata": {},
   "outputs": [],
   "source": [
    "def compute_embeddings(dataloader, model, device):\n",
    "    \"\"\"\n",
    "    Compute embeddings for a dataloader using the Siamese network.\n",
    "    Args:\n",
    "        dataloader: DataLoader object containing the dataset.\n",
    "        model: Trained Siamese network.\n",
    "        device: Device ('cpu' or 'cuda') to run the model.\n",
    "    Returns:\n",
    "        Tensor of embeddings.\n",
    "    \"\"\"\n",
    "    embeddings = []\n",
    "    with torch.no_grad():\n",
    "        for batch in dataloader:\n",
    "            data = batch[0].to(device)  # Assumes data is in the first element of batch\n",
    "            embedding, _ = model(data, data)  # Forward pass\n",
    "            embeddings.append(embedding.cpu())  # Store on CPU to save GPU memory\n",
    "    return torch.cat(embeddings, dim=0)\n",
    "\n",
    "\n",
    "def authenticate_Euclidean(model, dataloaders, threshold, device):\n",
    "    \"\"\"\n",
    "    Authenticate using a Siamese network with Euclidean distance.\n",
    "    Args:\n",
    "        model: Trained Siamese network model.\n",
    "        dataloaders: DataLoader containing test data.\n",
    "        threshold: Threshold for classification.\n",
    "        device: Device ('cpu' or 'cuda') to run the model.\n",
    "    Returns:\n",
    "        GAR (Genuine Acceptance Rate) and IRR (Impostor Rejection Rate).\n",
    "    \"\"\"\n",
    "    model.eval()\n",
    "\n",
    "    # Compute embeddings\n",
    "    genuine_embeddings = compute_embeddings(dataloaders['test_branch1'], model, device)\n",
    "    impostor_embeddings = compute_embeddings(dataloaders['test_branch2'], model, device)\n",
    "\n",
    "    # Compute pairwise distances\n",
    "    genuine_distances = torch.cdist(genuine_embeddings, genuine_embeddings, p=2)\n",
    "    impostor_distances = torch.cdist(impostor_embeddings, genuine_embeddings, p=2)\n",
    "\n",
    "    # Mask diagonal (self-distances) for genuine pairs\n",
    "    genuine_distances.fill_diagonal_(float('inf'))\n",
    "\n",
    "    # Flatten distances for easier thresholding\n",
    "    genuine_scores = genuine_distances.min(dim=1).values\n",
    "    impostor_scores = impostor_distances.min(dim=1).values\n",
    "\n",
    "    # Evaluate based on the threshold\n",
    "    genuine_accepted = (genuine_scores <= threshold).sum().item()\n",
    "    impostor_rejected = (impostor_scores > threshold).sum().item()\n",
    "\n",
    "    GAR = genuine_accepted / genuine_scores.size(0) * 100\n",
    "    IRR = impostor_rejected / impostor_scores.size(0) * 100\n",
    "\n",
    "    print(f\"Genuine Acceptance Rate: {GAR:.2f}% ({genuine_accepted}/{genuine_scores.size(0)})\")\n",
    "    print(f\"Impostor Rejection Rate: {IRR:.2f}% ({impostor_rejected}/{impostor_scores.size(0)})\")\n",
    "\n",
    "    return GAR, IRR\n"
   ]
  },
  {
   "cell_type": "code",
   "execution_count": 26,
   "metadata": {},
   "outputs": [],
   "source": [
    "from sklearn.metrics import accuracy_score, roc_auc_score, precision_recall_curve, auc\n",
    "import matplotlib.pyplot as plt\n",
    "\n",
    "def authenticate_Euclidean(model, dataloaders, threshold, device):\n",
    "    \"\"\"\n",
    "    Authenticate using a Siamese network with Euclidean distance.\n",
    "    Args:\n",
    "        model: Trained Siamese network model.\n",
    "        dataloaders: DataLoader containing test data.\n",
    "        threshold: Threshold for classification.\n",
    "        device: Device ('cpu' or 'cuda') to run the model.\n",
    "    Returns:\n",
    "        GAR (Genuine Acceptance Rate), IRR (Impostor Rejection Rate),\n",
    "        Accuracy, ROC AUC, Precision-Recall AUC\n",
    "    \"\"\"\n",
    "    model.eval()\n",
    "\n",
    "    # Compute embeddings\n",
    "    genuine_embeddings = compute_embeddings(dataloaders['test_branch1'], model, device)\n",
    "    impostor_embeddings = compute_embeddings(dataloaders['test_random'], model, device)\n",
    "\n",
    "    # Compute pairwise distances\n",
    "    genuine_distances = torch.cdist(genuine_embeddings, genuine_embeddings, p=2)\n",
    "    impostor_distances = torch.cdist(impostor_embeddings, genuine_embeddings, p=2)\n",
    "\n",
    "    # Mask diagonal (self-distances) for genuine pairs\n",
    "    genuine_distances.fill_diagonal_(float('inf'))\n",
    "\n",
    "    # Flatten distances for easier thresholding\n",
    "    genuine_scores = genuine_distances.min(dim=1).values\n",
    "    impostor_scores = impostor_distances.min(dim=1).values\n",
    "\n",
    "    # Problematic genuine samples and accepted impostor samples\n",
    "    problematic_genuine_count = (genuine_scores < threshold).sum().item()\n",
    "    accepted_impostor_count = (impostor_scores < threshold).sum().item()\n",
    "    \n",
    "    print(f\"Problematic Genuine Samples Count (dist < {threshold}): {problematic_genuine_count}\")\n",
    "    print(f\"Accepted Impostor Samples Count (dist < {threshold}): {accepted_impostor_count}\")\n",
    "\n",
    "    # Evaluate based on the threshold\n",
    "    genuine_accepted = (genuine_scores <= threshold).sum().item()\n",
    "    impostor_rejected = (impostor_scores > threshold).sum().item()\n",
    "\n",
    "    GAR = genuine_accepted / genuine_scores.size(0) * 100\n",
    "    IRR = impostor_rejected / impostor_scores.size(0) * 100\n",
    "\n",
    "    print(f\"Genuine Acceptance Rate: {GAR:.2f}% ({genuine_accepted}/{genuine_scores.size(0)})\")\n",
    "    print(f\"Impostor Rejection Rate: {IRR:.2f}% ({impostor_rejected}/{impostor_scores.size(0)})\")\n",
    "\n",
    "    # Calculate accuracy\n",
    "    y_true = [1] * len(genuine_scores) + [0] * len(impostor_scores)  # 1 for genuine, 0 for impostor\n",
    "    y_pred = [1 if score <= threshold else 0 for score in genuine_scores] + [1 if score <= threshold else 0 for score in impostor_scores]\n",
    "    accuracy = accuracy_score(y_true, y_pred)\n",
    "    print(f\"Accuracy: {accuracy * 100:.2f}%\")\n",
    "\n",
    "    # Calculate ROC AUC\n",
    "    try:\n",
    "        roc_auc = roc_auc_score(y_true, genuine_scores.tolist() + impostor_scores.tolist())\n",
    "        print(f\"ROC AUC: {roc_auc:.2f}\")\n",
    "    except ValueError:\n",
    "        print(\"ROC AUC calculation failed. Possibly due to all samples belonging to one class.\")\n",
    "\n",
    "    # Precision-Recall curve\n",
    "    precision, recall, _ = precision_recall_curve(y_true, genuine_scores.tolist() + impostor_scores.tolist())\n",
    "    pr_auc = auc(recall, precision)\n",
    "    print(f\"Precision-Recall AUC: {pr_auc:.2f}\")\n",
    "\n",
    "    # Plot Precision-Recall Curve\n",
    "    plt.figure(figsize=(8, 6))\n",
    "    plt.plot(recall, precision, color='blue', label=f'PR AUC: {pr_auc:.2f}')\n",
    "    plt.xlabel('Recall')\n",
    "    plt.ylabel('Precision')\n",
    "    plt.title('Precision-Recall Curve')\n",
    "    plt.legend()\n",
    "    plt.grid(True)\n",
    "    plt.show()\n",
    "\n",
    "    return GAR, IRR, accuracy, roc_auc, pr_auc\n"
   ]
  },
  {
   "cell_type": "code",
   "execution_count": null,
   "metadata": {},
   "outputs": [
    {
     "data": {
      "text/plain": [
       "SiameseEEGNet(\n",
       "  (res_block1): ResidualBlock(\n",
       "    (conv1): Conv1d(14, 32, kernel_size=(3,), stride=(1,), padding=(1,))\n",
       "    (bn1): BatchNorm1d(32, eps=1e-05, momentum=0.1, affine=True, track_running_stats=True)\n",
       "    (conv2): Conv1d(32, 32, kernel_size=(3,), stride=(1,), padding=(1,))\n",
       "    (bn2): BatchNorm1d(32, eps=1e-05, momentum=0.1, affine=True, track_running_stats=True)\n",
       "    (match_channels): Conv1d(14, 32, kernel_size=(1,), stride=(1,))\n",
       "  )\n",
       "  (res_block2): ResidualBlock(\n",
       "    (conv1): Conv1d(32, 64, kernel_size=(3,), stride=(1,), padding=(1,))\n",
       "    (bn1): BatchNorm1d(64, eps=1e-05, momentum=0.1, affine=True, track_running_stats=True)\n",
       "    (conv2): Conv1d(64, 64, kernel_size=(3,), stride=(1,), padding=(1,))\n",
       "    (bn2): BatchNorm1d(64, eps=1e-05, momentum=0.1, affine=True, track_running_stats=True)\n",
       "    (match_channels): Conv1d(32, 64, kernel_size=(1,), stride=(1,))\n",
       "  )\n",
       "  (res_block3): ResidualBlock(\n",
       "    (conv1): Conv1d(64, 128, kernel_size=(3,), stride=(1,), padding=(1,))\n",
       "    (bn1): BatchNorm1d(128, eps=1e-05, momentum=0.1, affine=True, track_running_stats=True)\n",
       "    (conv2): Conv1d(128, 128, kernel_size=(3,), stride=(1,), padding=(1,))\n",
       "    (bn2): BatchNorm1d(128, eps=1e-05, momentum=0.1, affine=True, track_running_stats=True)\n",
       "    (match_channels): Conv1d(64, 128, kernel_size=(1,), stride=(1,))\n",
       "  )\n",
       "  (pool): AdaptiveAvgPool1d(output_size=1)\n",
       "  (fc): Sequential(\n",
       "    (0): Linear(in_features=128, out_features=32, bias=True)\n",
       "  )\n",
       ")"
      ]
     },
     "execution_count": 105,
     "metadata": {},
     "output_type": "execute_result"
    }
   ],
   "source": [
    "model.load_state_dict(torch.load(\"Art_model_best_length384_step64.pth\"))\n",
    "model.to(device)"
   ]
  },
  {
   "cell_type": "markdown",
   "metadata": {},
   "source": [
    "Accuracy: Shows the proportion of correctly classified pairs. However, if your test set is imbalanced (e.g., more positive pairs than negative), accuracy may not be a good indicator of model performance.\n",
    "\n",
    "AUC (Area Under ROC Curve): Measures the ability of the model to discriminate between positive and negative pairs at various thresholds. A higher AUC indicates better performance.\n",
    "\n",
    "Precision-Recall Curve: Useful when dealing with imbalanced datasets, as it shows how well the model performs with respect to both positive and negative classes."
   ]
  },
  {
   "cell_type": "code",
   "execution_count": null,
   "metadata": {},
   "outputs": [
    {
     "name": "stdout",
     "output_type": "stream",
     "text": [
      "Problematic Genuine Samples Count (dist < 0.11): 29\n",
      "Accepted Impostor Samples Count (dist < 0.11): 2\n",
      "Genuine Acceptance Rate: 93.55% (29/31)\n",
      "Impostor Rejection Rate: 93.33% (28/30)\n",
      "Accuracy: 93.44%\n",
      "ROC AUC: 0.02\n",
      "Precision-Recall AUC: 0.31\n"
     ]
    },
    {
     "data": {
      "image/png": "[encoded data removed]",
      "text/plain": [
       "<Figure size 800x600 with 1 Axes>"
      ]
     },
     "metadata": {},
     "output_type": "display_data"
    },
    {
     "data": {
      "text/plain": [
       "(93.54838709677419,\n",
       " 93.33333333333333,\n",
       " 0.9344262295081968,\n",
       " 0.022580645161290325,\n",
       " 0.3142075033724915)"
      ]
     },
     "execution_count": 130,
     "metadata": {},
     "output_type": "execute_result"
    }
   ],
   "source": [
    "#for impostor\n",
    "authenticate_Euclidean(model, dataloaders, threshold=0.11, device = device) \n"
   ]
  },
  {
   "cell_type": "code",
   "execution_count": null,
   "metadata": {},
   "outputs": [
    {
     "name": "stdout",
     "output_type": "stream",
     "text": [
      "Problematic Genuine Samples Count (dist < 0.11): 29\n",
      "Accepted Impostor Samples Count (dist < 0.11): 15\n",
      "Genuine Acceptance Rate: 93.55% (29/31)\n",
      "Impostor Rejection Rate: 51.61% (16/31)\n",
      "Accuracy: 72.58%\n",
      "ROC AUC: 0.08\n",
      "Precision-Recall AUC: 0.31\n"
     ]
    },
    {
     "data": {
      "image/png": "[encoded data removed]",
      "text/plain": [
       "<Figure size 800x600 with 1 Axes>"
      ]
     },
     "metadata": {},
     "output_type": "display_data"
    },
    {
     "data": {
      "text/plain": [
       "(93.54838709677419,\n",
       " 51.61290322580645,\n",
       " 0.7258064516129032,\n",
       " 0.07700312174817897,\n",
       " 0.3144426686724928)"
      ]
     },
     "execution_count": 132,
     "metadata": {},
     "output_type": "execute_result"
    }
   ],
   "source": [
    "#for random\n",
    "authenticate_Euclidean(model, dataloaders, threshold=0.11, device = device) "
   ]
  },
  {
   "cell_type": "markdown",
   "metadata": {},
   "source": [
    "Even for random eye movements of the person, the model has a higher chance to authorize the person than for the impostors doing the correct eye movement. This means the network trains not only strictly for eye movement, but also differentiates between humans according to their brainwaves."
   ]
  },
  {
   "cell_type": "markdown",
   "metadata": {},
   "source": [
    "JAK USTAWIAĆ PRAWIDŁOWO THRESHOLD"
   ]
  },
  {
   "cell_type": "code",
   "execution_count": null,
   "metadata": {},
   "outputs": [],
   "source": [
    "def plot_threshold_analysis_with_progress(model, dataloaders, device):\n",
    "    \"\"\"\n",
    "    Plot the Genuine Acceptance Rate (GAR) and Impostor Rejection Rate (IRR) \n",
    "    as a function of threshold with progress tracking at the threshold level.\n",
    "    Additionally, prints the best threshold where GAR > 96% and IRR is maximized.\n",
    "    \"\"\"\n",
    "    thresholds = np.linspace(0, 1, 1000)  # 1000 threshold values between 0 and 1\n",
    "    GAR_list = []\n",
    "    IRR_list = []\n",
    "\n",
    "    best_threshold = None\n",
    "    max_IRR = 0\n",
    "\n",
    "    # Loop over all thresholds with tqdm progress bar tracking the overall threshold analysis\n",
    "    for threshold in tqdm(thresholds, desc=\"Analyzing thresholds\", unit=\"threshold\"):\n",
    "        GAR, IRR = authenticate_Euclidean(model, dataloaders, threshold, device)\n",
    "        GAR_list.append(GAR)\n",
    "        IRR_list.append(IRR)\n",
    "\n",
    "        # Check if GAR > 96% and IRR is the largest\n",
    "        if GAR > 96 and IRR > max_IRR:\n",
    "            max_IRR = IRR\n",
    "            best_threshold = threshold\n",
    "\n",
    "    # Print the best threshold and corresponding rates\n",
    "    if best_threshold is not None:\n",
    "        print(f\"Best Threshold: {best_threshold:.4f}\")\n",
    "        print(f\"Genuine Acceptance Rate (GAR): {GAR_list[np.argmax(thresholds == best_threshold)]:.2f}%\")\n",
    "        print(f\"Impostor Rejection Rate (IRR): {max_IRR:.2f}%\")\n",
    "    else:\n",
    "        print(\"No threshold found where GAR > 96%.\")\n",
    "\n",
    "    # Plot Genuine Acceptance Rate (GAR) and Impostor Rejection Rate (IRR)\n",
    "    plt.figure(figsize=(10, 6))\n",
    "    plt.plot(thresholds, GAR_list, label='Genuine Acceptance Rate (GAR)', color='blue')\n",
    "    plt.plot(thresholds, IRR_list, label='Impostor Rejection Rate (IRR)', color='red')\n",
    "    plt.xlabel('Threshold')\n",
    "    plt.ylabel('Rate (%)')\n",
    "    plt.title('Threshold Analysis - GAR vs IRR')\n",
    "    plt.legend()\n",
    "    plt.grid(True)\n",
    "    plt.show()\n"
   ]
  },
  {
   "cell_type": "code",
   "execution_count": null,
   "metadata": {},
   "outputs": [
    {
     "name": "stderr",
     "output_type": "stream",
     "text": [
      "Analyzing thresholds: 100%|██████████| 1000/1000 [03:33<00:00,  4.69threshold/s]\n"
     ]
    },
    {
     "name": "stdout",
     "output_type": "stream",
     "text": [
      "Best Threshold: 0.1542\n",
      "Genuine Acceptance Rate (GAR): 96.77%\n",
      "Impostor Rejection Rate (IRR): 70.00%\n"
     ]
    },
    {
     "data": {
      "image/png": "[encoded data removed]",
      "text/plain": [
       "<Figure size 1000x600 with 1 Axes>"
      ]
     },
     "metadata": {},
     "output_type": "display_data"
    }
   ],
   "source": [
    "plot_threshold_analysis_with_progress(model, dataloaders, device)"
   ]
  },
  {
   "cell_type": "markdown",
   "metadata": {},
   "source": [
    "NOW USING COSINE"
   ]
  },
  {
   "cell_type": "code",
   "execution_count": null,
   "metadata": {},
   "outputs": [],
   "source": [
    "def authenticate(model, dataloaders, threshold, device):\n",
    "    \"\"\"\n",
    "    Authenticate using a Siamese network.\n",
    "    Args:\n",
    "        model: The trained Siamese network model.\n",
    "        dataloaders: The DataLoader containing test data.\n",
    "        threshold: The threshold for classification.\n",
    "        device: The device ('cpu' or 'cuda') to run the model.\n",
    "    \"\"\"\n",
    "    model.eval()\n",
    "\n",
    "    # Compute embeddings for genuine and impostor datasets\n",
    "    print(\"Processing genuine data...\")\n",
    "    genuine_embeddings = compute_embeddings(dataloaders['test_branch1'], model, device)\n",
    "    print(\"Processing impostor data...\")\n",
    "    impostor_embeddings = compute_embeddings(dataloaders['test_branch2'], model, device)\n",
    "\n",
    "    # Compute similarity scores between genuine embeddings and impostor embeddings\n",
    "    print(\"Computing similarity scores...\")\n",
    "    genuine_scores = []\n",
    "    impostor_scores = []\n",
    "\n",
    "    for gen_emb in genuine_embeddings:\n",
    "        scores = torch.cosine_similarity(gen_emb.unsqueeze(0), genuine_embeddings, dim=1)\n",
    "        genuine_scores.extend(scores.cpu().numpy())\n",
    "    \n",
    "    for imp_emb in impostor_embeddings:\n",
    "        scores = torch.cosine_similarity(imp_emb.unsqueeze(0), genuine_embeddings, dim=1)\n",
    "        impostor_scores.extend(scores.cpu().numpy())\n",
    "    \n",
    "    # Count problematic genuine samples (scores below threshold)\n",
    "    problematic_genuine_count = sum(score < threshold for score in genuine_scores)\n",
    "    print(f\"Problematic Genuine Samples Count: {problematic_genuine_count}\")\n",
    "\n",
    "    # Count misclassified impostor samples (scores above threshold)\n",
    "    misclassified_impostor_count = sum(score >= threshold for score in impostor_scores)\n",
    "    print(f\"Misclassified Impostor Samples Count: {misclassified_impostor_count}\")\n",
    "\n",
    "    # Calculate rates\n",
    "    genuine_accepted = sum(score >= threshold for score in genuine_scores)\n",
    "    impostor_rejected = sum(score < threshold for score in impostor_scores)\n",
    "\n",
    "    GAR = genuine_accepted / len(genuine_scores) * 100\n",
    "    IRR = impostor_rejected / len(impostor_scores) * 100\n",
    "\n",
    "    print(f\"Genuine Acceptance Rate: {GAR:.2f}% ({genuine_accepted}/{len(genuine_scores)})\")\n",
    "    print(f\"Impostor Rejection Rate: {IRR:.2f}% ({impostor_rejected}/{len(impostor_scores)})\")\n",
    "\n",
    "    return GAR, IRR\n"
   ]
  },
  {
   "cell_type": "code",
   "execution_count": null,
   "metadata": {},
   "outputs": [
    {
     "name": "stdout",
     "output_type": "stream",
     "text": [
      "Processing genuine data...\n",
      "Processing impostor data...\n",
      "Computing similarity scores...\n",
      "Problematic Genuine Samples Count: 6\n",
      "Misclassified Impostor Samples Count: 168\n",
      "Genuine Acceptance Rate: 99.38% (955/961)\n",
      "Impostor Rejection Rate: 81.94% (762/930)\n"
     ]
    },
    {
     "data": {
      "text/plain": [
       "(99.37565036420395, 81.93548387096774)"
      ]
     },
     "execution_count": 128,
     "metadata": {},
     "output_type": "execute_result"
    }
   ],
   "source": [
    "authenticate(model, dataloaders, threshold=0.85, device = device)"
   ]
  },
  {
   "cell_type": "markdown",
   "metadata": {},
   "source": [
    "For random:"
   ]
  },
  {
   "cell_type": "code",
   "execution_count": null,
   "metadata": {},
   "outputs": [
    {
     "name": "stdout",
     "output_type": "stream",
     "text": [
      "Processing genuine data...\n"
     ]
    },
    {
     "name": "stderr",
     "output_type": "stream",
     "text": [
      "Computing embeddings: 100%|██████████| 1/1 [00:00<00:00, 100.05it/s]\n"
     ]
    },
    {
     "name": "stdout",
     "output_type": "stream",
     "text": [
      "Processing impostor data...\n"
     ]
    },
    {
     "name": "stderr",
     "output_type": "stream",
     "text": [
      "Computing embeddings: 100%|██████████| 1/1 [00:00<00:00, 142.74it/s]"
     ]
    },
    {
     "name": "stdout",
     "output_type": "stream",
     "text": [
      "Computing similarity scores...\n",
      "Problematic Genuine Samples Count: 1074\n",
      "Misclassified Impostor Samples Count: 390\n",
      "Genuine Acceptance Rate: 41.91% (775/1849)\n",
      "Impostor Rejection Rate: 78.41% (1416/1806)\n"
     ]
    },
    {
     "name": "stderr",
     "output_type": "stream",
     "text": [
      "\n"
     ]
    },
    {
     "data": {
      "text/plain": [
       "(41.914548404543, 78.40531561461795)"
      ]
     },
     "execution_count": 88,
     "metadata": {},
     "output_type": "execute_result"
    }
   ],
   "source": [
    "authenticate(model, dataloaders, threshold=0.99, device = device)"
   ]
  },
  {
   "cell_type": "markdown",
   "metadata": {},
   "source": [
    "LOGOWANIE"
   ]
  }
 ],
 "metadata": {
  "kernelspec": {
   "display_name": "base",
   "language": "python",
   "name": "python3"
  },
  "language_info": {
   "codemirror_mode": {
    "name": "ipython",
    "version": 3
   },
   "file_extension": ".py",
   "mimetype": "text/x-python",
   "name": "python",
   "nbconvert_exporter": "python",
   "pygments_lexer": "ipython3",
   "version": "3.12.7"
  }
 },
 "nbformat": 4,
 "nbformat_minor": 2
}
